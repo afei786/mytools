{
 "cells": [
  {
   "cell_type": "code",
   "execution_count": 1,
   "id": "7cb8ddf5-d5a7-470e-8c76-f0856925a310",
   "metadata": {},
   "outputs": [],
   "source": [
    "# -*- coding:utf-8 -*-\n",
    "'''\n",
    "脚本功能说明：计算xml文件中有多少个标签，以及每个标签有多少数量，对数据进行统计。\n",
    "参数说明：xml_path 表示xml文件的地址，到文件夹即可。\n",
    "'''\n",
    "\n",
    "import os\n",
    "import xml.etree.ElementTree as ET\n",
    "import numpy as np\n",
    "\n",
    "np.set_printoptions(suppress=True, threshold=np.inf)\n",
    "import matplotlib\n",
    "from PIL import Image\n",
    "\n"
   ]
  },
  {
   "cell_type": "code",
   "execution_count": null,
   "id": "f1c5138d-5977-475f-859a-0a6e3a6c551b",
   "metadata": {},
   "outputs": [],
   "source": [
    "\n",
    "def parse_obj(xml_path, filename):\n",
    "    tree = ET.parse(xml_path + filename)\n",
    "    objects = []\n",
    "    for obj in tree.findall('object'):\n",
    "        obj_struct = {}\n",
    "        obj_struct['name'] = obj.find('name').text\n",
    "        objects.append(obj_struct)\n",
    "    return objects\n",
    "\n",
    "\n",
    "if __name__ == '__main__':\n",
    "    xml_path = ' '\n",
    "    print(xml_path)\n",
    "    filenamess = os.listdir(xml_path)\n",
    "    filenames = []\n",
    "    for name in filenamess:\n",
    "        if name.endswith('.jpg'):\n",
    "            continue\n",
    "        if name.endswith('.png'):\n",
    "            continue\n",
    "        if name.endswith('.ini'):\n",
    "            continue\n",
    "        if name.endswith('.bmp'):\n",
    "            continue\n",
    "        # name = name.replace('.jpg', '')\n",
    "        name = name.replace('.xml', '')\n",
    "        # if name == 'desktop.ini':\n",
    "        #     continue\n",
    "        filenames.append(name)  # 删选掉不合格的数据\n",
    "    recs = {}\n",
    "    obs_shape = {}\n",
    "    classnames = []\n",
    "    num_objs = {}\n",
    "    obj_avg = {}\n",
    "    for i, name in enumerate(filenames):\n",
    "        recs[name] = parse_obj(xml_path, name + '.xml')\n",
    "    for name in filenames:\n",
    "        for object in recs[name]:\n",
    "            if object['name'] not in num_objs.keys():\n",
    "                num_objs[object['name']] = 1\n",
    "            else:\n",
    "                num_objs[object['name']] += 1\n",
    "            if object['name'] not in classnames:\n",
    "                classnames.append(object['name'])\n",
    "    for name in classnames:\n",
    "        print('{}:{}'.format(name, num_objs[name]))\n",
    "    print('over')"
   ]
  },
  {
   "cell_type": "code",
   "execution_count": null,
   "id": "841e88c0-1e1d-4dea-9809-dec0c61d7a65",
   "metadata": {},
   "outputs": [],
   "source": []
  }
 ],
 "metadata": {
  "kernelspec": {
   "display_name": "Python 3 (ipykernel)",
   "language": "python",
   "name": "python3"
  },
  "language_info": {
   "codemirror_mode": {
    "name": "ipython",
    "version": 3
   },
   "file_extension": ".py",
   "mimetype": "text/x-python",
   "name": "python",
   "nbconvert_exporter": "python",
   "pygments_lexer": "ipython3",
   "version": "3.9.16"
  }
 },
 "nbformat": 4,
 "nbformat_minor": 5
}
