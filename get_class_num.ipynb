{
 "cells": [
  {
   "cell_type": "code",
   "execution_count": 1,
   "id": "7cb8ddf5-d5a7-470e-8c76-f0856925a310",
   "metadata": {},
   "outputs": [],
   "source": [
    "# -*- coding:utf-8 -*-\n",
    "'''\n",
    "脚本功能说明：计算xml文件中有多少个标签，以及每个标签有多少数量，对数据进行统计。\n",
    "参数说明：xml_path 表示xml文件的地址，到文件夹即可。\n",
    "'''\n",
    "\n",
    "import os\n",
    "import xml.etree.ElementTree as ET\n",
    "import numpy as np\n",
    "\n",
    "np.set_printoptions(suppress=True, threshold=np.inf)\n",
    "import matplotlib\n",
    "from PIL import Image\n",
    "\n"
   ]
  },
  {
   "cell_type": "code",
   "execution_count": 2,
   "id": "f1c5138d-5977-475f-859a-0a6e3a6c551b",
   "metadata": {},
   "outputs": [
    {
     "name": "stdout",
     "output_type": "stream",
     "text": [
      "/media/boyan/Windows/sf_data/qiaoliang/ah/fengwo_mamian/fengwo_mamian/labels/val2/\n"
     ]
    },
    {
     "ename": "FileNotFoundError",
     "evalue": "[Errno 2] No such file or directory: '/media/boyan/Windows/sf_data/qiaoliang/ah/fengwo_mamian/fengwo_mamian/labels/val2/AG226055384153911296_rotated.txt.xml'",
     "output_type": "error",
     "traceback": [
      "\u001b[0;31m---------------------------------------------------------------------------\u001b[0m",
      "\u001b[0;31mFileNotFoundError\u001b[0m                         Traceback (most recent call last)",
      "Cell \u001b[0;32mIn [2], line 36\u001b[0m\n\u001b[1;32m     34\u001b[0m obj_avg \u001b[38;5;241m=\u001b[39m {}\n\u001b[1;32m     35\u001b[0m \u001b[38;5;28;01mfor\u001b[39;00m i, name \u001b[38;5;129;01min\u001b[39;00m \u001b[38;5;28menumerate\u001b[39m(filenames):\n\u001b[0;32m---> 36\u001b[0m     recs[name] \u001b[38;5;241m=\u001b[39m \u001b[43mparse_obj\u001b[49m\u001b[43m(\u001b[49m\u001b[43mxml_path\u001b[49m\u001b[43m,\u001b[49m\u001b[43m \u001b[49m\u001b[43mname\u001b[49m\u001b[43m \u001b[49m\u001b[38;5;241;43m+\u001b[39;49m\u001b[43m \u001b[49m\u001b[38;5;124;43m'\u001b[39;49m\u001b[38;5;124;43m.xml\u001b[39;49m\u001b[38;5;124;43m'\u001b[39;49m\u001b[43m)\u001b[49m\n\u001b[1;32m     37\u001b[0m \u001b[38;5;28;01mfor\u001b[39;00m name \u001b[38;5;129;01min\u001b[39;00m filenames:\n\u001b[1;32m     38\u001b[0m     \u001b[38;5;28;01mfor\u001b[39;00m \u001b[38;5;28mobject\u001b[39m \u001b[38;5;129;01min\u001b[39;00m recs[name]:\n",
      "Cell \u001b[0;32mIn [2], line 2\u001b[0m, in \u001b[0;36mparse_obj\u001b[0;34m(xml_path, filename)\u001b[0m\n\u001b[1;32m      1\u001b[0m \u001b[38;5;28;01mdef\u001b[39;00m \u001b[38;5;21mparse_obj\u001b[39m(xml_path, filename):\n\u001b[0;32m----> 2\u001b[0m     tree \u001b[38;5;241m=\u001b[39m \u001b[43mET\u001b[49m\u001b[38;5;241;43m.\u001b[39;49m\u001b[43mparse\u001b[49m\u001b[43m(\u001b[49m\u001b[43mxml_path\u001b[49m\u001b[43m \u001b[49m\u001b[38;5;241;43m+\u001b[39;49m\u001b[43m \u001b[49m\u001b[43mfilename\u001b[49m\u001b[43m)\u001b[49m\n\u001b[1;32m      3\u001b[0m     objects \u001b[38;5;241m=\u001b[39m []\n\u001b[1;32m      4\u001b[0m     \u001b[38;5;28;01mfor\u001b[39;00m obj \u001b[38;5;129;01min\u001b[39;00m tree\u001b[38;5;241m.\u001b[39mfindall(\u001b[38;5;124m'\u001b[39m\u001b[38;5;124mobject\u001b[39m\u001b[38;5;124m'\u001b[39m):\n",
      "File \u001b[0;32m~/miniconda3/lib/python3.9/xml/etree/ElementTree.py:1229\u001b[0m, in \u001b[0;36mparse\u001b[0;34m(source, parser)\u001b[0m\n\u001b[1;32m   1220\u001b[0m \u001b[38;5;124;03m\"\"\"Parse XML document into element tree.\u001b[39;00m\n\u001b[1;32m   1221\u001b[0m \n\u001b[1;32m   1222\u001b[0m \u001b[38;5;124;03m*source* is a filename or file object containing XML data,\u001b[39;00m\n\u001b[0;32m   (...)\u001b[0m\n\u001b[1;32m   1226\u001b[0m \n\u001b[1;32m   1227\u001b[0m \u001b[38;5;124;03m\"\"\"\u001b[39;00m\n\u001b[1;32m   1228\u001b[0m tree \u001b[38;5;241m=\u001b[39m ElementTree()\n\u001b[0;32m-> 1229\u001b[0m \u001b[43mtree\u001b[49m\u001b[38;5;241;43m.\u001b[39;49m\u001b[43mparse\u001b[49m\u001b[43m(\u001b[49m\u001b[43msource\u001b[49m\u001b[43m,\u001b[49m\u001b[43m \u001b[49m\u001b[43mparser\u001b[49m\u001b[43m)\u001b[49m\n\u001b[1;32m   1230\u001b[0m \u001b[38;5;28;01mreturn\u001b[39;00m tree\n",
      "File \u001b[0;32m~/miniconda3/lib/python3.9/xml/etree/ElementTree.py:569\u001b[0m, in \u001b[0;36mElementTree.parse\u001b[0;34m(self, source, parser)\u001b[0m\n\u001b[1;32m    567\u001b[0m close_source \u001b[38;5;241m=\u001b[39m \u001b[38;5;28;01mFalse\u001b[39;00m\n\u001b[1;32m    568\u001b[0m \u001b[38;5;28;01mif\u001b[39;00m \u001b[38;5;129;01mnot\u001b[39;00m \u001b[38;5;28mhasattr\u001b[39m(source, \u001b[38;5;124m\"\u001b[39m\u001b[38;5;124mread\u001b[39m\u001b[38;5;124m\"\u001b[39m):\n\u001b[0;32m--> 569\u001b[0m     source \u001b[38;5;241m=\u001b[39m \u001b[38;5;28;43mopen\u001b[39;49m\u001b[43m(\u001b[49m\u001b[43msource\u001b[49m\u001b[43m,\u001b[49m\u001b[43m \u001b[49m\u001b[38;5;124;43m\"\u001b[39;49m\u001b[38;5;124;43mrb\u001b[39;49m\u001b[38;5;124;43m\"\u001b[39;49m\u001b[43m)\u001b[49m\n\u001b[1;32m    570\u001b[0m     close_source \u001b[38;5;241m=\u001b[39m \u001b[38;5;28;01mTrue\u001b[39;00m\n\u001b[1;32m    571\u001b[0m \u001b[38;5;28;01mtry\u001b[39;00m:\n",
      "\u001b[0;31mFileNotFoundError\u001b[0m: [Errno 2] No such file or directory: '/media/boyan/Windows/sf_data/qiaoliang/ah/fengwo_mamian/fengwo_mamian/labels/val2/AG226055384153911296_rotated.txt.xml'"
     ]
    }
   ],
   "source": [
    "\n",
    "def parse_obj(xml_path, filename):\n",
    "    tree = ET.parse(xml_path + filename)\n",
    "    objects = []\n",
    "    for obj in tree.findall('object'):\n",
    "        obj_struct = {}\n",
    "        obj_struct['name'] = obj.find('name').text\n",
    "        objects.append(obj_struct)\n",
    "    return objects\n",
    "\n",
    "\n",
    "if __name__ == '__main__':\n",
    "    xml_path = '/media/boyan/Windows/sf_data/qiaoliang/ah/fengwo_mamian/fengwo_mamian/labels/val2/'\n",
    "    print(xml_path)\n",
    "    filenamess = os.listdir(xml_path)\n",
    "    filenames = []\n",
    "    for name in filenamess:\n",
    "        if name.endswith('.jpg'):\n",
    "            continue\n",
    "        if name.endswith('.png'):\n",
    "            continue\n",
    "        if name.endswith('.ini'):\n",
    "            continue\n",
    "        if name.endswith('.bmp'):\n",
    "            continue\n",
    "        # name = name.replace('.jpg', '')\n",
    "        name = name.replace('.xml', '')\n",
    "        # if name == 'desktop.ini':\n",
    "        #     continue\n",
    "        filenames.append(name)  # 删选掉不合格的数据\n",
    "    recs = {}\n",
    "    obs_shape = {}\n",
    "    classnames = []\n",
    "    num_objs = {}\n",
    "    obj_avg = {}\n",
    "    for i, name in enumerate(filenames):\n",
    "        recs[name] = parse_obj(xml_path, name + '.xml')\n",
    "    for name in filenames:\n",
    "        for object in recs[name]:\n",
    "            if object['name'] not in num_objs.keys():\n",
    "                num_objs[object['name']] = 1\n",
    "            else:\n",
    "                num_objs[object['name']] += 1\n",
    "            if object['name'] not in classnames:\n",
    "                classnames.append(object['name'])\n",
    "    for name in classnames:\n",
    "        print('{}:{}'.format(name, num_objs[name]))\n",
    "    print('over')"
   ]
  },
  {
   "cell_type": "code",
   "execution_count": null,
   "id": "841e88c0-1e1d-4dea-9809-dec0c61d7a65",
   "metadata": {},
   "outputs": [],
   "source": []
  }
 ],
 "metadata": {
  "kernelspec": {
   "display_name": "Python 3 (ipykernel)",
   "language": "python",
   "name": "python3"
  },
  "language_info": {
   "codemirror_mode": {
    "name": "ipython",
    "version": 3
   },
   "file_extension": ".py",
   "mimetype": "text/x-python",
   "name": "python",
   "nbconvert_exporter": "python",
   "pygments_lexer": "ipython3",
   "version": "3.9.16"
  }
 },
 "nbformat": 4,
 "nbformat_minor": 5
}
