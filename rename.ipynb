{
 "cells": [
  {
   "cell_type": "code",
   "execution_count": 1,
   "id": "924109cd-7943-4ed0-9ac5-45e693753370",
   "metadata": {
    "tags": []
   },
   "outputs": [],
   "source": [
    "import os\n",
    "from tqdm import tqdm\n",
    "import time"
   ]
  },
  {
   "cell_type": "code",
   "execution_count": 5,
   "id": "6657158d-f220-43de-b2cd-d64f7bb76bd5",
   "metadata": {
    "tags": []
   },
   "outputs": [],
   "source": [
    "in_path = ' '"
   ]
  },
  {
   "cell_type": "code",
   "execution_count": 6,
   "id": "4e219351-73eb-463c-93fb-c4b4ef485440",
   "metadata": {
    "tags": []
   },
   "outputs": [
    {
     "name": "stdout",
     "output_type": "stream",
     "text": [
      "['1566869101438195.jpg', '25A072C400000578-2951223-image-a-15_1423799067621_3.jpg']\n",
      "files:  66\n"
     ]
    }
   ],
   "source": [
    "files = [i for i in os.listdir(in_path) if os.path.isfile(os.path.join(in_path, i))]\n",
    "print(files[:2])\n",
    "print('files: ', len(files))"
   ]
  },
  {
   "cell_type": "code",
   "execution_count": 7,
   "id": "4a8eb0ba-0853-44d7-b449-4a0f23a5dc93",
   "metadata": {
    "scrolled": true,
    "tags": []
   },
   "outputs": [
    {
     "name": "stderr",
     "output_type": "stream",
     "text": [
      "100%|█████████████████████████████████████████████████████████████████████████████████| 66/66 [00:01<00:00, 64.14it/s]\n"
     ]
    }
   ],
   "source": [
    "for file in tqdm(files):\n",
    "    time.sleep(0.002)\n",
    "    ct = time.time()\n",
    "    hm = str(int((ct - int(ct))*1000))\n",
    "    date = str(time.strftime(r'%H%M%S'))\n",
    "    # filename = os.path.splitext(file)[0]\n",
    "    # ext = os.path.splitext(file)[-1]\n",
    "    # print(f'{date+hm}.jpg')\n",
    "    os.rename(os.path.join(in_path, file), os.path.join(in_path, f'{date+hm}.jpg'))\n",
    "    # num +=1"
   ]
  },
  {
   "cell_type": "code",
   "execution_count": null,
   "id": "24b2be38-fcaa-4292-890e-3e6999b167e3",
   "metadata": {},
   "outputs": [],
   "source": []
  },
  {
   "cell_type": "code",
   "execution_count": null,
   "id": "d2f45410-be6e-4766-9f41-fff97385b676",
   "metadata": {},
   "outputs": [],
   "source": []
  }
 ],
 "metadata": {
  "kernelspec": {
   "display_name": "Python 3 (ipykernel)",
   "language": "python",
   "name": "python3"
  },
  "language_info": {
   "codemirror_mode": {
    "name": "ipython",
    "version": 3
   },
   "file_extension": ".py",
   "mimetype": "text/x-python",
   "name": "python",
   "nbconvert_exporter": "python",
   "pygments_lexer": "ipython3",
   "version": "3.9.16"
  },
  "vscode": {
   "interpreter": {
    "hash": "a04f5d07b0747026a8fbcdf50b9443318e69b1b8bd6247d88bfadb4789282972"
   }
  }
 },
 "nbformat": 4,
 "nbformat_minor": 5
}
