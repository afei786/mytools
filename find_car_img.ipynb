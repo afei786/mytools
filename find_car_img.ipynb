{
 "cells": [
  {
   "cell_type": "code",
   "execution_count": 1,
   "id": "d46f2a71-54f0-4aa8-8f15-00c2e24fd6ff",
   "metadata": {
    "tags": []
   },
   "outputs": [],
   "source": [
    "import os\n",
    "import shutil\n",
    "\n",
    "from tqdm import tqdm"
   ]
  },
  {
   "cell_type": "code",
   "execution_count": 2,
   "id": "f7426cf6-3674-4696-97ad-699835a3ce2f",
   "metadata": {
    "tags": []
   },
   "outputs": [
    {
     "name": "stdout",
     "output_type": "stream",
     "text": [
      "10001\n"
     ]
    },
    {
     "name": "stderr",
     "output_type": "stream",
     "text": [
      "100%|██████████| 5000/5000 [00:00<00:00, 24576.93it/s]\n"
     ]
    }
   ],
   "source": [
    "# src_path = 'all_images'\n",
    "# dst_path = 'all_images_with_labels'\n",
    "# labels_path = 'all_labels'\n",
    "# empty_path = 'all_images_without_labels'\n",
    "\n",
    "src_path = 'all_images'\n",
    "dst_path = 'all_images_with_labels'\n",
    "labels_path = 'all_labels'\n",
    "empty_path = 'all_images_without_labels'\n",
    "\n",
    "\n",
    "path =  src_path     # 输入文件夹地址\n",
    "files = os.listdir(path)   # 读入文件夹\n",
    "num_png = len(files)       # 统计文件夹中的文件个数\n",
    "print(num_png) \n",
    "\n",
    "if not os.path.exists(empty_path): #判断所在目录下是否有该文件名的文件夹\n",
    "    os.mkdir(empty_path)\n",
    "\n",
    "if not os.path.exists(dst_path): #判断所在目录下是否有该文件名的文件夹\n",
    "    os.mkdir(dst_path)\n",
    "\n",
    "images = [i for i in os.listdir(src_path) if os.path.splitext(i)[-1] == '.jpg']\n",
    "labels = [os.path.splitext(i)[0] for i in os.listdir(labels_path) if os.path.splitext(i)[-1] == '.txt']\n",
    "# print(images)\n",
    "# print(labels)\n",
    "\n",
    "for image in tqdm(images):\n",
    "    filename = os.path.splitext(image)[0]\n",
    "\n",
    "    if filename in labels:\n",
    "        pass\n",
    "        # print(filename, 'have xml!')\n",
    "        shutil.copyfile(os.path.join(src_path, image), os.path.join(dst_path, image))\n",
    "    # else:\n",
    "        # shutil.copyfile(os.path.join(src_path, image), os.path.join(empty_path, image))\n",
    "        # os.remove(os.path.join(src_path, image))\n",
    "\n"
   ]
  },
  {
   "cell_type": "code",
   "execution_count": 3,
   "id": "20602194-5e2b-4645-9efa-ab1f0c34093b",
   "metadata": {},
   "outputs": [
    {
     "name": "stdout",
     "output_type": "stream",
     "text": [
      "535\n"
     ]
    }
   ],
   "source": [
    "path = '/home/boyan/dataset/car/' # 输入文件夹地址\n",
    "files = os.listdir(path)   # 读入文件夹\n",
    "num_png = len(files)       # 统计文件夹中的文件个数\n",
    "print(num_png) "
   ]
  },
  {
   "cell_type": "code",
   "execution_count": 24,
   "id": "ec42b299-c8a1-4125-acf0-43e8a745ee17",
   "metadata": {},
   "outputs": [
    {
     "name": "stdout",
     "output_type": "stream",
     "text": [
      "2157\n",
      "1749\n"
     ]
    },
    {
     "name": "stderr",
     "output_type": "stream",
     "text": [
      "100%|██████████| 2157/2157 [00:00<00:00, 2679.25it/s]\n"
     ]
    }
   ],
   "source": [
    "# all_img = '/media/boyan/Windows/sf_data/images/'\n",
    "# all_xml = '/media/boyan/Windows/sf_data/rubber_1026/xml/'\n",
    "# xml_with_img = '/media/boyan/Windows/sf_data/labels_with_images/'\n",
    "# xml_without_img = '/media/boyan/Windows/sf_data/labels_without_images/'\n",
    "\n",
    "# xmls = [i for i in os.listdir(all_xml) if os.path.splitext(i)[-1] == '.xml']\n",
    "# images = [os.path.splitext(i)[0] for i in os.listdir(all_img) if os.path.splitext(i)[-1] != '.xml']\n",
    "# print(len(xmls))\n",
    "# print(len(images))\n",
    "# for xml in tqdm(xmls):\n",
    "#     filename = os.path.splitext(xml)[0]\n",
    "\n",
    "#     if filename in images:\n",
    "#         shutil.copyfile(os.path.join(all_xml, xml), os.path.join(xml_with_img, xml))\n",
    "#     else:\n",
    "#         shutil.copyfile(os.path.join(all_xml, xml), os.path.join(xml_without_img, xml))"
   ]
  },
  {
   "cell_type": "code",
   "execution_count": null,
   "id": "4a0c3f2f-2316-4b74-9f98-86d460bfffdc",
   "metadata": {},
   "outputs": [],
   "source": []
  },
  {
   "cell_type": "code",
   "execution_count": null,
   "id": "6b417c74-b60d-40c2-bea8-332910a5e792",
   "metadata": {},
   "outputs": [],
   "source": []
  }
 ],
 "metadata": {
  "kernelspec": {
   "display_name": "Python 3 (ipykernel)",
   "language": "python",
   "name": "python3"
  },
  "language_info": {
   "codemirror_mode": {
    "name": "ipython",
    "version": 3
   },
   "file_extension": ".py",
   "mimetype": "text/x-python",
   "name": "python",
   "nbconvert_exporter": "python",
   "pygments_lexer": "ipython3",
   "version": "3.9.16"
  }
 },
 "nbformat": 4,
 "nbformat_minor": 5
}
