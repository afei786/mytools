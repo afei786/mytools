{
 "cells": [
  {
   "cell_type": "code",
   "execution_count": 1,
   "id": "1cfcf25a-8e75-4cac-ac5b-68ecf4162ca5",
   "metadata": {},
   "outputs": [],
   "source": [
    "import os\n",
    "import shutil\n",
    "from tqdm import tqdm\n",
    "import xml.etree.ElementTree as ET"
   ]
  },
  {
   "cell_type": "code",
   "execution_count": 3,
   "id": "3e788c6d-c92c-4a9d-970b-779d978d2a67",
   "metadata": {
    "tags": []
   },
   "outputs": [],
   "source": [
    "objects_to_remove = [\"fire\"]  # 要剔除的对象列表\n",
    "root_dir='E:/dataset/'  # 根路径\n",
    "labels_dir = 'labels'\n",
    "new_labels_dir = 'new_labels'\n",
    "labels_path = os.path.join(root_dir, labels_dir)\n",
    "new_labels_path = os.path.join(root_dir, new_labels_dir)\n",
    "\n",
    "if not os.path.exists(new_labels_path): #判断所在目录下是否有该文件名的文件夹\n",
    "    os.mkdir(new_labels_path) \n",
    "# print(labels_path)\n",
    "# print(new_labels_path)\n",
    "\n",
    "label_files = os.listdir(labels_path)\n",
    "# print(label_files)"
   ]
  },
  {
   "cell_type": "code",
   "execution_count": 4,
   "id": "2ca3752c-e820-46a7-b65a-1daa30c95fdb",
   "metadata": {},
   "outputs": [
    {
     "name": "stderr",
     "output_type": "stream",
     "text": [
      "100%|███████████████████████████████████████████████████████████████████████████████| 648/648 [00:02<00:00, 246.47it/s]"
     ]
    },
    {
     "name": "stdout",
     "output_type": "stream",
     "text": [
      "完成！\n"
     ]
    },
    {
     "name": "stderr",
     "output_type": "stream",
     "text": [
      "\n"
     ]
    }
   ],
   "source": [
    "def remove_xml_objects(source_file, target_folder, new_labels_file, objects_to_remove):\n",
    "    # 读取源XML文件\n",
    "    tree = ET.parse(source_file)\n",
    "    root = tree.getroot()\n",
    "\n",
    "    # 创建目标文件夹（如果不存在）\n",
    "    # os.makedirs(target_folder, exist_ok=True)\n",
    "\n",
    "    # 复制根元素\n",
    "    new_root = ET.Element(root.tag)\n",
    "    new_root.attrib = root.attrib\n",
    "\n",
    "    # 复制剩余的子元素（剔除指定的对象）\n",
    "    for child in root:\n",
    "        if child.tag != \"object\" or child.find(\"name\").text not in objects_to_remove:\n",
    "            new_root.append(child)\n",
    "\n",
    "    # 创建新的XML文件路径\n",
    "    target_file = os.path.join(target_folder, new_labels_file)\n",
    "\n",
    "    # 保存新的XML文件（不包含声明）\n",
    "    new_tree = ET.ElementTree(new_root)\n",
    "    new_tree.write(target_file, encoding=\"utf-8\", xml_declaration=False)\n",
    "\n",
    "    \n",
    "\n",
    "\n",
    "\n",
    "for i in tqdm(label_files):\n",
    "    remove_xml_objects(source_file=os.path.join(labels_path, i), target_folder=new_labels_path, new_labels_file=i, objects_to_remove=objects_to_remove)\n",
    "print(\"完成！\")"
   ]
  },
  {
   "cell_type": "code",
   "execution_count": null,
   "id": "d1f07902-9258-4756-99c6-a16f30f1efc4",
   "metadata": {},
   "outputs": [],
   "source": []
  }
 ],
 "metadata": {
  "kernelspec": {
   "display_name": "Python 3 (ipykernel)",
   "language": "python",
   "name": "python3"
  },
  "language_info": {
   "codemirror_mode": {
    "name": "ipython",
    "version": 3
   },
   "file_extension": ".py",
   "mimetype": "text/x-python",
   "name": "python",
   "nbconvert_exporter": "python",
   "pygments_lexer": "ipython3",
   "version": "3.9.16"
  }
 },
 "nbformat": 4,
 "nbformat_minor": 5
}
