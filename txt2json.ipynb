{
 "cells": [
  {
   "cell_type": "code",
   "execution_count": 13,
   "id": "02b66bbc-9621-444b-a366-2dfadf2b29ff",
   "metadata": {},
   "outputs": [],
   "source": [
    "import os\n",
    "import json\n",
    "import cv2\n",
    "from tqdm import tqdm\n",
    "\n",
    "def convert_txt_to_json(image_path, txt_file, json_file, label_dict):\n",
    "    with open(txt_file, 'r') as f:\n",
    "        lines = f.readlines()\n",
    "    image = cv2.imread(image_path)\n",
    "    image_height, image_width = image.shape[:2]\n",
    "\n",
    "    data = {\n",
    "        \"version\": \"0.3.3\",\n",
    "        \"flags\": {},\n",
    "        \"shapes\": [],\n",
    "        \"imagePath\": image_path,\n",
    "        \"imageData\": None,\n",
    "        \"imageHeight\": image_height,\n",
    "        \"imageWidth\": image_width,\n",
    "    }\n",
    "\n",
    "    for line in lines:\n",
    "        line = line.strip().split()\n",
    "        txt_label = line[0]\n",
    "        if txt_label not in label_dict:\n",
    "            print(f\"Warning: Unknown label '{txt_label}' in the txt file '{txt_file}'.\")\n",
    "            continue\n",
    "\n",
    "        class_id = label_dict[txt_label]\n",
    "        x_center = float(line[1])\n",
    "        y_center = float(line[2])\n",
    "        width = float(line[3])\n",
    "        height = float(line[4])\n",
    "\n",
    "        x_min = int((x_center - width / 2) * image_width)\n",
    "        y_min = int((y_center - height / 2) * image_height)\n",
    "        x_max = int((x_center + width / 2) * image_width)\n",
    "        y_max = int((y_center + height / 2) * image_height)\n",
    "\n",
    "        shape = {\n",
    "            \"label\": str(txt_label),\n",
    "            \"text\": \"\",\n",
    "            \"points\": [[x_min, y_min], [x_max, y_max]],\n",
    "            \"group_id\": None,\n",
    "            \"shape_type\": \"rectangle\",\n",
    "            \"flags\": {}\n",
    "        }\n",
    "\n",
    "        data[\"shapes\"].append(shape)\n",
    "\n",
    "    with open(json_file, 'w') as f:\n",
    "        json.dump(data, f)\n",
    "\n"
   ]
  },
  {
   "cell_type": "code",
   "execution_count": 14,
   "id": "80389d7d-c246-413b-9d9d-bee268373bf3",
   "metadata": {},
   "outputs": [
    {
     "name": "stdout",
     "output_type": "stream",
     "text": [
      "['000001_0_0.png', '000001_0_1.png', '000001_0_2.png']\n"
     ]
    },
    {
     "name": "stderr",
     "output_type": "stream",
     "text": [
      "100%|███████████████████████████████████████████████████████████████████████████████| 605/605 [00:02<00:00, 251.93it/s]\n"
     ]
    }
   ],
   "source": [
    "txt_folder = \" \"  # 输入存放txt文件的文件夹路径\n",
    "json_folder = \" \"  # 输出存放json文件的文件夹路径\n",
    "image_folder = \" \"  # 图像文件夹路径\n",
    "image_files = os.listdir(image_folder)\n",
    "print(image_files[:3])\n",
    "if not os.path.exists(json_folder):\n",
    "    os.makedirs(json_folder)\n",
    "# 用户提供的标签类别到class_id的字典映射\n",
    "label_dict = {\n",
    "    # txt : json\n",
    "    \"0\": 1,\n",
    "    # 添加更多标签类别及其对应的class_id\n",
    "}\n",
    "\n",
    "# 批量处理每个txt文件，转换为json格式\n",
    "for image_file in tqdm(image_files):\n",
    "    base_name = image_file.split('.')[0]\n",
    "    txt_file = os.path.join(txt_folder, base_name + \".txt\")\n",
    "    if not os.path.exists(txt_file):\n",
    "        continue\n",
    "    image_path = os.path.join(image_folder, image_file)\n",
    "\n",
    "    json_file = os.path.join(json_folder, base_name + \".json\")\n",
    "    convert_txt_to_json(image_path, txt_file, json_file, label_dict)\n"
   ]
  },
  {
   "cell_type": "code",
   "execution_count": null,
   "id": "8749cb67-acae-4382-9285-791f9c72ade4",
   "metadata": {},
   "outputs": [],
   "source": []
  }
 ],
 "metadata": {
  "kernelspec": {
   "display_name": "torch",
   "language": "python",
   "name": "torch"
  },
  "language_info": {
   "codemirror_mode": {
    "name": "ipython",
    "version": 3
   },
   "file_extension": ".py",
   "mimetype": "text/x-python",
   "name": "python",
   "nbconvert_exporter": "python",
   "pygments_lexer": "ipython3",
   "version": "3.10.11"
  }
 },
 "nbformat": 4,
 "nbformat_minor": 5
}
