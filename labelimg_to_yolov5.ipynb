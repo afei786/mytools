{
 "cells": [
  {
   "cell_type": "code",
   "execution_count": 35,
   "id": "eb213727-5c78-446f-b926-076047018df4",
   "metadata": {
    "tags": []
   },
   "outputs": [],
   "source": [
    "import os\n",
    "import xml.etree.ElementTree as ET\n",
    "from tqdm import tqdm\n",
    "import shutil\n",
    "import cv2\n",
    "import numpy as np\n",
    "import random\n",
    "\n",
    "random.seed(321)"
   ]
  },
  {
   "cell_type": "code",
   "execution_count": 36,
   "id": "e411561e-ee1a-45f1-a19f-c8be06651ccf",
   "metadata": {
    "tags": []
   },
   "outputs": [],
   "source": [
    "dataset_root = 'D:/temp_dataset/puzhou_ztc/ztc_jzlaji/'\n",
    "images_dirname = 'images'\n",
    "labels_dirname = 'labels'\n",
    "\n",
    "output_dirname = 'ztc_jzlaji_0905'\n",
    "images_dst_dirname = 'images'\n",
    "labels_dst_dirname = 'labels'\n",
    "allowed_formats = ['.png', '.PNG', '.jpg', '.JPG', '.jpeg', '.JPEG', '.bmp', '.BMP']"
   ]
  },
  {
   "cell_type": "code",
   "execution_count": 37,
   "id": "dc1bb2b2-3c5e-49c6-9349-b2853e543afc",
   "metadata": {
    "tags": []
   },
   "outputs": [],
   "source": [
    "images_raw_path = os.path.join(dataset_root, images_dirname)\n",
    "labels_raw_path = os.path.join(dataset_root, labels_dirname)\n",
    "\n",
    "output_dataset_root = os.path.join(dataset_root, output_dirname)\n",
    "images_dst_path = os.path.join(output_dataset_root, images_dst_dirname)\n",
    "labels_dst_path = os.path.join(output_dataset_root, labels_dst_dirname)\n",
    "\n",
    "rotated_xml_path = os.path.join(output_dataset_root, 'rotated_xml')\n",
    "rotated_images_path = os.path.join(output_dataset_root, 'rotated_images')\n",
    "\n",
    "all_images_path = os.path.join(output_dataset_root, 'all_images')\n",
    "all_xmls_path = os.path.join(output_dataset_root, 'all_xmls')\n",
    "all_labels_path = os.path.join(output_dataset_root, 'all_labels')\n",
    "\n",
    "if os.path.exists(output_dataset_root):\n",
    "    shutil.rmtree(output_dataset_root)\n",
    "os.mkdir(output_dataset_root)\n",
    "os.mkdir(images_dst_path)\n",
    "os.mkdir(labels_dst_path)\n",
    "os.mkdir(all_images_path)\n",
    "os.mkdir(all_xmls_path)\n",
    "os.mkdir(all_labels_path)\n",
    "os.mkdir(rotated_xml_path)\n",
    "os.mkdir(rotated_images_path)\n",
    "    "
   ]
  },
  {
   "cell_type": "code",
   "execution_count": 38,
   "id": "51703a8f-ad13-42a4-a34e-7f25fc84fc17",
   "metadata": {
    "tags": []
   },
   "outputs": [],
   "source": [
    "xml_files = [i for i in os.listdir(labels_raw_path) if os.path.splitext(i)[-1] == '.xml']"
   ]
  },
  {
   "cell_type": "code",
   "execution_count": 39,
   "id": "1998622e-b25a-4705-b774-01227b2fdcb5",
   "metadata": {
    "tags": []
   },
   "outputs": [],
   "source": [
    "jpg_files = [i for i in os.listdir(images_raw_path) if os.path.splitext(i)[-1] in allowed_formats]"
   ]
  },
  {
   "cell_type": "code",
   "execution_count": 40,
   "id": "1978c531-aff0-42d1-b554-6027b7f18b24",
   "metadata": {
    "tags": []
   },
   "outputs": [
    {
     "name": "stdout",
     "output_type": "stream",
     "text": [
      "xml_files:  285 jpg_files:  294\n"
     ]
    }
   ],
   "source": [
    "print('xml_files: ', len(xml_files), 'jpg_files: ', len(jpg_files))"
   ]
  },
  {
   "cell_type": "code",
   "execution_count": 41,
   "id": "024d6495-97e5-44f9-bf4b-e7e11f6751b4",
   "metadata": {
    "scrolled": true,
    "tags": []
   },
   "outputs": [
    {
     "name": "stderr",
     "output_type": "stream",
     "text": [
      "100%|████████████████████████████████████████████████████████████████████████████████| 285/285 [00:39<00:00,  7.18it/s]\n"
     ]
    }
   ],
   "source": [
    "do_retate = True\n",
    "fail_images = []\n",
    "if do_retate:\n",
    "    for xml_file in tqdm(xml_files):\n",
    "        with open(os.path.join(labels_raw_path, xml_file), encoding='utf-8') as f:\n",
    "            try:\n",
    "                tree = ET.parse(f)\n",
    "            except:\n",
    "                print('xml_file:', xml_file)\n",
    "            # root = ET.fromstring(f.read().decode('utf-8'))\n",
    "            root = tree.getroot()\n",
    "\n",
    "            size = root.find('size')\n",
    "            img_w = float(size.find('width').text)\n",
    "            img_h = float(size.find('height').text)\n",
    "\n",
    "            size.find('width').text = str(round(img_h))\n",
    "            size.find('height').text = str(round(img_w))\n",
    "\n",
    "\n",
    "            file_name = os.path.splitext(os.path.split(xml_file)[-1])[0]\n",
    "            image_format = ''\n",
    "            for allowed_format in allowed_formats:\n",
    "                if file_name + allowed_format in jpg_files:\n",
    "                    image_format = allowed_format\n",
    "            if image_format == '':\n",
    "                print('xml_file: ', xml_file)\n",
    "                print('file_name: ', file_name)\n",
    "                print('os.path.join(images_raw_path, file_name + image_format): ', os.path.join(images_raw_path, file_name + image_format))\n",
    "            try:    \n",
    "                img = cv2.imdecode(np.fromfile(os.path.join(images_raw_path, file_name + image_format), dtype=np.uint8), -1)\n",
    "            except:\n",
    "                continue\n",
    "            #img = cv2.cvtColor(img, cv2.COLOR_RGB2BGR)\n",
    "            #img = cv2.imread(os.path.join(images_raw_path, file_name + image_format))\n",
    "            \n",
    "            try:\n",
    "                rotated_img = np.rot90(img)\n",
    "            except:\n",
    "                print(file_name)\n",
    "                continue\n",
    "            \n",
    "            direction = 90\n",
    "            if random.random() < 0.5:\n",
    "                rotated_img = np.rot90(rotated_img)\n",
    "                rotated_img = np.rot90(rotated_img)\n",
    "                direction = 270\n",
    "\n",
    "            cv2.imencode(image_format, rotated_img)[1].tofile(os.path.join(rotated_images_path, file_name + '_rotated' + image_format))\n",
    "            #cv2.imwrite(os.path.join(rotated_images_path, file_name + '_rotated' + image_format), rotated_img)\n",
    "\n",
    "            for obj in root.iter('object'):\n",
    "                bbox = obj.find('bndbox')\n",
    "                xmin = float(bbox.find('xmin').text)\n",
    "                xmax = float(bbox.find('xmax').text)\n",
    "                ymin = float(bbox.find('ymin').text)\n",
    "                ymax = float(bbox.find('ymax').text)\n",
    "\n",
    "                if direction == 90:\n",
    "                    bbox.find('xmin').text = str(round(ymin))\n",
    "                    bbox.find('xmax').text = str(round(ymax))\n",
    "                    bbox.find('ymin').text = str(img_w - round(xmax) - 1)\n",
    "                    bbox.find('ymax').text = str(img_w - round(xmin) - 1)\n",
    "                elif direction == 270:\n",
    "                    bbox.find('xmin').text = str(img_h - round(ymax) - 1)\n",
    "                    bbox.find('xmax').text = str(img_h - round(ymin) - 1)\n",
    "                    bbox.find('ymin').text = str(round(xmin))\n",
    "                    bbox.find('ymax').text = str(round(xmax))\n",
    "                else:\n",
    "                    pass\n",
    "\n",
    "            tree.write(os.path.join(rotated_xml_path, file_name + '_rotated' + '.xml'))"
   ]
  },
  {
   "cell_type": "code",
   "execution_count": 42,
   "id": "45f1e9cb-8fa4-4fbe-a5f9-eaa174257941",
   "metadata": {
    "tags": []
   },
   "outputs": [
    {
     "name": "stderr",
     "output_type": "stream",
     "text": [
      "100%|███████████████████████████████████████████████████████████████████████████████| 285/285 [00:00<00:00, 339.74it/s]\n"
     ]
    }
   ],
   "source": [
    "keep_class_names =  [\"wjj\", \"ztc\", \"ttc\", 'jzlaji']\n",
    "# keep_class_names = [\"Reflective clothes\", \"Clothes\", \"hat\", \"person\"]\n",
    "# keep_class_names = ['boat', 'bigBoat', 'person', 'fisherman'] ,'Work vehicle', 'tricycle'\n",
    "\n",
    "class_names = dict(zip(keep_class_names, range(len(keep_class_names))))\n",
    "auto_scan = False\n",
    "class_index = 0\n",
    "if len(class_names) == 0:\n",
    "    auto_scan = True\n",
    "    print('Auto scan classnames enabled.')\n",
    "\n",
    "\n",
    "for xml_file in tqdm(xml_files):\n",
    "    \n",
    "    file_path = os.path.join(labels_raw_path, xml_file)\n",
    "    tree = ET.parse(file_path)\n",
    "    root = tree.getroot()\n",
    "    \n",
    "    img_size = root.find('size')\n",
    "    width = float(img_size.find('width').text)\n",
    "    height = float(img_size.find('height').text)\n",
    "    \n",
    "    objs = root.findall('object')\n",
    "    \n",
    "    copied = False\n",
    "    \n",
    "    with open(os.path.join(all_labels_path, os.path.splitext(os.path.split(xml_file)[-1])[0] + '.txt'), 'w+') as txt:\n",
    "        if len(objs) == 0:\n",
    "            file_name = os.path.splitext(os.path.split(xml_file)[-1])[0]\n",
    "            image_format = ''\n",
    "            for allowed_format in allowed_formats:\n",
    "                if file_name + allowed_format in jpg_files:\n",
    "                    image_format = allowed_format\n",
    "            shutil.copyfile(src=os.path.join(images_raw_path, file_name + image_format), dst=os.path.join(all_images_path, file_name + image_format))\n",
    "            copied = True\n",
    "        for obj in objs:\n",
    "            if not copied:\n",
    "                file_name = os.path.splitext(os.path.split(xml_file)[-1])[0]\n",
    "                image_format = ''\n",
    "                for allowed_format in allowed_formats:\n",
    "                    if file_name + allowed_format in jpg_files:\n",
    "                        image_format = allowed_format\n",
    "                shutil.copyfile(src=os.path.join(images_raw_path, file_name + image_format), dst=os.path.join(all_images_path, file_name + image_format))\n",
    "                copied = True\n",
    "            name = obj.find('name').text.strip()\n",
    "            if name == 'default' or name == 'S' or name == 'l' or name == 'Z' or name == 'G':\n",
    "                print(xml_file, name)\n",
    "            if name not in class_names.keys():\n",
    "                if auto_scan:\n",
    "                    print('auto append class name: \"' + name + '\" from ', xml_file)\n",
    "                    class_names[name] = class_index\n",
    "                    class_index = class_index + 1\n",
    "                else:\n",
    "                    continue\n",
    "            bbox = obj.find('bndbox')\n",
    "            if not bbox:\n",
    "                print('no robndbox in %s' % (xml_file))\n",
    "            xmin = float(bbox.find('xmin').text)\n",
    "            xmax = float(bbox.find('xmax').text)\n",
    "            ymin = float(bbox.find('ymin').text)\n",
    "            ymax = float(bbox.find('ymax').text)\n",
    "\n",
    "            x = (xmin + xmax) / 2 / width\n",
    "            y = (ymin + ymax) / 2 / height\n",
    "            w = (xmax - xmin) / width\n",
    "            h = (ymax - ymin) / height\n",
    "            \n",
    "            txt.write('%s %s %s %s %s\\n' % (class_names[name], x, y, w, h))\n",
    "    "
   ]
  },
  {
   "cell_type": "code",
   "execution_count": 43,
   "id": "0a42f321-768e-469a-8623-c97f17da51d3",
   "metadata": {
    "tags": []
   },
   "outputs": [
    {
     "name": "stdout",
     "output_type": "stream",
     "text": [
      "xml_files:  285 jpg_files:  285\n"
     ]
    }
   ],
   "source": [
    "rotated_xml_files = [i for i in os.listdir(rotated_xml_path) if os.path.splitext(i)[-1] == '.xml']\n",
    "rotated_jpg_files = [i for i in os.listdir(rotated_images_path) if os.path.splitext(i)[-1] in allowed_formats]\n",
    "print('xml_files: ', len(rotated_xml_files), 'jpg_files: ', len(rotated_jpg_files))"
   ]
  },
  {
   "cell_type": "code",
   "execution_count": 44,
   "id": "6f33688e-4b44-40f5-bdee-b7b6ed495656",
   "metadata": {
    "tags": []
   },
   "outputs": [
    {
     "name": "stderr",
     "output_type": "stream",
     "text": [
      "100%|████████████████████████████████████████████████████████████████████████████████| 285/285 [00:03<00:00, 83.02it/s]\n"
     ]
    }
   ],
   "source": [
    "count = 0\n",
    "for xml_file in tqdm(rotated_xml_files):\n",
    "    \n",
    "    file_path = os.path.join(rotated_xml_path, xml_file)\n",
    "    tree = ET.parse(file_path)\n",
    "    root = tree.getroot()\n",
    "    \n",
    "    img_size = root.find('size')\n",
    "    width = float(img_size.find('width').text)\n",
    "    height = float(img_size.find('height').text)\n",
    "    \n",
    "    objs = root.findall('object')\n",
    "    \n",
    "    copied = False\n",
    "    \n",
    "    with open(os.path.join(all_labels_path, os.path.splitext(os.path.split(xml_file)[-1])[0] + '.txt'), 'w+') as txt:\n",
    "        if len(objs) == 0:\n",
    "            file_name = os.path.splitext(os.path.split(xml_file)[-1])[0]\n",
    "            image_format = ''\n",
    "            for allowed_format in allowed_formats:\n",
    "                if file_name + allowed_format in rotated_jpg_files:\n",
    "                    image_format = allowed_format\n",
    "            shutil.copyfile(src=os.path.join(rotated_images_path, file_name + image_format), dst=os.path.join(all_images_path, file_name + image_format))\n",
    "            copied = True\n",
    "        for obj in objs:\n",
    "            if not copied:\n",
    "                file_name = os.path.splitext(os.path.split(xml_file)[-1])[0]\n",
    "                image_format = ''\n",
    "                for allowed_format in allowed_formats:\n",
    "                    if file_name + allowed_format in rotated_jpg_files:\n",
    "                        image_format = allowed_format\n",
    "                shutil.copyfile(src=os.path.join(rotated_images_path, file_name + image_format), dst=os.path.join(all_images_path, file_name + image_format))\n",
    "                copied = True\n",
    "                count = count + 1\n",
    "            name = obj.find('name').text.strip()\n",
    "            if name not in class_names.keys():\n",
    "                continue\n",
    "            bbox = obj.find('bndbox')\n",
    "            if not bbox:\n",
    "                print('no robndbox in %s' % (xml_file))\n",
    "            xmin = float(bbox.find('xmin').text)\n",
    "            xmax = float(bbox.find('xmax').text)\n",
    "            ymin = float(bbox.find('ymin').text)\n",
    "            ymax = float(bbox.find('ymax').text)\n",
    "\n",
    "            x = (xmin + xmax) / 2 / width\n",
    "            y = (ymin + ymax) / 2 / height\n",
    "            w = (xmax - xmin) / width\n",
    "            h = (ymax - ymin) / height\n",
    "            \n",
    "            txt.write('%s %s %s %s %s\\n' % (class_names[name], x, y, w, h))\n",
    "    "
   ]
  },
  {
   "cell_type": "code",
   "execution_count": 45,
   "id": "d60bbb48-26d4-41cf-a420-ecb5d0e1d42d",
   "metadata": {
    "tags": []
   },
   "outputs": [],
   "source": [
    "images_train = os.path.join(images_dst_path, 'train')\n",
    "images_val = os.path.join(images_dst_path, 'val')"
   ]
  },
  {
   "cell_type": "code",
   "execution_count": 46,
   "id": "8b689c6e-af08-42ed-a577-ffe89f475fca",
   "metadata": {
    "tags": []
   },
   "outputs": [],
   "source": [
    "labels_train = os.path.join(labels_dst_path, 'train')\n",
    "labels_val = os.path.join(labels_dst_path, 'val')"
   ]
  },
  {
   "cell_type": "code",
   "execution_count": 47,
   "id": "f00fbc68-fa5c-4902-b29a-95f12d18fd6e",
   "metadata": {
    "tags": []
   },
   "outputs": [],
   "source": [
    "for d in [images_train, images_val, labels_train, labels_val]:\n",
    "    if not os.path.exists(d):\n",
    "        os.mkdir(d)"
   ]
  },
  {
   "cell_type": "code",
   "execution_count": 48,
   "id": "6bab4c37-6edf-4b2c-bcaf-d4f020cba03f",
   "metadata": {
    "tags": []
   },
   "outputs": [],
   "source": [
    "txt_files = [i for i in os.listdir(all_labels_path) if os.path.splitext(i)[-1] == '.txt']\n",
    "all_jpg_files = [i for i in os.listdir(all_images_path) if os.path.splitext(i)[-1] in allowed_formats]"
   ]
  },
  {
   "cell_type": "code",
   "execution_count": 49,
   "id": "6d3d6fc2-fb8a-43ae-8817-fa59d59c0e21",
   "metadata": {
    "tags": []
   },
   "outputs": [
    {
     "name": "stdout",
     "output_type": "stream",
     "text": [
      "txt_files:  570\n"
     ]
    }
   ],
   "source": [
    "print('txt_files: ', len(txt_files))"
   ]
  },
  {
   "cell_type": "code",
   "execution_count": 50,
   "id": "e5dd27f6-09b7-4479-a5f8-a74facf6be94",
   "metadata": {
    "tags": []
   },
   "outputs": [
    {
     "name": "stdout",
     "output_type": "stream",
     "text": [
      "before shuffle:  ['vlcsnap-2023-09-01-11h13m11s017.txt', 'vlcsnap-2023-09-01-11h13m11s017_rotated.txt', 'vlcsnap-2023-09-01-11h13m18s061.txt', 'vlcsnap-2023-09-01-11h13m18s061_rotated.txt', 'vlcsnap-2023-09-01-11h13m21s344.txt']\n"
     ]
    }
   ],
   "source": [
    "print('before shuffle: ', txt_files[:5])"
   ]
  },
  {
   "cell_type": "code",
   "execution_count": 51,
   "id": "5d41f2f8-e202-4818-b1c0-822f368d1e2f",
   "metadata": {
    "tags": []
   },
   "outputs": [],
   "source": [
    "random.shuffle(txt_files)"
   ]
  },
  {
   "cell_type": "code",
   "execution_count": 52,
   "id": "f158a9e0-f58b-4501-8297-1913dbee83dc",
   "metadata": {
    "tags": []
   },
   "outputs": [
    {
     "name": "stdout",
     "output_type": "stream",
     "text": [
      "after shuffle:  ['vlcsnap-2023-09-01-13h34m15s497.txt', 'vlcsnap-2023-09-01-11h41m15s861_rotated.txt', 'vlcsnap-2023-09-01-11h36m22s002_rotated.txt', 'vlcsnap-2023-09-01-11h37m01s133_rotated.txt', 'vlcsnap-2023-09-01-11h37m29s463.txt']\n"
     ]
    }
   ],
   "source": [
    "print('after shuffle: ', txt_files[:5])"
   ]
  },
  {
   "cell_type": "code",
   "execution_count": 53,
   "id": "674acb55-a615-4802-b55e-5ac13f8d8a34",
   "metadata": {
    "tags": []
   },
   "outputs": [],
   "source": [
    "train_factor = 0.9"
   ]
  },
  {
   "cell_type": "code",
   "execution_count": 54,
   "id": "a58fda6a-ed81-4503-9b48-90dcfa383ba3",
   "metadata": {
    "tags": []
   },
   "outputs": [],
   "source": [
    "train_txt_files = txt_files[:int(len(txt_files)*train_factor)]\n",
    "val_txt_files = txt_files[int(len(txt_files)*train_factor):]"
   ]
  },
  {
   "cell_type": "code",
   "execution_count": 55,
   "id": "09896f93-e9af-43ba-8842-d866ff5a54e3",
   "metadata": {
    "tags": []
   },
   "outputs": [
    {
     "name": "stdout",
     "output_type": "stream",
     "text": [
      "train count:  513\n",
      "val count:  57\n"
     ]
    }
   ],
   "source": [
    "print('train count: ', len(train_txt_files))\n",
    "print('val count: ', len(val_txt_files))"
   ]
  },
  {
   "cell_type": "code",
   "execution_count": 56,
   "id": "5c104491-1c81-464b-af8b-71c1d9cd868c",
   "metadata": {
    "tags": []
   },
   "outputs": [
    {
     "name": "stderr",
     "output_type": "stream",
     "text": [
      "100%|████████████████████████████████████████████████████████████████████████████████| 513/513 [00:05<00:00, 91.03it/s]\n"
     ]
    }
   ],
   "source": [
    "for i in tqdm(train_txt_files):\n",
    "    file_name = os.path.splitext(os.path.split(i)[-1])[0]\n",
    "    \n",
    "    image_format = '.bmp'\n",
    "    for allowed_format in allowed_formats:\n",
    "        if file_name + allowed_format in all_jpg_files:\n",
    "            image_format = allowed_format\n",
    "    \n",
    "    shutil.copyfile(src=os.path.join(all_images_path, file_name + image_format), dst=os.path.join(images_train, file_name + image_format))\n",
    "    shutil.copyfile(src=os.path.join(all_labels_path, i), dst=os.path.join(labels_train, i))"
   ]
  },
  {
   "cell_type": "code",
   "execution_count": 57,
   "id": "68c9dc88-bd09-4137-a556-f409911ea79c",
   "metadata": {
    "tags": []
   },
   "outputs": [
    {
     "name": "stderr",
     "output_type": "stream",
     "text": [
      "100%|██████████████████████████████████████████████████████████████████████████████████| 57/57 [00:00<00:00, 89.19it/s]\n"
     ]
    }
   ],
   "source": [
    "for i in tqdm(val_txt_files):\n",
    "    file_name = os.path.splitext(os.path.split(i)[-1])[0]\n",
    "    image_format = '.bmp'\n",
    "    for allowed_format in allowed_formats:\n",
    "        if file_name + allowed_format in all_jpg_files:\n",
    "            image_format = allowed_format\n",
    "    shutil.copyfile(src=os.path.join(all_images_path, file_name + image_format), dst=os.path.join(images_val, file_name + image_format))\n",
    "    shutil.copyfile(src=os.path.join(all_labels_path, i), dst=os.path.join(labels_val, i))"
   ]
  },
  {
   "cell_type": "code",
   "execution_count": 58,
   "id": "cabe8263-63d9-4d6b-8ba7-50ac535f6471",
   "metadata": {
    "tags": []
   },
   "outputs": [],
   "source": [
    "for d in [rotated_xml_path, rotated_images_path, all_images_path, all_xmls_path, all_labels_path]:\n",
    "    if os.path.exists(d):\n",
    "        shutil.rmtree(d)"
   ]
  },
  {
   "cell_type": "code",
   "execution_count": 59,
   "id": "ef7d02f1-3040-4b88-b60d-64864c96d7bb",
   "metadata": {
    "tags": []
   },
   "outputs": [],
   "source": [
    "with open(os.path.join(output_dataset_root, 'data.yaml'), 'w+') as yaml_file:\n",
    "    yaml_file.write('path: ')\n",
    "    yaml_file.write(os.path.abspath(output_dataset_root))\n",
    "    yaml_file.write('\\n')\n",
    "    \n",
    "    yaml_file.write('train: %s\\n' % (os.path.join('images', 'train')))\n",
    "    yaml_file.write('val: %s\\n' % (os.path.join('images', 'val')))\n",
    "    yaml_file.write('test: %s\\n' % (os.path.join('images', 'val')))\n",
    "    \n",
    "    yaml_file.write('nc: %d\\n' % (len(class_names)))\n",
    "    \n",
    "    yaml_file.write('names: [')\n",
    "    for i in range(len(class_names)):\n",
    "        for k, v in class_names.items():\n",
    "            if v == i:\n",
    "                if i+1 != len(class_names):\n",
    "                    yaml_file.write('\"%s\", ' % (k))\n",
    "                else:\n",
    "                    yaml_file.write('\"%s\"]' % (k))\n",
    "    "
   ]
  },
  {
   "cell_type": "code",
   "execution_count": 60,
   "id": "08d43296-33fe-4c4f-ac2a-e9de6aed0e1e",
   "metadata": {
    "tags": []
   },
   "outputs": [
    {
     "data": {
      "text/plain": [
       "{'wjj': 0, 'ztc': 1, 'ttc': 2, 'jzlaji': 3}"
      ]
     },
     "execution_count": 60,
     "metadata": {},
     "output_type": "execute_result"
    }
   ],
   "source": [
    "class_names"
   ]
  },
  {
   "cell_type": "code",
   "execution_count": 61,
   "id": "200eb1e1-ec03-4b5c-8652-5d2eb710b456",
   "metadata": {
    "tags": []
   },
   "outputs": [],
   "source": [
    "names = list(class_names.keys())"
   ]
  },
  {
   "cell_type": "code",
   "execution_count": 62,
   "id": "6504ccb0-46e2-4e3b-8ff1-fd1edce7c0d3",
   "metadata": {
    "tags": []
   },
   "outputs": [
    {
     "data": {
      "text/plain": [
       "'wjj\", \"ztc\", \"ttc\", \"jzlaji'"
      ]
     },
     "execution_count": 62,
     "metadata": {},
     "output_type": "execute_result"
    }
   ],
   "source": [
    "'\", \"'.join(names)"
   ]
  },
  {
   "cell_type": "code",
   "execution_count": 63,
   "id": "76135b86-a479-4400-a123-e11e0f7a3e2c",
   "metadata": {
    "tags": []
   },
   "outputs": [
    {
     "data": {
      "text/plain": [
       "4"
      ]
     },
     "execution_count": 63,
     "metadata": {},
     "output_type": "execute_result"
    }
   ],
   "source": [
    "len(class_names)"
   ]
  },
  {
   "cell_type": "code",
   "execution_count": 64,
   "id": "71c61846-d19f-4141-a8a5-b64e5976c91f",
   "metadata": {
    "tags": []
   },
   "outputs": [
    {
     "name": "stdout",
     "output_type": "stream",
     "text": [
      "id2Name.insert(std::pair<int, std::string>(0, \"wjj\"));\n",
      "id2Name.insert(std::pair<int, std::string>(1, \"ztc\"));\n",
      "id2Name.insert(std::pair<int, std::string>(2, \"ttc\"));\n",
      "id2Name.insert(std::pair<int, std::string>(3, \"jzlaji\"));\n"
     ]
    }
   ],
   "source": [
    "for i, name in enumerate(names):\n",
    "    print('id2Name.insert(std::pair<int, std::string>(%d, \"%s\"));' % (i, name))"
   ]
  },
  {
   "cell_type": "code",
   "execution_count": 65,
   "id": "465d76d5-817f-4817-8ec7-8b144d0b7640",
   "metadata": {},
   "outputs": [
    {
     "name": "stdout",
     "output_type": "stream",
     "text": [
      "train txt number:  513\n",
      "['vlcsnap-2023-09-01-11h13m11s017.txt', 'vlcsnap-2023-09-01-11h13m11s017_rotated.txt', 'vlcsnap-2023-09-01-11h13m18s061.txt']\n"
     ]
    }
   ],
   "source": [
    "txt_path = labels_train\n",
    "txt_files = os.listdir(txt_path)\n",
    "print('train txt number: ', len(txt_files))\n",
    "print(txt_files[:3])"
   ]
  },
  {
   "cell_type": "code",
   "execution_count": 66,
   "id": "a8e5a85d-3f7f-4347-ab33-c8d138053eed",
   "metadata": {},
   "outputs": [
    {
     "name": "stderr",
     "output_type": "stream",
     "text": [
      "100%|███████████████████████████████████████████████████████████████████████████████| 513/513 [00:00<00:00, 595.64it/s]"
     ]
    },
    {
     "name": "stdout",
     "output_type": "stream",
     "text": [
      "train class number: {'3': 1664, '0': 20, '1': 717, '2': 59}\n"
     ]
    },
    {
     "name": "stderr",
     "output_type": "stream",
     "text": [
      "\n"
     ]
    }
   ],
   "source": [
    "classname_dict = {}\n",
    "    \n",
    "for file in tqdm(txt_files):\n",
    "    if os.path.exists(os.path.join(txt_path,file)):\n",
    "        with open(os.path.join(txt_path, file), 'r') as raw_txt:\n",
    "            # copied = False\n",
    "            lines = [i.strip() for i in raw_txt.readlines()]\n",
    "            if lines:\n",
    "                for line in lines:\n",
    "                    lbs = line.split(' ')\n",
    "                    label = lbs[0]\n",
    "                    # if label == '0':\n",
    "                    #     print(file)\n",
    "                    if str(label) not in classname_dict.keys():\n",
    "                        classname_dict[str(label)] = 1\n",
    "                    else:\n",
    "                        classname_dict[str(label)] += 1\n",
    "\n",
    "print('train class number:', classname_dict)"
   ]
  },
  {
   "cell_type": "code",
   "execution_count": 67,
   "id": "eee55e1e-d950-46aa-a530-357691f788e9",
   "metadata": {},
   "outputs": [
    {
     "name": "stdout",
     "output_type": "stream",
     "text": [
      "val txt number:  57\n",
      "['vlcsnap-2023-09-01-11h13m34s135.txt', 'vlcsnap-2023-09-01-11h13m38s120.txt', 'vlcsnap-2023-09-01-11h13m59s749_rotated.txt']\n"
     ]
    }
   ],
   "source": [
    "txt_path = labels_val\n",
    "txt_files = os.listdir(txt_path)\n",
    "print('val txt number: ', len(txt_files))\n",
    "print(txt_files[:3])"
   ]
  },
  {
   "cell_type": "code",
   "execution_count": 68,
   "id": "a1120831-483c-4f37-8267-d5bebad69afb",
   "metadata": {},
   "outputs": [
    {
     "name": "stderr",
     "output_type": "stream",
     "text": [
      "100%|█████████████████████████████████████████████████████████████████████████████████| 57/57 [00:00<00:00, 358.24it/s]"
     ]
    },
    {
     "name": "stdout",
     "output_type": "stream",
     "text": [
      "val class number: {'3': 200, '1': 65, '2': 7, '0': 2}\n"
     ]
    },
    {
     "name": "stderr",
     "output_type": "stream",
     "text": [
      "\n"
     ]
    }
   ],
   "source": [
    "classname_dict = {}\n",
    "    \n",
    "for file in tqdm(txt_files):\n",
    "    if os.path.exists(os.path.join(txt_path,file)):\n",
    "        with open(os.path.join(txt_path, file), 'r') as raw_txt:\n",
    "            # copied = False\n",
    "            lines = [i.strip() for i in raw_txt.readlines()]\n",
    "            if lines:\n",
    "                for line in lines:\n",
    "                    lbs = line.split(' ')\n",
    "                    label = lbs[0]\n",
    "                    # if label == '0':\n",
    "                    #     print(file)\n",
    "                    if str(label) not in classname_dict.keys():\n",
    "                        classname_dict[str(label)] = 1\n",
    "                    else:\n",
    "                        classname_dict[str(label)] += 1\n",
    "\n",
    "print('val class number:', classname_dict)"
   ]
  },
  {
   "cell_type": "code",
   "execution_count": null,
   "id": "5da58ef4-13e2-488d-a356-faf542b80c3e",
   "metadata": {},
   "outputs": [],
   "source": []
  },
  {
   "cell_type": "code",
   "execution_count": null,
   "id": "55d1f109-fc05-44ab-8d18-eef61626fe3e",
   "metadata": {},
   "outputs": [],
   "source": []
  },
  {
   "cell_type": "code",
   "execution_count": null,
   "id": "f0d21b40-ca87-454c-927f-064b7eaac37f",
   "metadata": {},
   "outputs": [],
   "source": []
  }
 ],
 "metadata": {
  "kernelspec": {
   "display_name": "torch",
   "language": "python",
   "name": "torch"
  },
  "language_info": {
   "codemirror_mode": {
    "name": "ipython",
    "version": 3
   },
   "file_extension": ".py",
   "mimetype": "text/x-python",
   "name": "python",
   "nbconvert_exporter": "python",
   "pygments_lexer": "ipython3",
   "version": "3.10.11"
  }
 },
 "nbformat": 4,
 "nbformat_minor": 5
}
