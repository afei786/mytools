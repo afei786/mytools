{
 "cells": [
  {
   "cell_type": "code",
   "execution_count": 1,
   "id": "f0eedbd5-6796-458d-a094-de33620e78c6",
   "metadata": {
    "tags": []
   },
   "outputs": [],
   "source": [
    "import cv2\n",
    "import os\n",
    "from tqdm import tqdm"
   ]
  },
  {
   "cell_type": "code",
   "execution_count": 41,
   "id": "715c3ba1-43ae-4043-abbf-5a7a8167eac4",
   "metadata": {
    "tags": []
   },
   "outputs": [
    {
     "name": "stdout",
     "output_type": "stream",
     "text": [
      "['354.BMP', '257.BMP']\n"
     ]
    }
   ],
   "source": [
    "image_path = '/home/boyan/dataset/chenyang/all_image/'\n",
    "new_path = '/home/boyan/dataset/chenyang/chenyang_0222/'\n",
    "if not os.path.exists(new_path): #判断所在目录下是否有该文件名的文件夹\n",
    "    os.mkdir(new_path)\n",
    "# test = os.path.join(new_path, '1'+'.png')\n",
    "# print(test)\n",
    "\n",
    "\n",
    "image_list = os.listdir(image_path)\n",
    "print(image_list[:2])\n",
    "# a = image_list[:2]\n",
    "for i in tqdm(image_list):\n",
    "    # print(i)\n",
    "    name = i.split('.')\n",
    "    \n",
    "    first_name = name[0]\n",
    "    # print(first_name)\n",
    "    img = cv2.imread(os.path.join(image_path,i))\n",
    "    # print(img.shape)\n",
    "    cv2.imwrite(os.path.join(new_path, first_name+'.png'), img)\n",
    "    \n",
    "\n",
    "\n"
   ]
  },
  {
   "cell_type": "code",
   "execution_count": null,
   "id": "3c2e0ce2-d057-465d-8869-6e5ed42ec08f",
   "metadata": {},
   "outputs": [],
   "source": []
  }
 ],
 "metadata": {
  "kernelspec": {
   "display_name": "torch",
   "language": "python",
   "name": "torch"
  },
  "language_info": {
   "codemirror_mode": {
    "name": "ipython",
    "version": 3
   },
   "file_extension": ".py",
   "mimetype": "text/x-python",
   "name": "python",
   "nbconvert_exporter": "python",
   "pygments_lexer": "ipython3",
   "version": "3.10.11"
  }
 },
 "nbformat": 4,
 "nbformat_minor": 5
}
