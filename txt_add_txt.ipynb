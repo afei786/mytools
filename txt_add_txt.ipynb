{
 "cells": [
  {
   "cell_type": "code",
   "execution_count": 1,
   "id": "664128bf-52fa-4873-b9de-97b5e6f7db97",
   "metadata": {},
   "outputs": [],
   "source": [
    "# 合并同名txt文件 \n",
    "\n",
    "import os\n",
    "import shutil\n",
    "from tqdm import tqdm\n"
   ]
  },
  {
   "cell_type": "code",
   "execution_count": 2,
   "id": "8a0d5a0e-3b8f-4997-a211-9de2368fe971",
   "metadata": {},
   "outputs": [],
   "source": [
    "def merge_txt_files(src_folder1, src_folder2, dest_folder):\n",
    "    if not os.path.exists(dest_folder):\n",
    "        os.makedirs(dest_folder)\n",
    "    \n",
    "    src_folder1_filenames = [os.path.splitext(i)[0] for i in os.listdir(src_folder1) if os.path.splitext(i)[-1] == '.txt'] # 只取文件名，不取后缀\n",
    "    src_folder2_filenames = [os.path.splitext(i)[0] for i in os.listdir(src_folder2) if os.path.splitext(i)[-1] == '.txt']\n",
    "    # print(len(src_folder1_filenames))\n",
    "    # print(len(src_folder2_filenames))\n",
    "    all_filenames = set(src_folder1_filenames) | set(src_folder2_filenames) # 两个文件夹中所有的文件名\n",
    "    and_filenames = set(src_folder1_filenames) & set(src_folder2_filenames) # 两个文件夹中重复的文件名\n",
    "\n",
    "    # print(len(all_filenames))\n",
    "    # print(len(and_filenames))\n",
    "\n",
    "    for filename in tqdm(all_filenames):\n",
    "        txt_file = filename + '.txt'\n",
    "\n",
    "        if filename in and_filenames:  # 两个文件夹中都有的文件\n",
    "            with open(os.path.join(src_folder1, txt_file), \"r\") as file1, open(os.path.join(src_folder2, txt_file), \"r\") as file2:\n",
    "                content1 = file1.read()\n",
    "                content2 = file2.read()\n",
    "                merged_content = content1 + content2\n",
    "\n",
    "            with open(os.path.join(dest_folder, txt_file), \"w\") as dest_file:\n",
    "                dest_file.write(merged_content)\n",
    "        \n",
    "        elif os.path.exists(os.path.join(src_folder1, txt_file)):  # 只在第一个文件夹中有的文件\n",
    "            shutil.copy(os.path.join(src_folder1, txt_file), os.path.join(dest_folder, txt_file))  # 直接复制\n",
    "        elif os.path.exists(os.path.join(src_folder2, txt_file)):  # 只在第二个文件夹中有的文件\n",
    "            shutil.copy(os.path.join(src_folder2, txt_file), os.path.join(dest_folder, txt_file))\n",
    "        else:  # 两个文件夹中都没有的文件\n",
    "            print(f\"{txt_file} not exists\")\n",
    "             \n",
    "\n"
   ]
  },
  {
   "cell_type": "code",
   "execution_count": 3,
   "id": "19f866e4-4448-490f-9b34-3d1475c5fe1b",
   "metadata": {},
   "outputs": [
    {
     "name": "stderr",
     "output_type": "stream",
     "text": [
      "  0%|          | 0/978 [00:00<?, ?it/s]"
     ]
    },
    {
     "name": "stderr",
     "output_type": "stream",
     "text": [
      "100%|██████████| 978/978 [00:00<00:00, 1607.67it/s]\n"
     ]
    }
   ],
   "source": [
    "src_folder1 = \"D:/temp_dataset/puzhou_ztc/jzlaji_txt/\"  # more\n",
    "src_folder2 = \"D:/temp_dataset/puzhou_ztc/zhatuche_txt2/\"  # less\n",
    "dest_folder = \"D:/temp_dataset/puzhou_ztc/all_txt2/\"\n",
    "\n",
    "merge_txt_files(src_folder1, src_folder2, dest_folder)\n"
   ]
  },
  {
   "cell_type": "code",
   "execution_count": null,
   "id": "2610a781-40a9-4b20-95ec-fdb88926fe98",
   "metadata": {},
   "outputs": [],
   "source": [
    "def merge_txt_files(src_folder1, src_folder2, dest_folder):\n",
    "    if not os.path.exists(dest_folder):\n",
    "        os.makedirs(dest_folder)\n",
    "\n",
    "\n",
    "    \n",
    "    for filename in tqdm(os.listdir(src_folder1)):\n",
    "        if filename.endswith(\".txt\"):\n",
    "            src_path1 = os.path.join(src_folder1, filename)\n",
    "            src_path2 = os.path.join(src_folder2, filename)\n",
    "            dest_path = os.path.join(dest_folder, filename)\n",
    "\n",
    "            if os.path.exists(src_path2):\n",
    "                with open(src_path1, \"r\") as file1, open(src_path2, \"r\") as file2:\n",
    "                    content1 = file1.read()\n",
    "                    content2 = file2.read()\n",
    "                    merged_content = content1 + content2\n",
    "\n",
    "                with open(dest_path, \"w\") as dest_file:\n",
    "                    dest_file.write(merged_content)\n",
    "            else:\n",
    "                shutil.copy(src_path1, dest_path)\n",
    "\n"
   ]
  },
  {
   "cell_type": "code",
   "execution_count": null,
   "id": "aeb506b2-d3b7-467d-b44d-818f917d92bc",
   "metadata": {},
   "outputs": [],
   "source": []
  }
 ],
 "metadata": {
  "kernelspec": {
   "display_name": "torch",
   "language": "python",
   "name": "torch"
  },
  "language_info": {
   "codemirror_mode": {
    "name": "ipython",
    "version": 3
   },
   "file_extension": ".py",
   "mimetype": "text/x-python",
   "name": "python",
   "nbconvert_exporter": "python",
   "pygments_lexer": "ipython3",
   "version": "3.10.11"
  }
 },
 "nbformat": 4,
 "nbformat_minor": 5
}
