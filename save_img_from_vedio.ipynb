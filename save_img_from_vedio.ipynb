{
 "cells": [
  {
   "cell_type": "code",
   "execution_count": 1,
   "id": "5fded7e5-13a5-45da-955b-30f3209c9ab9",
   "metadata": {},
   "outputs": [],
   "source": [
    "import cv2\n",
    "import os\n",
    "from datetime import datetime\n",
    "\n",
    "def extract_frames(video_path, output_folder, frame_interval=10):\n",
    "    # 打开视频文件\n",
    "    cap = cv2.VideoCapture(video_path)\n",
    "    \n",
    "    # 确保视频文件被成功打开\n",
    "    if not cap.isOpened():\n",
    "        print(\"无法打开视频文件\")\n",
    "        return\n",
    "    \n",
    "    # 确保输出文件夹存在\n",
    "    os.makedirs(output_folder, exist_ok=True)\n",
    "    \n",
    "    frame_count = 0\n",
    "    saved_frame_count = 0\n",
    "    while True:\n",
    "        ret, frame = cap.read()\n",
    "        if not ret:\n",
    "            break\n",
    "        \n",
    "        frame_count += 1\n",
    "        if frame_count % frame_interval == 0:\n",
    "            # 生成帧文件名\n",
    "            now = datetime.now()\n",
    "            timestamp = now.strftime(\"%Y%m%d%H%M%S%f\")\n",
    "            frame_filename = os.path.join(output_folder, f\"frame_{timestamp}.png\")\n",
    "            \n",
    "            # 保存帧为 PNG 图片\n",
    "            cv2.imwrite(frame_filename, frame)\n",
    "            saved_frame_count += 1\n",
    "            print(f\"保存第{saved_frame_count}张图，第 {frame_count} 帧到 {frame_filename}\")\n",
    "    \n",
    "    # 释放视频对象\n",
    "    cap.release()\n",
    "    print(f\"共保存 {saved_frame_count} 帧\")\n",
    "\n"
   ]
  },
  {
   "cell_type": "code",
   "execution_count": null,
   "id": "e5ade348-505a-45d6-8d6a-7fdea1e3241d",
   "metadata": {
    "scrolled": true
   },
   "outputs": [],
   "source": [
    "if __name__ == \"__main__\":\n",
    "    video_path = r\" \"  # 输入视频文件路径\n",
    "    output_folder = r\" \"        # 输出文件夹路径\n",
    "    frame_interval = 55             # 每隔多少帧抽取一帧\n",
    "    extract_frames(video_path, output_folder, frame_interval)\n"
   ]
  },
  {
   "cell_type": "code",
   "execution_count": null,
   "id": "7bca1147-9ca5-43df-b255-e444f03e3d0d",
   "metadata": {},
   "outputs": [],
   "source": []
  }
 ],
 "metadata": {
  "kernelspec": {
   "display_name": "torch",
   "language": "python",
   "name": "torch"
  },
  "language_info": {
   "codemirror_mode": {
    "name": "ipython",
    "version": 3
   },
   "file_extension": ".py",
   "mimetype": "text/x-python",
   "name": "python",
   "nbconvert_exporter": "python",
   "pygments_lexer": "ipython3",
   "version": "3.10.11"
  }
 },
 "nbformat": 4,
 "nbformat_minor": 5
}
