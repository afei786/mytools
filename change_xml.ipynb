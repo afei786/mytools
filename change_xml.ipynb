{
 "cells": [
  {
   "cell_type": "code",
   "execution_count": 32,
   "id": "41d5332a-0c96-41cc-863c-8cc5788ca5fc",
   "metadata": {},
   "outputs": [
    {
     "name": "stdout",
     "output_type": "stream",
     "text": [
      "['1\\n', '2\\n', '3\\n', '4\\n', '5\\n']\n",
      "['1\\n', '2\\n', '3\\n', '4\\n']\n",
      "del over!\n"
     ]
    }
   ],
   "source": [
    "\n",
    "xml_path = ''\n",
    "file_old = open(xml_path, 'r')\n",
    "lines = [i for i in file_old]\n",
    "print(lines)\n",
    "del lines[-1]\n",
    "print(lines)\n",
    "print('del over!')\n",
    "file_old.close()"
   ]
  },
  {
   "cell_type": "code",
   "execution_count": 40,
   "id": "07803a08-a9e5-4680-9b4e-73b617c8799c",
   "metadata": {},
   "outputs": [
    {
     "ename": "IndexError",
     "evalue": "list index out of range",
     "output_type": "error",
     "traceback": [
      "\u001b[0;31m---------------------------------------------------------------------------\u001b[0m",
      "\u001b[0;31mIndexError\u001b[0m                                Traceback (most recent call last)",
      "Cell \u001b[0;32mIn [40], line 14\u001b[0m\n\u001b[1;32m     12\u001b[0m lines \u001b[38;5;241m=\u001b[39m file_old\u001b[38;5;241m.\u001b[39mreadlines()\n\u001b[1;32m     13\u001b[0m \u001b[38;5;66;03m# 3.定位到最后一行的行首，若要删除后N行，将lines[-1]改为lines[-N:]即可\u001b[39;00m\n\u001b[0;32m---> 14\u001b[0m file_old\u001b[38;5;241m.\u001b[39mseek(\u001b[38;5;241m-\u001b[39m\u001b[38;5;28mlen\u001b[39m(\u001b[43mlines\u001b[49m\u001b[43m[\u001b[49m\u001b[38;5;241;43m-\u001b[39;49m\u001b[38;5;241;43m1\u001b[39;49m\u001b[43m]\u001b[49m), os\u001b[38;5;241m.\u001b[39mSEEK_END)\n\u001b[1;32m     16\u001b[0m file_old\u001b[38;5;241m.\u001b[39mtruncate()  \u001b[38;5;66;03m# 截断之后的数据 \u001b[39;00m\n\u001b[1;32m     18\u001b[0m file_old\u001b[38;5;241m.\u001b[39mclose()\n",
      "\u001b[0;31mIndexError\u001b[0m: list index out of range"
     ]
    }
   ],
   "source": [
    "import os\n",
    "\n",
    "# 在文本文件中，若没有使用b模式选项打开的文件，只允许从文件头开始计算相对位置，从文件尾计算时就会引发异常\n",
    "file_old = open('/media/boyan/Windows/sf_data/rubber_1103/test_xml/20221102_105443.xml', 'rb+')\n",
    "\n",
    "# 1.定位文件末尾的前m个字符的位置，大小可根据每一行的字符数量修改，为一估计值，但不能超过文件总字符数\n",
    "# 若要删除最后一行，要确保m比最后一行的字符数大\n",
    "# 若要删除后N行，要确保后N行的总字符数比m小\n",
    "# 若文件很小或无法大体估计每一行的字符数，可以删除这行代码\n",
    "# file_old.seek(-m, os.SEEK_END)\n",
    "# 2.从步骤1定位的位置开始读取接下来的每一行数据，若步骤1的代码删除，则会从文件头部开始读取所有行\n",
    "lines = file_old.readlines()\n",
    "# 3.定位到最后一行的行首，若要删除后N行，将lines[-1]改为lines[-N:]即可\n",
    "file_old.seek(-len(lines[-1]), os.SEEK_END)\n",
    "\n",
    "file_old.truncate()  # 截断之后的数据 \n",
    "\n",
    "file_old.close()\n"
   ]
  },
  {
   "cell_type": "code",
   "execution_count": 45,
   "id": "7dee8420-034d-418f-907a-5a3d576d2b77",
   "metadata": {},
   "outputs": [
    {
     "name": "stdout",
     "output_type": "stream",
     "text": [
      "[b'1\\n', b'2\\n', b'3\\n', b'4\\n', b'5\\n', b'6\\n', b'7\\n']\n"
     ]
    }
   ],
   "source": [
    "    with open('/media/boyan/Windows/sf_data/rubber_1103/test_xml/ASD.xml', 'rb+') as f:\n",
    "        lines = f.readlines()\n",
    "        print(lines)\n",
    "        # 3.定位到最后一行的行首，若要删除后N行，将lines[-1]改为lines[-N:]即可\n",
    "        f.seek(-len(lines[-1]), os.SEEK_END)\n",
    "\n",
    "        f.truncate()  # 截断之后的数据 \n",
    "\n"
   ]
  },
  {
   "cell_type": "code",
   "execution_count": null,
   "id": "35b0a784-c961-463d-ad6a-c5cc083ebac1",
   "metadata": {},
   "outputs": [],
   "source": []
  }
 ],
 "metadata": {
  "kernelspec": {
   "display_name": "Python 3 (ipykernel)",
   "language": "python",
   "name": "python3"
  },
  "language_info": {
   "codemirror_mode": {
    "name": "ipython",
    "version": 3
   },
   "file_extension": ".py",
   "mimetype": "text/x-python",
   "name": "python",
   "nbconvert_exporter": "python",
   "pygments_lexer": "ipython3",
   "version": "3.9.16"
  }
 },
 "nbformat": 4,
 "nbformat_minor": 5
}
