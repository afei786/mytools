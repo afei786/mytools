{
 "cells": [
  {
   "cell_type": "code",
   "execution_count": 1,
   "id": "ef3c93a2-6f82-465c-b1e0-07d76b5fc91c",
   "metadata": {},
   "outputs": [
    {
     "name": "stdout",
     "output_type": "stream",
     "text": [
      "images number:  1385\n",
      "labels number:  1385\n"
     ]
    }
   ],
   "source": [
    "# 划分数据集 yolo格式\n",
    "\n",
    "import os\n",
    "import random\n",
    "import shutil\n",
    "from tqdm import tqdm\n",
    "\n",
    "# 定义文件夹路径\n",
    "root_folder = ''\n",
    "images_folder = 'images'\n",
    "labels_folder = 'new_txt'\n",
    "\n",
    "output_dirname = 'baidu_ztc'\n",
    "images_dst_dirname = 'images'\n",
    "labels_dst_dirname = 'labels'\n",
    "allowed_formats = ['.png', '.PNG', '.jpg', '.JPG', '.jpeg', '.JPEG', '.bmp', '.BMP']\n",
    "\n",
    "# 创建训练集和验证集文件夹\n",
    "images_path = os.path.join(root_folder, images_folder)\n",
    "labels_path = os.path.join(root_folder, labels_folder)\n",
    "\n",
    "output_dataset_root = os.path.join(root_folder, output_dirname)\n",
    "images_dst_path = os.path.join(output_dataset_root, images_dst_dirname)\n",
    "labels_dst_path = os.path.join(output_dataset_root, labels_dst_dirname)\n",
    "train_images_folder = os.path.join(images_dst_path, 'train')\n",
    "train_labels_folder = os.path.join(labels_dst_path, 'train')\n",
    "val_images_folder = os.path.join(images_dst_path, 'val')\n",
    "val_labels_folder = os.path.join(labels_dst_path, 'val')\n",
    "\n",
    "\n",
    "if os.path.exists(output_dataset_root):\n",
    "    shutil.rmtree(output_dataset_root)\n",
    "os.mkdir(output_dataset_root)\n",
    "os.mkdir(images_dst_path)\n",
    "os.mkdir(labels_dst_path)\n",
    "os.mkdir(train_images_folder)\n",
    "os.mkdir(train_labels_folder)\n",
    "os.mkdir(val_images_folder)\n",
    "os.mkdir(val_labels_folder)\n",
    "\n",
    "\n",
    "\n",
    "# 获取所有图像文件的列表\n",
    "image_files = os.listdir(images_path)\n",
    "label_files = os.listdir(labels_path)\n",
    "\n",
    "print('images number: ',len(image_files))\n",
    "print('labels number: ',len(label_files))\n",
    "\n",
    "\n",
    "# 随机打乱文件列表\n",
    "random.shuffle(image_files)\n",
    "# print(image_files[0].split(\".\")[0]+'.txt')\n",
    "\n",
    "\n",
    "# 定义训练集和验证集的比例（这里使用80%的训练集和20%的验证集）\n",
    "train_ratio = 0.9\n",
    "num_train = int(len(label_files) * train_ratio)\n",
    "\n"
   ]
  },
  {
   "cell_type": "markdown",
   "id": "cabfb3f8",
   "metadata": {},
   "source": []
  },
  {
   "cell_type": "code",
   "execution_count": null,
   "id": "e5c57c56-471b-4255-9db4-81b0bf10c3ae",
   "metadata": {
    "scrolled": true
   },
   "outputs": [],
   "source": [
    "# # 将文件拷贝到 val\n",
    "for image_file in tqdm(image_files[:num_train]):\n",
    "    image_name = image_file.split(\".jpeg\")[0]\n",
    "    label_name = image_name+'.txt'\n",
    "    if label_name in label_files:\n",
    "        image_src = os.path.join(images_path, image_file)\n",
    "        label_src = os.path.join(labels_path, label_name)\n",
    "        shutil.copy(image_src, os.path.join(train_images_folder, image_file))\n",
    "        shutil.copy(label_src, os.path.join(train_labels_folder, label_name))\n",
    "    else:\n",
    "        print(label_name,'not exist!')\n",
    "\n",
    "\n"
   ]
  },
  {
   "cell_type": "code",
   "execution_count": null,
   "id": "f5c72557-9f45-4ede-ad7d-cb1d98c2231e",
   "metadata": {
    "scrolled": true
   },
   "outputs": [],
   "source": [
    "# # 将文件拷贝到 val\n",
    "for image_file in tqdm(image_files[num_train:]):\n",
    "    image_name = image_file.split(\".jpeg\")[0]\n",
    "    label_name = image_name+'.txt'\n",
    "    if label_name in label_files:\n",
    "        image_src = os.path.join(images_path, image_file)\n",
    "        label_src = os.path.join(labels_path, label_name)\n",
    "        shutil.copy(image_src, os.path.join(val_images_folder, image_file))\n",
    "        shutil.copy(label_src, os.path.join(val_labels_folder, label_name))\n",
    "    else:\n",
    "        print(label_name,'not exist!')"
   ]
  },
  {
   "cell_type": "code",
   "execution_count": null,
   "id": "bec46fdc-e32e-4845-a931-af57dda0807e",
   "metadata": {},
   "outputs": [],
   "source": []
  }
 ],
 "metadata": {
  "kernelspec": {
   "display_name": "torch",
   "language": "python",
   "name": "torch"
  },
  "language_info": {
   "codemirror_mode": {
    "name": "ipython",
    "version": 3
   },
   "file_extension": ".py",
   "mimetype": "text/x-python",
   "name": "python",
   "nbconvert_exporter": "python",
   "pygments_lexer": "ipython3",
   "version": "3.10.11"
  }
 },
 "nbformat": 4,
 "nbformat_minor": 5
}
