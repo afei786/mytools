{
 "cells": [
  {
   "cell_type": "code",
   "execution_count": 1,
   "id": "288bfe1a-9e0d-4e3b-b789-a69ffc76f49a",
   "metadata": {},
   "outputs": [],
   "source": [
    "import json\n",
    "import os\n",
    "from tqdm import tqdm"
   ]
  },
  {
   "cell_type": "code",
   "execution_count": 2,
   "id": "5a13c8a2-c22c-4752-bfbb-271b8b3a7abe",
   "metadata": {},
   "outputs": [],
   "source": [
    "all_classes = {'1':0}         # 固定类别顺序，类别列表，与训练配置文件中的顺序保持一致\n",
    "root_path = ''\n",
    "txt_path = os.path.join(root_path, 'txt/')         #txt文件存放位置\n",
    "jsonpath =  os.path.join(root_path, 'json/')                        #json文件位置\n",
    "\n",
    "if not os.path.exists(txt_path):\n",
    "    os.mkdir(txt_path)\n",
    "    \n",
    "json_files = os.listdir(jsonpath)\n"
   ]
  },
  {
   "cell_type": "code",
   "execution_count": 3,
   "id": "4c5edd02-1089-4f36-beb4-824ba9c7d1a9",
   "metadata": {
    "scrolled": true
   },
   "outputs": [
    {
     "name": "stderr",
     "output_type": "stream",
     "text": [
      "100%|███████████████████████████████████████████████████████████████████████████████| 543/543 [00:01<00:00, 296.61it/s]\n"
     ]
    }
   ],
   "source": [
    "def convert(size, box):\n",
    "    dw = 1. / size[0]\n",
    "    dh = 1. / size[1]\n",
    "    x = (box[0][0] + box[1][0]) / 2.0\n",
    "    y = (box[0][1] + box[1][1]) / 2.0\n",
    "    w = x - box[0][0]\n",
    "    h = box[1][1] - y\n",
    "    x = x * dw\n",
    "    w = w * dw\n",
    "    y = y * dh\n",
    "    h = h * dh\n",
    "    \n",
    "    return (x, y, w, h)\n",
    "    \n",
    "for i in tqdm(json_files):\n",
    "    \n",
    "    filename = i.split('.json')[0]\n",
    "    # print(filename)\n",
    "    infile = jsonpath+i\n",
    "    with open(infile,'r',encoding='utf-8') as load_f:\n",
    "        load_dict = json.load(load_f)                   #打开每个json文件\n",
    "\n",
    "    out_file = os.path.join(txt_path, filename+'.txt')\n",
    "    with open(out_file,'w',encoding='utf-8') as yolo_txt:\n",
    "        \n",
    "        h_img = load_dict[\"imageHeight\"]\n",
    "        w_img = load_dict[\"imageWidth\"]\n",
    "        img_size = [h_img, w_img]\n",
    "        \n",
    "        for item in load_dict[\"shapes\"]:\n",
    "            # print(item)\n",
    "            label_int=all_classes[item['label']]\n",
    "            # print(infile)\n",
    "            # if not item['boxes']:\n",
    "            #     continue\n",
    "            # x1,y1,x2,y2=item['boxes']\n",
    "            box = item['points']\n",
    "            x1 = box[0][0]\n",
    "            y1 = box[0][1]\n",
    "            x2 = box[1][0]\n",
    "            y2 = box[1][1]\n",
    "\n",
    "            # print(x1,x2,w_img)\n",
    "            x_center=((x1+x2)/2)/w_img\n",
    "            y_center=(y1+y2)/2/h_img\n",
    "            w = (x2 - x1)/w_img\n",
    "            h = (y2 -y1)/h_img\n",
    "            \n",
    "            # print(x_center, y_center, w, h)\n",
    "            \n",
    "            # print(box)\n",
    "            # x, y, w, h = convert(img_size, box)\n",
    "            yolo_txt.write(str(label_int)+\" \"+str(x_center)+\" \"+str(y_center)+\" \"+str(w)+\" \"+str(h)+'\\n')\n",
    "\n",
    "\n"
   ]
  },
  {
   "cell_type": "code",
   "execution_count": null,
   "id": "5985effa-e821-408e-8bf8-052cf3ee511a",
   "metadata": {},
   "outputs": [],
   "source": []
  },
  {
   "cell_type": "code",
   "execution_count": null,
   "id": "edacdc58-4c2f-45f6-9fa0-879026116e29",
   "metadata": {},
   "outputs": [],
   "source": []
  }
 ],
 "metadata": {
  "kernelspec": {
   "display_name": "torch",
   "language": "python",
   "name": "torch"
  },
  "language_info": {
   "codemirror_mode": {
    "name": "ipython",
    "version": 3
   },
   "file_extension": ".py",
   "mimetype": "text/x-python",
   "name": "python",
   "nbconvert_exporter": "python",
   "pygments_lexer": "ipython3",
   "version": "3.10.11"
  }
 },
 "nbformat": 4,
 "nbformat_minor": 5
}
