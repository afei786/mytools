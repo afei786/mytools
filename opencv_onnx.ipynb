{
 "cells": [
  {
   "cell_type": "code",
   "execution_count": 46,
   "id": "4cb0062b-56f3-452c-8d86-97735c0dfdd4",
   "metadata": {
    "tags": []
   },
   "outputs": [],
   "source": [
    "# import argparse\n",
    "\n",
    "import cv2.dnn\n",
    "import numpy as np\n",
    "\n",
    "# from ultralytics.yolo.utils import ROOT, yaml_load\n",
    "# from ultralytics.yolo.utils.checks import check_yaml"
   ]
  },
  {
   "cell_type": "code",
   "execution_count": 47,
   "id": "3586adb7-971a-44a0-a6bb-cc2af0a2f5ca",
   "metadata": {
    "tags": []
   },
   "outputs": [],
   "source": [
    "# CLASSES = yaml_load(check_yaml('coco128.yaml'))['names']\n",
    "CLASSES = ['0', '1']\n",
    "\n",
    "colors = np.random.uniform(255, 0, size=(len(CLASSES), 1))\n",
    "# print('colors:', colors)\n",
    "\n",
    "\n",
    "def draw_bounding_box(img, class_id, confidence, x, y, x_plus_w, y_plus_h):\n",
    "    label = f'{CLASSES[class_id]} ({confidence:.2f})'\n",
    "    color = colors[class_id]\n",
    "    cv2.rectangle(img, (x, y), (x_plus_w, y_plus_h), color, 2)\n",
    "    cv2.putText(img, label, (x - 10, y - 10), cv2.FONT_HERSHEY_SIMPLEX, 0.5, color, 2)\n",
    "\n",
    "\n",
    "def main(onnx_model, input_image):\n",
    "    model: cv2.dnn.Net = cv2.dnn.readNetFromONNX(onnx_model)\n",
    "    original_image: np.ndarray = cv2.imread(input_image)\n",
    "    [height, width, _] = original_image.shape\n",
    "    length = max((height, width))\n",
    "    image = np.zeros((length, length, 3), np.uint8)\n",
    "    image[0:height, 0:width] = original_image\n",
    "    scale = length / 1024\n",
    "\n",
    "    blob = cv2.dnn.blobFromImage(image, scalefactor=1 / 255, size=(1024, 1024), swapRB=True)\n",
    "    model.setInput(blob)\n",
    "    outputs = model.forward()\n",
    "\n",
    "    outputs = np.array([cv2.transpose(outputs[0])])\n",
    "    rows = outputs.shape[1]\n",
    "\n",
    "    boxes = []\n",
    "    scores = []\n",
    "    class_ids = []\n",
    "\n",
    "    for i in range(rows):\n",
    "        classes_scores = outputs[0][i][4:]\n",
    "        (minScore, maxScore, minClassLoc, (x, maxClassIndex)) = cv2.minMaxLoc(classes_scores)\n",
    "        if maxScore >= 0.25:\n",
    "            box = [\n",
    "                outputs[0][i][0] - (0.5 * outputs[0][i][2]), outputs[0][i][1] - (0.5 * outputs[0][i][3]),\n",
    "                outputs[0][i][2], outputs[0][i][3]]\n",
    "            boxes.append(box)\n",
    "            scores.append(maxScore)\n",
    "            class_ids.append(maxClassIndex)\n",
    "\n",
    "    result_boxes = cv2.dnn.NMSBoxes(boxes, scores, 0.25, 0.45, 0.5)\n",
    "\n",
    "    detections = []\n",
    "    for i in range(len(result_boxes)):\n",
    "        index = result_boxes[i]\n",
    "        box = boxes[index]\n",
    "        detection = {\n",
    "            'class_id': class_ids[index],\n",
    "            'class_name': CLASSES[class_ids[index]],\n",
    "            'confidence': scores[index],\n",
    "            'box': box,\n",
    "            'scale': scale}\n",
    "        detections.append(detection)\n",
    "        draw_bounding_box(original_image, class_ids[index], scores[index], round(box[0] * scale), round(box[1] * scale),\n",
    "                          round((box[0] + box[2]) * scale), round((box[1] + box[3]) * scale))\n",
    "\n",
    "    # cv2.imshow('image', original_image)\n",
    "    # cv2.waitKey(0)\n",
    "    # cv2.destroyAllWindows()\n",
    "    cv2.imwrite('res.png', original_image)\n",
    "\n",
    "    return detections\n",
    "\n",
    "\n",
    "# if __name__ == '__main__':\n",
    "#     parser = argparse.ArgumentParser()\n",
    "#     parser.add_argument('--model', default='yolov8n.onnx', help='Input your onnx model.')\n",
    "#     parser.add_argument('--img', default=str(ROOT / 'assets/bus.jpg'), help='Path to input image.')\n",
    "#     args = parser.parse_args()\n",
    "#     main(args.model, args.img)\n"
   ]
  },
  {
   "cell_type": "code",
   "execution_count": 48,
   "id": "7bc1109a-2c33-4de2-bd1a-14272c197f5e",
   "metadata": {
    "tags": []
   },
   "outputs": [
    {
     "data": {
      "text/plain": [
       "[{'class_id': 1,\n",
       "  'class_name': '1',\n",
       "  'confidence': 0.9036595225334167,\n",
       "  'box': [621.0402221679688, 574.6650085449219, 21.402832, 86.38214],\n",
       "  'scale': 1.0},\n",
       " {'class_id': 0,\n",
       "  'class_name': '0',\n",
       "  'confidence': 0.9010312557220459,\n",
       "  'box': [739.0474548339844, 984.8440246582031, 17.441223, 26.650818],\n",
       "  'scale': 1.0},\n",
       " {'class_id': 0,\n",
       "  'class_name': '0',\n",
       "  'confidence': 0.8991430401802063,\n",
       "  'box': [546.1327514648438, 323.2425231933594, 15.973999, 28.670166],\n",
       "  'scale': 1.0},\n",
       " {'class_id': 1,\n",
       "  'class_name': '1',\n",
       "  'confidence': 0.8741422295570374,\n",
       "  'box': [485.04957580566406, 476.18580627441406, 12.514984, 77.210785],\n",
       "  'scale': 1.0},\n",
       " {'class_id': 0,\n",
       "  'class_name': '0',\n",
       "  'confidence': 0.8386393785476685,\n",
       "  'box': [477.5931701660156, 218.86160278320312, 30.983337, 31.542206],\n",
       "  'scale': 1.0}]"
      ]
     },
     "execution_count": 48,
     "metadata": {},
     "output_type": "execute_result"
    }
   ],
   "source": [
    "main(onnx_model='/home/boyan/git_file/yolov8/tea/runs/guapian/0524_s/weights/best.onnx', input_image='test.png')"
   ]
  },
  {
   "cell_type": "code",
   "execution_count": null,
   "id": "029c928a-b82a-4715-8315-11041c755e6d",
   "metadata": {},
   "outputs": [],
   "source": []
  }
 ],
 "metadata": {
  "kernelspec": {
   "display_name": "torch2",
   "language": "python",
   "name": "torch2"
  },
  "language_info": {
   "codemirror_mode": {
    "name": "ipython",
    "version": 3
   },
   "file_extension": ".py",
   "mimetype": "text/x-python",
   "name": "python",
   "nbconvert_exporter": "python",
   "pygments_lexer": "ipython3",
   "version": "3.10.10"
  }
 },
 "nbformat": 4,
 "nbformat_minor": 5
}
