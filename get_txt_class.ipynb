{
 "cells": [
  {
   "cell_type": "code",
   "execution_count": 1,
   "id": "db64cd9a-c41a-4a0b-9a63-cfdd000d0314",
   "metadata": {},
   "outputs": [],
   "source": [
    "import os\n",
    "from tqdm import tqdm\n"
   ]
  },
  {
   "cell_type": "code",
   "execution_count": null,
   "id": "482c011a-4134-4fbb-b2bc-f84a213500a7",
   "metadata": {},
   "outputs": [],
   "source": [
    "txt_path = ' '\n",
    "txt_files = os.listdir(txt_path)\n",
    "print('txt number: ', len(txt_files))\n",
    "print(txt_files[:3])\n"
   ]
  },
  {
   "cell_type": "code",
   "execution_count": 3,
   "id": "4dcdceaf-23ce-4949-80c8-2b365e5c4f92",
   "metadata": {},
   "outputs": [
    {
     "name": "stderr",
     "output_type": "stream",
     "text": [
      "100%|██████████████████████████████████████████████████████████████████████████████| 978/978 [00:00<00:00, 5156.89it/s]"
     ]
    },
    {
     "name": "stdout",
     "output_type": "stream",
     "text": [
      "{'3': 5251, '0': 1784, '2': 155, '1': 713}\n"
     ]
    },
    {
     "name": "stderr",
     "output_type": "stream",
     "text": [
      "\n"
     ]
    }
   ],
   "source": [
    "classname_dict = {}\n",
    "    \n",
    "for file in tqdm(txt_files):\n",
    "    if os.path.exists(os.path.join(txt_path,file)):\n",
    "        with open(os.path.join(txt_path, file), 'r') as raw_txt:\n",
    "            # copied = False\n",
    "            lines = [i.strip() for i in raw_txt.readlines()]\n",
    "            if lines:\n",
    "                for line in lines:\n",
    "                    lbs = line.split(' ')\n",
    "                    label = lbs[0]\n",
    "                    # if label == '0':\n",
    "                    #     print(file)\n",
    "                    if str(label) not in classname_dict.keys():\n",
    "                        classname_dict[str(label)] = 1\n",
    "                    else:\n",
    "                        classname_dict[str(label)] += 1\n",
    "\n",
    "print(classname_dict)\n",
    "# KeyDict = sorted(classname_dict)\n",
    "# # print(\"%d kind labels and %d labels in total:\" % (len(KeyDict)))\n",
    "# print(KeyDict)\n",
    "# print(\"Label Name and it's number:\")\n",
    "# for key in KeyDict:\n",
    "#     print(\"%s\\t: %d\" % (key, KeyDict[key]))\n"
   ]
  }
 ],
 "metadata": {
  "kernelspec": {
   "display_name": "torch",
   "language": "python",
   "name": "torch"
  },
  "language_info": {
   "codemirror_mode": {
    "name": "ipython",
    "version": 3
   },
   "file_extension": ".py",
   "mimetype": "text/x-python",
   "name": "python",
   "nbconvert_exporter": "python",
   "pygments_lexer": "ipython3",
   "version": "3.10.11"
  }
 },
 "nbformat": 4,
 "nbformat_minor": 5
}
