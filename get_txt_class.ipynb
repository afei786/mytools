{
 "cells": [
  {
   "cell_type": "code",
   "execution_count": 1,
   "id": "db64cd9a-c41a-4a0b-9a63-cfdd000d0314",
   "metadata": {},
   "outputs": [],
   "source": [
    "import os\n",
    "from tqdm import tqdm\n"
   ]
  },
  {
   "cell_type": "code",
   "execution_count": 2,
   "id": "482c011a-4134-4fbb-b2bc-f84a213500a7",
   "metadata": {},
   "outputs": [
    {
     "name": "stdout",
     "output_type": "stream",
     "text": [
      "txt number:  978\n",
      "['frame_20230823154755992092.txt', 'frame_20230823154756376605.txt', 'frame_20230823154756771786.txt']\n"
     ]
    }
   ],
   "source": [
    "txt_path = 'D:/temp_dataset/puzhou_ztc/all_txt2/'\n",
    "txt_files = os.listdir(txt_path)\n",
    "print('txt number: ', len(txt_files))\n",
    "print(txt_files[:3])\n"
   ]
  },
  {
   "cell_type": "code",
   "execution_count": 3,
   "id": "4dcdceaf-23ce-4949-80c8-2b365e5c4f92",
   "metadata": {},
   "outputs": [
    {
     "name": "stderr",
     "output_type": "stream",
     "text": [
      "100%|██████████████████████████████████████████████████████████████████████████████| 978/978 [00:00<00:00, 5156.89it/s]"
     ]
    },
    {
     "name": "stdout",
     "output_type": "stream",
     "text": [
      "{'3': 5251, '0': 1784, '2': 155, '1': 713}\n"
     ]
    },
    {
     "name": "stderr",
     "output_type": "stream",
     "text": [
      "\n"
     ]
    }
   ],
   "source": [
    "classname_dict = {}\n",
    "    \n",
    "for file in tqdm(txt_files):\n",
    "    if os.path.exists(os.path.join(txt_path,file)):\n",
    "        with open(os.path.join(txt_path, file), 'r') as raw_txt:\n",
    "            # copied = False\n",
    "            lines = [i.strip() for i in raw_txt.readlines()]\n",
    "            if lines:\n",
    "                for line in lines:\n",
    "                    lbs = line.split(' ')\n",
    "                    label = lbs[0]\n",
    "                    # if label == '0':\n",
    "                    #     print(file)\n",
    "                    if str(label) not in classname_dict.keys():\n",
    "                        classname_dict[str(label)] = 1\n",
    "                    else:\n",
    "                        classname_dict[str(label)] += 1\n",
    "\n",
    "print(classname_dict)\n",
    "# KeyDict = sorted(classname_dict)\n",
    "# # print(\"%d kind labels and %d labels in total:\" % (len(KeyDict)))\n",
    "# print(KeyDict)\n",
    "# print(\"Label Name and it's number:\")\n",
    "# for key in KeyDict:\n",
    "#     print(\"%s\\t: %d\" % (key, KeyDict[key]))\n"
   ]
  },
  {
   "cell_type": "code",
   "execution_count": null,
   "id": "a0533dd3-7fcc-4e79-92d2-356637e1e4e7",
   "metadata": {},
   "outputs": [],
   "source": [
    "{'0': 1748, '2': 791, '1': 150}\n",
    "{'0': 208, '2': 71, '1': 18}\n",
    "{'0': 11890, '2': 4370, '1': 407}\n",
    "{'1': 4727, '2': 138, '0': 1815}\n",
    "{'3': 8741}\n",
    "\n",
    "\n",
    "\n"
   ]
  },
  {
   "cell_type": "code",
   "execution_count": 18,
   "id": "bfd2c2e1-521d-49ea-82e5-7756149b784c",
   "metadata": {},
   "outputs": [
    {
     "data": {
      "text/plain": [
       "769"
      ]
     },
     "execution_count": 18,
     "metadata": {},
     "output_type": "execute_result"
    }
   ],
   "source": [
    "\n"
   ]
  },
  {
   "cell_type": "code",
   "execution_count": null,
   "id": "9d5e8573-e2be-440f-9061-3bc9fab9df07",
   "metadata": {},
   "outputs": [],
   "source": []
  }
 ],
 "metadata": {
  "kernelspec": {
   "display_name": "torch",
   "language": "python",
   "name": "torch"
  },
  "language_info": {
   "codemirror_mode": {
    "name": "ipython",
    "version": 3
   },
   "file_extension": ".py",
   "mimetype": "text/x-python",
   "name": "python",
   "nbconvert_exporter": "python",
   "pygments_lexer": "ipython3",
   "version": "3.10.11"
  }
 },
 "nbformat": 4,
 "nbformat_minor": 5
}
