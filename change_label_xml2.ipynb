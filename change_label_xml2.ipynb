{
 "cells": [
  {
   "cell_type": "code",
   "execution_count": 1,
   "id": "c980eabb-9eac-4f39-9171-fff0592e6ea7",
   "metadata": {
    "tags": []
   },
   "outputs": [],
   "source": [
    "\"\"\"\n",
    "使用python xml解析树解析xml文件，批量修改xml文件里object节点下name节点的text\n",
    "\"\"\"\n",
    "import glob\n",
    "from tqdm import tqdm\n",
    "import xml.etree.ElementTree as ET\n",
    "import os\n",
    "import shutil"
   ]
  },
  {
   "cell_type": "code",
   "execution_count": 11,
   "id": "0de10f83-aedc-443c-af3e-af4b5e16f316",
   "metadata": {
    "tags": []
   },
   "outputs": [
    {
     "name": "stdout",
     "output_type": "stream",
     "text": [
      "['巢无1342 (22)', '巢无1342 (23)', '巢无1342 (24)']\n"
     ]
    },
    {
     "name": "stderr",
     "output_type": "stream",
     "text": [
      "100%|█████████████████████████████████████████████████████████████████████████████████| 12/12 [00:00<00:00, 135.52it/s]"
     ]
    },
    {
     "name": "stdout",
     "output_type": "stream",
     "text": [
      "over!\n"
     ]
    },
    {
     "name": "stderr",
     "output_type": "stream",
     "text": [
      "\n"
     ]
    }
   ],
   "source": [
    "root_path = ''   # 根目录\n",
    "image_path = 'images'  # image 文件夹路径\n",
    "xml_path = 'labels'  # xml文件夹路径\n",
    "new_image_path = 'new_images'\n",
    "new_xml_path = 'new_labels'\n",
    "\n",
    "# image_files = os.listdir(os.path.join(root_path, image_path))\n",
    "# xml_files = os.listdir(os.path.join(root_path, xml_path))\n",
    "# print(image_files[:2])\n",
    "# print(xml_files[:2])\n",
    "image_name_list = [os.path.splitext(i)[0] for i in os.listdir(os.path.join(root_path, image_path)) if os.path.splitext(i)[-1] != '.xml']\n",
    "# xml_name = [os.path.splitext(i)[0] for i in os.listdir(os.path.join(root_path, xml_path)) if os.path.splitext(i)[-1] == '.xml']\n",
    "print(image_name_list[:3])\n",
    "# print(xml_name[:3])\n",
    "\n",
    "label_list = ['nest'] # 要检测的目标标签\n",
    "\n",
    "if not os.path.exists(os.path.join(root_path, new_image_path)): #判断所在目录下是否有该文件名的文件夹，如不存在则创建\n",
    "    os.mkdir(os.path.join(root_path, new_image_path))\n",
    "\n",
    "if not os.path.exists(os.path.join(root_path, new_xml_path)): \n",
    "    os.mkdir(os.path.join(root_path, new_xml_path))\n",
    "\n",
    "image_h = ['.png','.PNG', '.jpg','.jpeg', '.bmp'] # 支持的图片后缀名\n",
    "\n",
    "for xml_file in tqdm(xml_files):\n",
    "    image_name = os.path.splitext(xml_file)[0]\n",
    "    tree = ET.parse(os.path.join(os.path.join(root_path, xml_path),xml_file)) \n",
    "    obj_list = tree.getroot().findall('object') \n",
    "    for per_obj in obj_list:\n",
    "        if per_obj[0].text in label_list:    # 如果存在需要的标签\n",
    "            # 复制xml到新文件夹\n",
    "            shutil.copyfile(os.path.join(os.path.join(root_path, xml_path), xml_file), os.path.join(os.path.join(root_path, new_xml_path), xml_file))\n",
    "            \n",
    "    if image_name in image_name_list:\n",
    "        for i in image_h:\n",
    "            if os.path.exists(os.path.join(os.path.join(root_path, image_path), image_name+i)):\n",
    "                shutil.copyfile(os.path.join(os.path.join(root_path, image_path), image_name+i), os.path.join(os.path.join(root_path, new_image_path), image_name+i))\n",
    "            else:\n",
    "                continue\n",
    "print(\"over!\")\n",
    "    \n"
   ]
  }
 ],
 "metadata": {
  "kernelspec": {
   "display_name": "Python 3 (ipykernel)",
   "language": "python",
   "name": "python3"
  },
  "language_info": {
   "codemirror_mode": {
    "name": "ipython",
    "version": 3
   },
   "file_extension": ".py",
   "mimetype": "text/x-python",
   "name": "python",
   "nbconvert_exporter": "python",
   "pygments_lexer": "ipython3",
   "version": "3.9.16"
  }
 },
 "nbformat": 4,
 "nbformat_minor": 5
}
