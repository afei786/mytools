{
 "cells": [
  {
   "cell_type": "code",
   "execution_count": 1,
   "id": "30bc38ac-3797-4008-8a3c-6c561058d6e4",
   "metadata": {},
   "outputs": [],
   "source": [
    "import os\n",
    "import shutil\n",
    "from tqdm import tqdm"
   ]
  },
  {
   "cell_type": "code",
   "execution_count": 7,
   "id": "701677be-5e8d-4609-a855-f14fdc17e618",
   "metadata": {},
   "outputs": [
    {
     "name": "stdout",
     "output_type": "stream",
     "text": [
      "476\n",
      "['vlcsnap-00001.txt', 'vlcsnap-00002.txt', 'vlcsnap-00003.txt', 'vlcsnap-00004.txt']\n"
     ]
    }
   ],
   "source": [
    "label = ''\n",
    "new_labels = ''\n",
    "if not os.path.exists(new_labels): #判断所在目录下是否有该文件名的文件夹\n",
    "        os.makedirs(new_labels)\n",
    "path = os.listdir(label)\n",
    "print(len(path))\n",
    "print(path[:4])"
   ]
  },
  {
   "cell_type": "code",
   "execution_count": 3,
   "id": "e0090e9f-381a-4042-bd32-fe7d90231d17",
   "metadata": {},
   "outputs": [
    {
     "name": "stderr",
     "output_type": "stream",
     "text": [
      "100%|█████████████████████████████████████████████████████████████████████████████| 561/561 [00:01<00:00, 288.54it/s]\n"
     ]
    }
   ],
   "source": [
    "label_value = '0'\n",
    "new_label_value = '1'\n",
    "for i in tqdm(range(len(path))):\n",
    "    filename = new_labels + path[i]\n",
    "    txt_path = label+path[i]\n",
    "    with open(filename, 'w+', encoding='utf-8') as out:\n",
    "        with open(txt_path, 'r') as f:\n",
    "            copy_label = False\n",
    "            contents = f.readlines()\n",
    "            for line in contents:\n",
    "                #print(line)\n",
    "                c = line.split(' ')[0]\n",
    "                if c == label_value:\n",
    "                    copy_label = True\n",
    "            for line in contents:\n",
    "                #print(line)\n",
    "                c = line.split(' ')\n",
    "                # if c[0] == '0':\n",
    "                #     continue\n",
    "                if copy_label and c[0] == label_value:\n",
    "                    c[0] = new_label_value\n",
    "\n",
    "                out.write(' '.join(c))\n"
   ]
  },
  {
   "cell_type": "code",
   "execution_count": null,
   "id": "2c62b03e-4ebd-4e5f-b93e-c9ee9fda0be2",
   "metadata": {},
   "outputs": [],
   "source": []
  },
  {
   "cell_type": "code",
   "execution_count": null,
   "id": "f663fc7f-7987-4257-b235-e41a577b9b06",
   "metadata": {},
   "outputs": [],
   "source": []
  },
  {
   "cell_type": "code",
   "execution_count": null,
   "id": "f9cf9e68-ffe5-41de-837d-7de227efcaae",
   "metadata": {},
   "outputs": [],
   "source": []
  },
  {
   "cell_type": "code",
   "execution_count": 8,
   "id": "38157c8e-d477-461c-8588-ba257d475751",
   "metadata": {},
   "outputs": [
    {
     "name": "stderr",
     "output_type": "stream",
     "text": [
      "100%|██████████| 476/476 [00:00<00:00, 2821.75it/s]\n"
     ]
    }
   ],
   "source": [
    "# 复制指定的标签文本\n",
    "copy_list = ['3']  # 要复制的标签的下标\n",
    "for i in tqdm(range(len(path))):\n",
    "    filename = new_labels + path[i]\n",
    "    txt_path = label+path[i]\n",
    "    with open(filename, 'w+', encoding='utf-8') as out:\n",
    "        with open(txt_path, 'r') as f:\n",
    "            copy_label = False\n",
    "            contents = f.readlines()\n",
    "            for line in contents:\n",
    "                #print(line)\n",
    "                c = line.split(' ')[0]\n",
    "                if c in copy_list:\n",
    "                    # out.write(' '.join(c))\n",
    "                    copy_label = True\n",
    "                \n",
    "            for line in contents:\n",
    "                #print(line)\n",
    "                c = line.split(' ')\n",
    "                # if c[0] == '0':\n",
    "                #     continue\n",
    "                if copy_label and c[0] in copy_list:\n",
    "                    out.write(' '.join(c))\n",
    "\n",
    "\n",
    "            "
   ]
  },
  {
   "cell_type": "code",
   "execution_count": 9,
   "id": "598b2f76-7359-4541-a5c5-a6dcb85831ac",
   "metadata": {
    "tags": []
   },
   "outputs": [
    {
     "name": "stderr",
     "output_type": "stream",
     "text": [
      "100%|██████████| 476/476 [00:00<00:00, 8422.87it/s]\n"
     ]
    }
   ],
   "source": [
    "# 删除空文本文件\n",
    "for filename in tqdm(os.listdir(new_labels)):\n",
    "    # 判断是否为文本文件\n",
    "    if filename.endswith(\".txt\"):\n",
    "        # 判断文件是否为空\n",
    "        if os.path.getsize(os.path.join(new_labels, filename)) == 0:\n",
    "            # 删除文件\n",
    "            os.remove(os.path.join(new_labels, filename))"
   ]
  },
  {
   "cell_type": "code",
   "execution_count": null,
   "id": "5006268a-a717-45e9-8de9-8caee6eb5e97",
   "metadata": {},
   "outputs": [],
   "source": []
  },
  {
   "cell_type": "code",
   "execution_count": null,
   "id": "659a07e3-9d5b-45a8-920d-268703ea2216",
   "metadata": {},
   "outputs": [],
   "source": []
  },
  {
   "cell_type": "code",
   "execution_count": null,
   "id": "f166dd35-60e3-49ca-b186-6caf5f8706a7",
   "metadata": {},
   "outputs": [],
   "source": [
    "\n",
    "            "
   ]
  },
  {
   "cell_type": "code",
   "execution_count": null,
   "id": "6958da2d-315c-4799-a32d-7cf0a050f6c0",
   "metadata": {},
   "outputs": [],
   "source": []
  }
 ],
 "metadata": {
  "kernelspec": {
   "display_name": "torch",
   "language": "python",
   "name": "torch"
  },
  "language_info": {
   "codemirror_mode": {
    "name": "ipython",
    "version": 3
   },
   "file_extension": ".py",
   "mimetype": "text/x-python",
   "name": "python",
   "nbconvert_exporter": "python",
   "pygments_lexer": "ipython3",
   "version": "3.10.11"
  }
 },
 "nbformat": 4,
 "nbformat_minor": 5
}
