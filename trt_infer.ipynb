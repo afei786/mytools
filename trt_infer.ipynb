{
 "cells": [
  {
   "cell_type": "code",
   "execution_count": 1,
   "id": "a2fb9a9b-8b27-491b-861c-701191f93ff2",
   "metadata": {
    "tags": []
   },
   "outputs": [],
   "source": [
    "import pycuda.autoinit  #负责数据初始化，内存管理，销毁等\n",
    "import pycuda.driver as cuda  #GPU CPU之间的数据传输\n",
    "\n",
    "import numpy as np"
   ]
  },
  {
   "cell_type": "code",
   "execution_count": 2,
   "id": "a3f3e79c-a05d-452d-ad55-6af7cac2f9d4",
   "metadata": {
    "tags": []
   },
   "outputs": [],
   "source": [
    "import tensorrt as trt  # https://developer.nvidia.com/nvidia-tensorrt-download\n",
    "from collections import OrderedDict, namedtuple\n",
    "\n",
    "w = 'D:/Nvidia/TensorRT/bin/fire0808.engine'\n",
    "Binding = namedtuple('Binding', ('name', 'dtype', 'shape'))\n",
    "logger = trt.Logger(trt.Logger.INFO)\n"
   ]
  },
  {
   "cell_type": "code",
   "execution_count": 3,
   "id": "e37ac8bb-2c89-4cdb-a93c-1dabc8100982",
   "metadata": {
    "tags": []
   },
   "outputs": [],
   "source": [
    "with open(w, 'rb') as f, trt.Runtime(logger) as runtime:\n",
    "    model = runtime.deserialize_cuda_engine(f.read())\n",
    "    "
   ]
  },
  {
   "cell_type": "code",
   "execution_count": 4,
   "id": "81209a57-cf54-4aa9-a5cd-b2afaea7c207",
   "metadata": {},
   "outputs": [
    {
     "name": "stdout",
     "output_type": "stream",
     "text": [
      "<tensorrt.tensorrt.ICudaEngine object at 0x000001B987152470>\n"
     ]
    }
   ],
   "source": [
    "print(model)"
   ]
  },
  {
   "cell_type": "code",
   "execution_count": 5,
   "id": "5debc7a8-f170-4c4f-bf0e-09cfa88238b1",
   "metadata": {
    "tags": []
   },
   "outputs": [
    {
     "name": "stderr",
     "output_type": "stream",
     "text": [
      "C:\\Users\\by\\AppData\\Local\\Temp\\ipykernel_22792\\1248421138.py:7: DeprecationWarning: Use get_tensor_name instead.\n",
      "  name = model.get_binding_name(i)\n",
      "C:\\Users\\by\\AppData\\Local\\Temp\\ipykernel_22792\\1248421138.py:8: DeprecationWarning: Use get_tensor_dtype instead.\n",
      "  dtype = trt.nptype(model.get_binding_dtype(i))\n",
      "C:\\Users\\by\\AppData\\Local\\Temp\\ipykernel_22792\\1248421138.py:9: DeprecationWarning: Use get_tensor_mode instead.\n",
      "  if model.binding_is_input(i):\n",
      "C:\\Users\\by\\AppData\\Local\\Temp\\ipykernel_22792\\1248421138.py:10: DeprecationWarning: Use get_tensor_shape instead.\n",
      "  if -1 in tuple(model.get_binding_shape(i)):  # dynamic\n",
      "C:\\Users\\by\\AppData\\Local\\Temp\\ipykernel_22792\\1248421138.py:12: DeprecationWarning: Use get_tensor_profile_shape instead.\n",
      "  context.set_binding_shape(i, tuple(model.get_profile_shape(0, i)[2]))\n",
      "C:\\Users\\by\\AppData\\Local\\Temp\\ipykernel_22792\\1248421138.py:12: DeprecationWarning: Use set_input_shape instead.\n",
      "  context.set_binding_shape(i, tuple(model.get_profile_shape(0, i)[2]))\n",
      "C:\\Users\\by\\AppData\\Local\\Temp\\ipykernel_22792\\1248421138.py:17: DeprecationWarning: Use get_tensor_shape instead.\n",
      "  shape = tuple(context.get_binding_shape(i))\n"
     ]
    }
   ],
   "source": [
    "context = model.create_execution_context()\n",
    "bindings = OrderedDict()\n",
    "output_names = []\n",
    "fp16 = False  # default updated below\n",
    "dynamic = False\n",
    "for i in range(model.num_bindings):\n",
    "    name = model.get_binding_name(i)\n",
    "    dtype = trt.nptype(model.get_binding_dtype(i))\n",
    "    if model.binding_is_input(i):\n",
    "        if -1 in tuple(model.get_binding_shape(i)):  # dynamic\n",
    "            dynamic = True\n",
    "            context.set_binding_shape(i, tuple(model.get_profile_shape(0, i)[2]))\n",
    "        if dtype == np.float16:\n",
    "            fp16 = True\n",
    "    else:  # output\n",
    "        output_names.append(name)\n",
    "    shape = tuple(context.get_binding_shape(i))\n",
    "    im = np.empty(shape, dtype=dtype)\n",
    "    bindings[name] = Binding(name, dtype, shape)\n",
    "batch_size = bindings['images'].shape[0]  # if dynamic, this is instead max batch size"
   ]
  },
  {
   "cell_type": "code",
   "execution_count": 6,
   "id": "edc25acf-5941-45fe-a1b3-226ccba62481",
   "metadata": {
    "tags": []
   },
   "outputs": [
    {
     "data": {
      "text/plain": [
       "OrderedDict([('images',\n",
       "              Binding(name='images', dtype=<class 'numpy.float32'>, shape=(1, 3, 2048, 2048))),\n",
       "             ('output0',\n",
       "              Binding(name='output0', dtype=<class 'numpy.float32'>, shape=(1, 6, 86016)))])"
      ]
     },
     "execution_count": 6,
     "metadata": {},
     "output_type": "execute_result"
    }
   ],
   "source": [
    "bindings"
   ]
  },
  {
   "cell_type": "code",
   "execution_count": 7,
   "id": "5c3e8d40-5ea8-45a0-b785-d035d02baca4",
   "metadata": {
    "tags": []
   },
   "outputs": [],
   "source": [
    "import cv2\n",
    "img = cv2.imread('./test.png')\n",
    "img0 = cv2.imread('./test.png')\n",
    "\n",
    "# img = np.ones((1, 3, 1024, 1024), dtype=np.float32)\n"
   ]
  },
  {
   "cell_type": "code",
   "execution_count": 8,
   "id": "3db11d13-c37d-40b3-be76-b58283fe8a5f",
   "metadata": {},
   "outputs": [
    {
     "data": {
      "text/plain": [
       "(1024, 1024, 3)"
      ]
     },
     "execution_count": 8,
     "metadata": {},
     "output_type": "execute_result"
    }
   ],
   "source": [
    "img.shape"
   ]
  },
  {
   "cell_type": "code",
   "execution_count": 15,
   "id": "e6953c56-bafe-4bcc-bd80-a31568bb0baf",
   "metadata": {},
   "outputs": [
    {
     "data": {
      "text/plain": [
       "(1, 3, 1024, 1024)"
      ]
     },
     "execution_count": 15,
     "metadata": {},
     "output_type": "execute_result"
    }
   ],
   "source": [
    "img = img.reshape((1,3,1024,1024))\n",
    "img.shape"
   ]
  },
  {
   "cell_type": "code",
   "execution_count": 16,
   "id": "a3a6b0a5-b6f8-452b-99c9-85cb5a371802",
   "metadata": {},
   "outputs": [],
   "source": [
    "# cv2.imshow(\"img\", img)\n",
    "# cv2.waitKey(0)\n",
    "# cv2.destroyAllWindows()"
   ]
  },
  {
   "cell_type": "code",
   "execution_count": 17,
   "id": "750fba9d-b188-489e-a222-dc5fc3500e65",
   "metadata": {
    "tags": []
   },
   "outputs": [
    {
     "name": "stderr",
     "output_type": "stream",
     "text": [
      "C:\\Users\\by\\AppData\\Local\\Temp\\ipykernel_22792\\1328704286.py:2: DeprecationWarning: Use get_tensor_name instead.\n",
      "  i = model.get_binding_index('images')\n",
      "C:\\Users\\by\\AppData\\Local\\Temp\\ipykernel_22792\\1328704286.py:3: DeprecationWarning: Use set_input_shape instead.\n",
      "  context.set_binding_shape(i, img.shape)  # reshape if dynamic\n",
      "C:\\Users\\by\\AppData\\Local\\Temp\\ipykernel_22792\\1328704286.py:4: DeprecationWarning: Use get_tensor_shape instead.\n",
      "  bindings['images'] = bindings['images']._replace(shape=context.get_binding_shape(i))\n",
      "C:\\Users\\by\\AppData\\Local\\Temp\\ipykernel_22792\\1328704286.py:6: DeprecationWarning: Use get_tensor_name instead.\n",
      "  i = model.get_binding_index(name)\n",
      "C:\\Users\\by\\AppData\\Local\\Temp\\ipykernel_22792\\1328704286.py:7: DeprecationWarning: Use get_tensor_shape instead.\n",
      "  bindings[name] = bindings[name]._replace(shape=context.get_binding_shape(i))\n"
     ]
    }
   ],
   "source": [
    "if dynamic and img.shape != bindings['images'].shape:\n",
    "    i = model.get_binding_index('images')\n",
    "    context.set_binding_shape(i, img.shape)  # reshape if dynamic\n",
    "    bindings['images'] = bindings['images']._replace(shape=context.get_binding_shape(i))\n",
    "    for name in output_names:\n",
    "        i = model.get_binding_index(name)\n",
    "        bindings[name] = bindings[name]._replace(shape=context.get_binding_shape(i))\n",
    "        #bindings[name].data.resize_(tuple(context.get_binding_shape(i)))"
   ]
  },
  {
   "cell_type": "code",
   "execution_count": 18,
   "id": "8674b0bc-eecd-4ef1-aabe-0b09b0e80390",
   "metadata": {
    "tags": []
   },
   "outputs": [
    {
     "data": {
      "text/plain": [
       "OrderedDict([('images',\n",
       "              Binding(name='images', dtype=<class 'numpy.float32'>, shape=(1, 3, 1024, 1024))),\n",
       "             ('output0',\n",
       "              Binding(name='output0', dtype=<class 'numpy.float32'>, shape=(1, 6, 21504)))])"
      ]
     },
     "execution_count": 18,
     "metadata": {},
     "output_type": "execute_result"
    }
   ],
   "source": [
    "bindings"
   ]
  },
  {
   "cell_type": "code",
   "execution_count": 19,
   "id": "497dceb6-1da8-4a89-814a-da576a93e510",
   "metadata": {
    "tags": []
   },
   "outputs": [],
   "source": [
    "h_input = cuda.pagelocked_empty(trt.volume(bindings['images'].shape), dtype=np.float32)\n",
    "h_output = cuda.pagelocked_empty(trt.volume(bindings['output0'].shape), dtype=np.float32)\n",
    "d_input = cuda.mem_alloc(h_input.nbytes)\n",
    "d_output = cuda.mem_alloc(h_output.nbytes)"
   ]
  },
  {
   "cell_type": "code",
   "execution_count": 20,
   "id": "f6b86763-f857-485b-b857-879fbdf41a90",
   "metadata": {
    "tags": []
   },
   "outputs": [],
   "source": [
    "h_input[:] = img.flatten()"
   ]
  },
  {
   "cell_type": "code",
   "execution_count": 21,
   "id": "674ece3f-ff0b-42cc-be6f-8490a05f8f7b",
   "metadata": {
    "tags": []
   },
   "outputs": [
    {
     "data": {
      "text/plain": [
       "(3145728,)"
      ]
     },
     "execution_count": 21,
     "metadata": {},
     "output_type": "execute_result"
    }
   ],
   "source": [
    "h_input.shape"
   ]
  },
  {
   "cell_type": "code",
   "execution_count": null,
   "id": "26a10e7d-e4fc-4c6a-ac11-0a2a9c10b42e",
   "metadata": {},
   "outputs": [],
   "source": []
  },
  {
   "cell_type": "code",
   "execution_count": 22,
   "id": "d01e34ea-42ce-4075-bae9-c8d331c61179",
   "metadata": {
    "tags": []
   },
   "outputs": [],
   "source": [
    "stream = cuda.Stream()"
   ]
  },
  {
   "cell_type": "code",
   "execution_count": 23,
   "id": "f6a20abb-d5e1-4c90-b81c-f6c6a8ea7251",
   "metadata": {
    "tags": []
   },
   "outputs": [],
   "source": [
    "cuda.memcpy_htod_async(d_input, h_input, stream)"
   ]
  },
  {
   "cell_type": "code",
   "execution_count": 24,
   "id": "8a15451d-ddc0-4653-b147-851b63c3a864",
   "metadata": {
    "tags": []
   },
   "outputs": [
    {
     "data": {
      "text/plain": [
       "True"
      ]
     },
     "execution_count": 24,
     "metadata": {},
     "output_type": "execute_result"
    }
   ],
   "source": [
    "context.execute_v2(bindings=[int(d_input), int(d_output)])"
   ]
  },
  {
   "cell_type": "code",
   "execution_count": 25,
   "id": "71f481cb-3fff-4b1f-96ff-a32ceec3d2f5",
   "metadata": {
    "tags": []
   },
   "outputs": [],
   "source": [
    "cuda.memcpy_dtoh_async(h_output, d_output, stream)\n",
    "# Synchronize the stream\n",
    "stream.synchronize()"
   ]
  },
  {
   "cell_type": "code",
   "execution_count": 26,
   "id": "e77b6f54-f63d-4b6e-9990-5c3cbc1ea534",
   "metadata": {
    "tags": []
   },
   "outputs": [
    {
     "data": {
      "text/plain": [
       "(129024,)"
      ]
     },
     "execution_count": 26,
     "metadata": {},
     "output_type": "execute_result"
    }
   ],
   "source": [
    "h_output.shape"
   ]
  },
  {
   "cell_type": "code",
   "execution_count": 27,
   "id": "bc806f53-5106-430f-95b6-408f4524f191",
   "metadata": {},
   "outputs": [],
   "source": [
    "pred = h_output.reshape((21504, 6))"
   ]
  },
  {
   "cell_type": "code",
   "execution_count": 28,
   "id": "698d6580-ae9e-4d56-9e52-4171ec427d06",
   "metadata": {},
   "outputs": [
    {
     "data": {
      "text/plain": [
       "(21504, 6)"
      ]
     },
     "execution_count": 28,
     "metadata": {},
     "output_type": "execute_result"
    }
   ],
   "source": [
    "pred.shape"
   ]
  },
  {
   "cell_type": "code",
   "execution_count": 29,
   "id": "e86df899-5c58-480b-902e-beaacf5469d7",
   "metadata": {},
   "outputs": [
    {
     "data": {
      "text/plain": [
       "array([[8.98131561e+00, 1.69300346e+01, 1.61375771e+01, 3.04497414e+01,\n",
       "        3.57867813e+01, 4.22653923e+01],\n",
       "       [5.47671967e+01, 6.18253822e+01, 6.65333099e+01, 7.96277771e+01,\n",
       "        8.77415466e+01, 8.99921341e+01],\n",
       "       [9.73884430e+01, 1.08479965e+02, 1.19422745e+02, 1.23437210e+02,\n",
       "        1.30983429e+02, 1.43108612e+02],\n",
       "       ...,\n",
       "       [7.59959221e-06, 1.84774399e-05, 1.12950802e-05, 2.65240669e-06,\n",
       "        5.96046448e-07, 3.87430191e-07],\n",
       "       [5.96046448e-07, 2.68220901e-07, 1.19209290e-07, 2.98023224e-07,\n",
       "        3.18884850e-06, 3.24845314e-06],\n",
       "       [8.94069672e-08, 1.49011612e-07, 9.83476639e-07, 2.47359276e-06,\n",
       "        5.06639481e-07, 1.13248825e-06]], dtype=float32)"
      ]
     },
     "execution_count": 29,
     "metadata": {},
     "output_type": "execute_result"
    }
   ],
   "source": [
    "pred"
   ]
  },
  {
   "cell_type": "code",
   "execution_count": 30,
   "id": "b6ea3383-c154-4fc2-804d-c825410e9a3e",
   "metadata": {},
   "outputs": [],
   "source": [
    "scores = pred[:, 4]"
   ]
  },
  {
   "cell_type": "code",
   "execution_count": 31,
   "id": "0a0de6e7-7b20-4cc7-be5c-b1213c623b21",
   "metadata": {},
   "outputs": [
    {
     "data": {
      "text/plain": [
       "(21504,)"
      ]
     },
     "execution_count": 31,
     "metadata": {},
     "output_type": "execute_result"
    }
   ],
   "source": [
    "scores.shape"
   ]
  },
  {
   "cell_type": "code",
   "execution_count": null,
   "id": "4aa3fdff-9682-40bd-a606-395eb518ee33",
   "metadata": {},
   "outputs": [],
   "source": []
  },
  {
   "cell_type": "code",
   "execution_count": 32,
   "id": "7d51e956-1864-44b6-b671-7c6dfccc7658",
   "metadata": {},
   "outputs": [],
   "source": [
    "import numpy as np\n",
    "import random\n",
    "import cv2\n",
    "\n",
    "def non_max_suppress(predict, iou_threshold):\n",
    "    \n",
    "    bbox_array = np.array(predict, dtype=np.float32)\n",
    "    #下面分别获取框的左上角坐标（x1，y1），右下角坐标（x2，y2）及此框的置信度；这里需要注意的是图像左上角可以看做坐标点（0,0），右下角可以看做坐标点（1,1），也就是说从左往右x值增大，从上往下y值增大\n",
    "    x1 = bbox_array[:, 0]\n",
    "    y1 = bbox_array[:, 1]\n",
    "    x2 = bbox_array[:, 2]\n",
    "    y2 = bbox_array[:, 3]\n",
    "    scores = bbox_array[:, 4]\n",
    "    order = scores.argsort()[::-1]  # argsort函数返回的是数组值从小到大的索引值,[::-1]表示取反。即这里返回的是数组值从大到小的索引值\n",
    "    areas = (x2 - x1 + 1) * (y2 - y1 + 1)  # 当前类所有框的面积(python会自动使用广播机制，相当于MATLAB中的.*即两矩阵对应元素相乘)；x1=3,x2=5,习惯上计算x方向长度就是x=3、4、5这三个像素，即5-3+1=3，而不是5-3=2，所以需要加1\n",
    "    keep = []\n",
    "    \n",
    "    #按confidence从高到低遍历bbx，移除所有与该矩形框的IoU值大于threshold的矩形框\n",
    "    while order.size > 0:\n",
    "        i = order[0]\n",
    "        keep.append(i)\n",
    "        # 保留当前最大confidence对应的bbx索引\n",
    "        # 获取所有与当前bbx的交集对应的左上角和右下角坐标，并计算IoU（注意这里是同时计算一个bbx与其他所有bbx的IoU）\n",
    "        xx1 = np.maximum(x1[i], x1[order[1:]])#最大置信度的左上角坐标分别与剩余所有的框的左上角坐标进行比较，分别保存较大值；因此这里的xx1的维数应该是当前类的框的个数减1\n",
    "        yy1 = np.maximum(y1[i], y1[order[1:]])\n",
    "        xx2 = np.minimum(x2[i], x2[order[1:]])\n",
    "        yy2 = np.minimum(y2[i], y2[order[1:]])\n",
    "        inter = np.maximum(0.0, xx2-xx1+1) * np.maximum(0.0, yy2-yy1+1)\n",
    "        iou = inter / (areas[i] + areas[order[1:]] - inter)#注意这里都是采用广播机制，同时计算了置信度最高的框与其余框的IoU\n",
    "        inds = np.where(iou <= iou_threshold)[0]#保留iou小于等于阙值的框的索引值\n",
    "        order = order[inds + 1]  # 将order中的第inds+1处的值重新赋值给order；即更新保留下来的索引，加1是因为因为没有计算与自身的IOU，所以索引相差１，需要加上\n",
    "    bbox = bbox_array[keep]\n",
    "\t#predicts_dict = predicts_dict\n",
    "    return bbox\n",
    "    "
   ]
  },
  {
   "cell_type": "code",
   "execution_count": 33,
   "id": "091e9f0d-6e8f-4b00-a9a3-507ed7415b64",
   "metadata": {},
   "outputs": [],
   "source": [
    "res = non_max_suppress(pred, iou_threshold=0.1)"
   ]
  },
  {
   "cell_type": "code",
   "execution_count": 34,
   "id": "3f5eb522-9bcf-4e2d-838b-dfecb50bb609",
   "metadata": {},
   "outputs": [
    {
     "data": {
      "text/plain": [
       "(7546, 6)"
      ]
     },
     "execution_count": 34,
     "metadata": {},
     "output_type": "execute_result"
    }
   ],
   "source": [
    "res.shape"
   ]
  },
  {
   "cell_type": "code",
   "execution_count": 35,
   "id": "b01c8ef1-8f58-4076-b524-0abed73c5650",
   "metadata": {},
   "outputs": [
    {
     "data": {
      "text/plain": [
       "(7546, 6)"
      ]
     },
     "execution_count": 35,
     "metadata": {},
     "output_type": "execute_result"
    }
   ],
   "source": [
    "# img_cp = np.zeros((1024,1024), np.uint8)\n",
    "predict = non_max_suppress(pred, 0.1)\n",
    "predict.shape"
   ]
  },
  {
   "cell_type": "code",
   "execution_count": 38,
   "id": "cf86e963-587d-41be-b1e8-878a65680bec",
   "metadata": {},
   "outputs": [],
   "source": [
    "for box in predict:\n",
    "    # print(box)\n",
    "    x1, y1, x2, y2, score = int(box[0]), int(box[1]), int(box[2]), int(box[3]), box[4]\n",
    "    y_text = int(random.uniform(y1, y2))# uniform()是不能直接访问的，需要导入 random 模块，然后通过 random 静态对象调用该方法。uniform() 方法将随机生成下一个实数，它在 [x, y) 范围内\n",
    "cv2.rectangle(img0, (x1, y1), (x2, y2), (0, 255, 255), 2)\n",
    "cv2.putText(img0, str(score), (x2 - 30, y_text), 2, 1, (255, 255, 0))\n",
    "cv2.namedWindow(\"black1_nms\")# 创建一个显示图像的窗口\n",
    "cv2.imshow(\"black1_nms\", img0)# 在窗口中显示图像;注意这里的窗口名字如果不是刚刚创建的窗口的名字则会自动创建一个新的窗口并将图像显示在这个窗口\n",
    "cv2.waitKey(0)# 如果不添这一句，在IDLE中执行窗口直接无响应。在命令行中执行的话，则是一闪而过。\n",
    "cv2.destroyAllWindows()  # 最后释放窗口是个好习惯！"
   ]
  },
  {
   "cell_type": "code",
   "execution_count": null,
   "id": "87459faa-72e3-4ccb-84cb-c1c7ac8cce70",
   "metadata": {},
   "outputs": [],
   "source": []
  },
  {
   "cell_type": "code",
   "execution_count": null,
   "id": "6f8c4aa3-5699-4dfd-ad9d-546fb4d463f6",
   "metadata": {},
   "outputs": [],
   "source": []
  },
  {
   "cell_type": "code",
   "execution_count": null,
   "id": "9b84666e-b711-4742-9519-1af4c830ce39",
   "metadata": {},
   "outputs": [],
   "source": []
  },
  {
   "cell_type": "code",
   "execution_count": null,
   "id": "f985ecbd-8398-4bb8-b4e0-52066ff3b151",
   "metadata": {},
   "outputs": [],
   "source": [
    " if self.dynamic and im.shape != self.bindings['images'].shape:\n",
    "    i = self.model.get_binding_index('images')\n",
    "    self.context.set_binding_shape(i, im.shape)  # reshape if dynamic\n",
    "    self.bindings['images'] = self.bindings['images']._replace(shape=im.shape)\n",
    "    for name in self.output_names:\n",
    "        i = self.model.get_binding_index(name)\n",
    "        self.bindings[name].data.resize_(tuple(self.context.get_binding_shape(i)))\n",
    "s = self.bindings['images'].shape\n",
    "assert im.shape == s, f\"input size {im.shape} {'>' if self.dynamic else 'not equal to'} max model size {s}\"\n",
    "self.binding_addrs['images'] = int(im.data_ptr())\n",
    "self.context.execute_v2(list(self.binding_addrs.values()))\n",
    "y = [self.bindings[x].data for x in sorted(self.output_names)]"
   ]
  },
  {
   "cell_type": "code",
   "execution_count": null,
   "id": "279b8d30-c23f-4506-8db4-29475af73e68",
   "metadata": {},
   "outputs": [],
   "source": []
  },
  {
   "cell_type": "code",
   "execution_count": null,
   "id": "d7ce1efe-4eae-4f07-aada-36773ad55aec",
   "metadata": {},
   "outputs": [],
   "source": []
  }
 ],
 "metadata": {
  "kernelspec": {
   "display_name": "torch",
   "language": "python",
   "name": "torch"
  },
  "language_info": {
   "codemirror_mode": {
    "name": "ipython",
    "version": 3
   },
   "file_extension": ".py",
   "mimetype": "text/x-python",
   "name": "python",
   "nbconvert_exporter": "python",
   "pygments_lexer": "ipython3",
   "version": "3.10.11"
  }
 },
 "nbformat": 4,
 "nbformat_minor": 5
}
