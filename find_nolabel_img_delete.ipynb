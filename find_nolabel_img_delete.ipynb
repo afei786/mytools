{
 "cells": [
  {
   "cell_type": "code",
   "execution_count": 1,
   "id": "d46f2a71-54f0-4aa8-8f15-00c2e24fd6ff",
   "metadata": {
    "tags": []
   },
   "outputs": [],
   "source": [
    "import os\n",
    "import shutil\n",
    "from tqdm import tqdm"
   ]
  },
  {
   "cell_type": "code",
   "execution_count": 16,
   "id": "c31c8362-b5a0-46b9-9e19-c8975e06e45f",
   "metadata": {},
   "outputs": [],
   "source": [
    "# src_path = 'all_images'\n",
    "# dst_path = 'all_images_with_labels'\n",
    "# labels_path = 'all_labels'\n",
    "# empty_path = 'all_images_without_labels'\n",
    "\n",
    "root_path = 'E:/puzhou_train/fire_smoke/puzhou1/shoudong5/'\n",
    "src_path = os.path.join(root_path, 'images')\n",
    "labels_path = os.path.join(root_path, 'labels') \n",
    "dst_path = os.path.join(root_path, 'with') \n",
    "empty_path = os.path.join(root_path, 'without') \n",
    "\n",
    "if not os.path.exists(empty_path): \n",
    "    os.mkdir(empty_path)\n",
    "\n",
    "if not os.path.exists(dst_path): \n",
    "    os.mkdir(dst_path)\n"
   ]
  },
  {
   "cell_type": "code",
   "execution_count": 17,
   "id": "f7426cf6-3674-4696-97ad-699835a3ce2f",
   "metadata": {
    "tags": []
   },
   "outputs": [
    {
     "name": "stdout",
     "output_type": "stream",
     "text": [
      "图片数量： 480\n"
     ]
    },
    {
     "name": "stderr",
     "output_type": "stream",
     "text": [
      "100%|███████████████████████████████████████████████████████████████████████████████| 480/480 [00:01<00:00, 429.67it/s]\n"
     ]
    }
   ],
   "source": [
    "path =  src_path     # 输入文件夹地址\n",
    "files = os.listdir(path)   # 读入文件夹\n",
    "num_png = len(files)       # 统计文件夹中的文件个数\n",
    "print('图片数量：',num_png) \n",
    "\n",
    "\n",
    "# 根据标签找到多余图片\n",
    "\n",
    "images = [i for i in os.listdir(src_path) if os.path.splitext(i)[-1] != '.txt']\n",
    "labels = [os.path.splitext(i)[0] for i in os.listdir(labels_path) if os.path.splitext(i)[-1] == '.xml'] \n",
    "# print(images)\n",
    "# print(labels)\n",
    "\n",
    "for image in tqdm(images):\n",
    "    img_name = os.path.splitext(image)[0]\n",
    "\n",
    "    if img_name in labels:\n",
    "        pass\n",
    "        # print(filename, 'have xml!')\n",
    "        # shutil.copyfile(os.path.join(src_path, image), os.path.join(dst_path, image))\n",
    "    else:\n",
    "        # pass\n",
    "        shutil.copyfile(os.path.join(src_path, image), os.path.join(empty_path, image))\n",
    "        # os.remove(os.path.join(src_path, image))\n",
    "\n",
    "\n",
    "# # 根据图片找到多余标签\n",
    "# images = [os.path.splitext(i)[0] for i in os.listdir(src_path) if os.path.splitext(i)[-1] != '.txt']\n",
    "# labels = [i for i in os.listdir(labels_path) if os.path.splitext(i)[-1] == '.xml'] \n",
    "# print('images number:', len(images))\n",
    "# print('labels number:', len(labels))\n",
    "\n",
    "# for label in tqdm(labels):\n",
    "#     label_name = os.path.splitext(label)[0]\n",
    "\n",
    "#     if label_name in images:\n",
    "#         pass\n",
    "#         # print(filename, 'have xml!')\n",
    "#         # shutil.copyfile(os.path.join(labels_path, label), os.path.join(dst_path, label))\n",
    "#         # os.remove(os.path.join(labels_path, label))\n",
    "        \n",
    "#     else:\n",
    "#         # pass\n",
    "#         shutil.copyfile(os.path.join(labels_path, label), os.path.join(empty_path, label))\n",
    "#         os.remove(os.path.join(labels_path, label))\n",
    "\n",
    "\n"
   ]
  },
  {
   "cell_type": "code",
   "execution_count": 3,
   "id": "d6e5b30b-d2c8-46d3-8562-bb2df562b419",
   "metadata": {},
   "outputs": [
    {
     "name": "stdout",
     "output_type": "stream",
     "text": [
      "['vlcsnap_2023-06-27-09h25m06s637', 'vlcsnap_2023-06-27-09h25m12s025']\n",
      "['vlcsnap_2023-06-27-09h25m06s637', 'vlcsnap_2023-06-27-09h25m12s025']\n"
     ]
    },
    {
     "name": "stderr",
     "output_type": "stream",
     "text": [
      "100%|██████████████████████████████████████████████████████████████████████████████████| 7/7 [00:00<00:00, 145.73it/s]\n"
     ]
    }
   ],
   "source": [
    "# 使用set()\n",
    "\n",
    "images = [os.path.splitext(i)[0] for i in os.listdir(src_path) if os.path.splitext(i)[-1] != '.txt']\n",
    "labels = [os.path.splitext(i)[0] for i in os.listdir(labels_path) if os.path.splitext(i)[-1] == '.xml'] \n",
    "print(images[:2])\n",
    "print(labels[:2])\n",
    "\n",
    "empt = set(images) - set(labels)\n",
    "\n",
    "for i in tqdm(empt):\n",
    "    # print(i)\n",
    "    image = i + '.png'\n",
    "    label = i + '.xml'\n",
    "    if not os.path.exists(os.path.join(labels_path, label)):\n",
    "        shutil.copyfile(os.path.join(src_path, image), os.path.join(empty_path, image))\n",
    "        # os.remove(os.path.join(labels_path, label))\n",
    "        \n",
    "    else:\n",
    "        # print(image,'is exist!')\n",
    "        pass\n",
    "    "
   ]
  },
  {
   "cell_type": "code",
   "execution_count": null,
   "id": "a67dc440-143c-4249-b570-7561368a5c8a",
   "metadata": {},
   "outputs": [],
   "source": []
  },
  {
   "cell_type": "code",
   "execution_count": null,
   "id": "939561ff-8529-4664-95c1-59ac0a241113",
   "metadata": {},
   "outputs": [],
   "source": []
  },
  {
   "cell_type": "code",
   "execution_count": 4,
   "id": "b2173294-9447-4f25-97c7-8d2dbf058311",
   "metadata": {},
   "outputs": [
    {
     "name": "stdout",
     "output_type": "stream",
     "text": [
      "['0036addaa20f8a4de56a543451826595.txt', '0036addaa20f8a4de56a543451826595_rotated.txt', '01B9B0CEC7D5DB8921B892BA288E12439EC55B6D_size453_w1440_h1080.txt']\n"
     ]
    }
   ],
   "source": [
    "delete_file_path = 'E:/puzhou_train/fire_smoke/acai_fire/labels/train_custom/'\n",
    "empty_path = 'E:/puzhou_train/fire_smoke/acai_fire/labels/train_custom_new/'\n",
    "if not os.path.exists(empty_path):\n",
    "    os.makedirs(empty_path)\n",
    "file_list = os.listdir(delete_file_path)\n",
    "print(file_list[:3])\n"
   ]
  },
  {
   "cell_type": "code",
   "execution_count": 5,
   "id": "f10007fc-3e1a-45f4-8e2e-4f3cbf6eebeb",
   "metadata": {
    "scrolled": true
   },
   "outputs": [
    {
     "name": "stderr",
     "output_type": "stream",
     "text": [
      "100%|████████████████████████████████████████████████████████████████████████████| 3194/3194 [00:05<00:00, 561.00it/s]\n"
     ]
    }
   ],
   "source": [
    "for i in tqdm(file_list):\n",
    "    a = i.split('_rotated')[0]\n",
    "    if os.path.exists(os.path.join(delete_file_path, a)):\n",
    "        shutil.copyfile(os.path.join(delete_file_path, a), os.path.join(empty_path, a))\n",
    "        "
   ]
  },
  {
   "cell_type": "code",
   "execution_count": null,
   "id": "8713dff8-ca99-440d-b5a1-ea49bb3dd6bb",
   "metadata": {},
   "outputs": [],
   "source": []
  }
 ],
 "metadata": {
  "kernelspec": {
   "display_name": "Python 3 (ipykernel)",
   "language": "python",
   "name": "python3"
  },
  "language_info": {
   "codemirror_mode": {
    "name": "ipython",
    "version": 3
   },
   "file_extension": ".py",
   "mimetype": "text/x-python",
   "name": "python",
   "nbconvert_exporter": "python",
   "pygments_lexer": "ipython3",
   "version": "3.9.16"
  }
 },
 "nbformat": 4,
 "nbformat_minor": 5
}
