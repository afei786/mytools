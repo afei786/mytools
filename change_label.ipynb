{
 "cells": [
  {
   "cell_type": "code",
   "execution_count": 1,
   "id": "30bc38ac-3797-4008-8a3c-6c561058d6e4",
   "metadata": {},
   "outputs": [],
   "source": [
    "import os\n",
    "import shutil\n",
    "from tqdm import tqdm"
   ]
  },
  {
   "cell_type": "code",
   "execution_count": 2,
   "id": "701677be-5e8d-4609-a855-f14fdc17e618",
   "metadata": {},
   "outputs": [
    {
     "name": "stdout",
     "output_type": "stream",
     "text": [
      "2264\n",
      "['AG-3056591089315487744.txt', 'AG226054512382504960.txt', 'AG226055384153911296.txt', 'AG226245565081239552.txt']\n"
     ]
    }
   ],
   "source": [
    "label = ''\n",
    "new_labels = ''\n",
    "if not os.path.exists(new_labels): #判断所在目录下是否有该文件名的文件夹\n",
    "        os.mkdir(new_labels)\n",
    "path = os.listdir(label)\n",
    "print(len(path))\n",
    "print(path[:4])"
   ]
  },
  {
   "cell_type": "code",
   "execution_count": 4,
   "id": "38157c8e-d477-461c-8588-ba257d475751",
   "metadata": {},
   "outputs": [
    {
     "name": "stderr",
     "output_type": "stream",
     "text": [
      " 11%|█         | 238/2264 [00:00<00:00, 6357.11it/s]\n"
     ]
    },
    {
     "ename": "OSError",
     "evalue": "[Errno 5] Input/output error: '/media/boyan/移动硬盘/by_data/检测中心桥梁检测/蜂窝、麻面2/labels/AG230393038284140544.txt'",
     "output_type": "error",
     "traceback": [
      "\u001b[0;31m---------------------------------------------------------------------------\u001b[0m",
      "\u001b[0;31mOSError\u001b[0m                                   Traceback (most recent call last)",
      "Cell \u001b[0;32mIn [4], line 5\u001b[0m\n\u001b[1;32m      3\u001b[0m txt_path \u001b[38;5;241m=\u001b[39m label\u001b[38;5;241m+\u001b[39mpath[i]\n\u001b[1;32m      4\u001b[0m \u001b[38;5;28;01mwith\u001b[39;00m \u001b[38;5;28mopen\u001b[39m(filename, \u001b[38;5;124m'\u001b[39m\u001b[38;5;124mw+\u001b[39m\u001b[38;5;124m'\u001b[39m, encoding\u001b[38;5;241m=\u001b[39m\u001b[38;5;124m'\u001b[39m\u001b[38;5;124mutf-8\u001b[39m\u001b[38;5;124m'\u001b[39m) \u001b[38;5;28;01mas\u001b[39;00m out:\n\u001b[0;32m----> 5\u001b[0m     \u001b[38;5;28;01mwith\u001b[39;00m \u001b[38;5;28;43mopen\u001b[39;49m\u001b[43m(\u001b[49m\u001b[43mtxt_path\u001b[49m\u001b[43m,\u001b[49m\u001b[43m \u001b[49m\u001b[38;5;124;43m'\u001b[39;49m\u001b[38;5;124;43mr\u001b[39;49m\u001b[38;5;124;43m'\u001b[39;49m\u001b[43m)\u001b[49m \u001b[38;5;28;01mas\u001b[39;00m f:\n\u001b[1;32m      6\u001b[0m         has_1 \u001b[38;5;241m=\u001b[39m \u001b[38;5;28;01mFalse\u001b[39;00m\n\u001b[1;32m      7\u001b[0m         contents \u001b[38;5;241m=\u001b[39m f\u001b[38;5;241m.\u001b[39mreadlines()\n",
      "\u001b[0;31mOSError\u001b[0m: [Errno 5] Input/output error: '/media/boyan/移动硬盘/by_data/检测中心桥梁检测/蜂窝、麻面2/labels/AG230393038284140544.txt'"
     ]
    }
   ],
   "source": [
    "for i in tqdm(range(len(path))):\n",
    "    filename = new_labels + path[i]\n",
    "    txt_path = label+path[i]\n",
    "    with open(filename, 'w+', encoding='utf-8') as out:\n",
    "        with open(txt_path, 'r') as f:\n",
    "            has_1 = False\n",
    "            contents = f.readlines()\n",
    "            for line in contents:\n",
    "                #print(line)\n",
    "                c = line.split(' ')[0]\n",
    "                if c != '0':\n",
    "                    has_1 = True\n",
    "            for line in contents:\n",
    "                #print(line)\n",
    "                c = line.split(' ')\n",
    "                # if c[0] == '0':\n",
    "                #     continue\n",
    "                if has_1 and c[0] != '0':\n",
    "                    c[0] = '0'\n",
    "\n",
    "                out.write(' '.join(c))\n",
    "\n",
    "            "
   ]
  },
  {
   "cell_type": "code",
   "execution_count": null,
   "id": "f166dd35-60e3-49ca-b186-6caf5f8706a7",
   "metadata": {},
   "outputs": [],
   "source": []
  },
  {
   "cell_type": "code",
   "execution_count": null,
   "id": "6958da2d-315c-4799-a32d-7cf0a050f6c0",
   "metadata": {},
   "outputs": [],
   "source": []
  }
 ],
 "metadata": {
  "kernelspec": {
   "display_name": "Python 3 (ipykernel)",
   "language": "python",
   "name": "python3"
  },
  "language_info": {
   "codemirror_mode": {
    "name": "ipython",
    "version": 3
   },
   "file_extension": ".py",
   "mimetype": "text/x-python",
   "name": "python",
   "nbconvert_exporter": "python",
   "pygments_lexer": "ipython3",
   "version": "3.9.16"
  }
 },
 "nbformat": 4,
 "nbformat_minor": 5
}
