{
 "cells": [
  {
   "cell_type": "code",
   "execution_count": 5,
   "id": "1f883fb8-6291-411c-8b80-2b09439d8e60",
   "metadata": {},
   "outputs": [],
   "source": [
    "import os\n",
    "import shutil\n",
    "import numpy as np\n",
    "from tqdm import tqdm"
   ]
  },
  {
   "cell_type": "code",
   "execution_count": 6,
   "id": "a2678a33-8d76-4807-9f37-950a5f897cf4",
   "metadata": {},
   "outputs": [],
   "source": [
    "src_labels = 'E:/dataset/VOC/images/test2007/'\n",
    "src_images = 'E:/dataset/VOC/labels/test2007/'\n",
    "dst_images = 'E:/dataset/VOC/voc_fjdc/images/test2007/'\n",
    "dst_labels = 'E:/dataset/VOC/voc_fjdc/labels/test2007/'"
   ]
  },
  {
   "cell_type": "code",
   "execution_count": 7,
   "id": "d1714b5a-40fc-402b-9ebd-4ab47625217e",
   "metadata": {},
   "outputs": [],
   "source": [
    "src_labels_list = [i for i in os.listdir(src_labels)]\n",
    "src_images_list = [i for i in os.listdir(src_images)]"
   ]
  },
  {
   "cell_type": "code",
   "execution_count": 8,
   "id": "e1fdcdf1-704b-4e34-8e5a-1b66cbda024a",
   "metadata": {},
   "outputs": [
    {
     "name": "stdout",
     "output_type": "stream",
     "text": [
      "images:  4952\n",
      "labels:  4952\n"
     ]
    }
   ],
   "source": [
    "print('images: ', len(src_labels_list))\n",
    "print('labels: ', len(src_labels_list))"
   ]
  },
  {
   "cell_type": "code",
   "execution_count": 9,
   "id": "9995ffa3-7f6b-4284-9eb1-3b6abbe8161b",
   "metadata": {},
   "outputs": [],
   "source": [
    "if not os.path.exists(dst_images):\n",
    "    os.makedirs(dst_images)\n",
    "if not os.path.exists(dst_labels):\n",
    "    os.makedirs(dst_labels)"
   ]
  },
  {
   "cell_type": "code",
   "execution_count": 10,
   "id": "63560d34-bfc8-45c7-8cec-b92fde79cafb",
   "metadata": {},
   "outputs": [
    {
     "name": "stdout",
     "output_type": "stream",
     "text": [
      "['000001.txt', '000002.txt', '000003.txt']\n"
     ]
    }
   ],
   "source": [
    "files = [i for i in os.listdir(src_images)]\n",
    "print(files[:3])"
   ]
  },
  {
   "cell_type": "code",
   "execution_count": 28,
   "id": "31abcac4-1ad1-4cd8-b69e-a5c5b0a38dc7",
   "metadata": {},
   "outputs": [
    {
     "name": "stderr",
     "output_type": "stream",
     "text": [
      "100%|███████████████████████████████████████████████████████████████████████████| 10001/10001 [00:32<00:00, 309.31it/s]\n"
     ]
    }
   ],
   "source": [
    "# for file in tqdm(files):\n",
    "#     name = os.path.splitext(file)[0]\n",
    "#     if os.path.exists(os.path.join(src_labels, name + '.txt')):\n",
    "#         with open(os.path.join(src_labels, name + '.txt'), 'r') as raw_txt:\n",
    "#             # copied = False\n",
    "#             lines = [i.strip() for i in raw_txt.readlines()]\n",
    "#             if lines:\n",
    "#                 with open(os.path.join(dst_labels, name + '.txt'), 'w+') as dsr_txt:\n",
    "#                     for line in lines:\n",
    "#                         lbs = line.split(' ')\n",
    "#                         label = lbs[0]\n",
    "#                         if label in ['2', '3', '5', '7']:\n",
    "#                             pos = np.array([float(i) for i in lbs[1:]]).reshape((-1, 2))\n",
    "#                             xmin = pos[:, 0].min()\n",
    "#                             xmax = pos[:, 0].max()\n",
    "#                             ymin = pos[:, 1].min()\n",
    "#                             ymax = pos[:, 1].max()\n",
    "\n",
    "#                             x = (xmin + xmax) / 2\n",
    "#                             y = (ymin + ymax) / 2\n",
    "#                             w = xmax - xmin\n",
    "#                             h = ymax - ymin\n",
    "\n",
    "#                             dsr_txt.write('%s %f %f %f %f\\n' % (label, x, y, w, h))\n",
    "                            \n",
    "#     if os.path.exists(os.path.join(dst_labels, name + '.txt')) and os.path.getsize(os.path.join(dst_labels, name + '.txt')) == 0:\n",
    "#         os.remove(os.path.join(dst_labels, name + '.txt'))\n",
    "\n",
    "#     if os.path.exists(os.path.join(dst_labels, name + '.txt')):\n",
    "#         shutil.copyfile(os.path.join(src_images, file), os.path.join(dst_images, file))"
   ]
  },
  {
   "cell_type": "code",
   "execution_count": 20,
   "id": "217a994e-bc9b-4eb3-94e7-7fe3b962962f",
   "metadata": {},
   "outputs": [
    {
     "name": "stderr",
     "output_type": "stream",
     "text": [
      "100%|███████████████████████████████████████████████████████████████████████████| 4952/4952 [00:00<00:00, 34251.86it/s]\n"
     ]
    }
   ],
   "source": [
    "for file in tqdm(files):\n",
    "    name = os.path.splitext(file)[0]\n",
    "    if os.path.exists(os.path.join(src_labels, name + '.txt')):\n",
    "        with open(os.path.join(src_labels, name + '.txt'), 'r') as raw_txt:\n",
    "            copied = False\n",
    "            lines = [i.strip() for i in raw_txt.readlines()]\n",
    "            if lines:\n",
    "                with open(os.path.join(dst_labels, name + '.txt'), 'w+') as dsr_txt:\n",
    "                    for line in lines:\n",
    "                        lbs = line.split(' ')\n",
    "                        label = lbs[0]\n",
    "                        print(label)\n",
    "                        if label in ['11', '13']:\n",
    "                            # pos = np.array([float(i) for i in lbs[1:]]).reshape((-1, 2))\n",
    "                            # xmin = pos[:, 0].min()\n",
    "                            # xmax = pos[:, 0].max()\n",
    "                            # ymin = pos[:, 1].min()\n",
    "                            # ymax = pos[:, 1].max()\n",
    "\n",
    "                            x = float(lbs[1])\n",
    "                            y = float(lbs[2])\n",
    "                            w = float(lbs[3])\n",
    "                            h = float(lbs[4])\n",
    "                            \n",
    "                            dsr_txt.write('%s %f %f %f %f\\n' % (label, x, y, w, h))\n",
    "                            \n",
    "    # if os.path.exists(os.path.join(dst_labels, name + '.txt')) and os.path.getsize(os.path.join(dst_labels, name + '.txt')) == 0:\n",
    "    #     os.remove(os.path.join(dst_labels, name + '.txt'))\n",
    "\n",
    "    # if os.path.exists(os.path.join(dst_labels, name + '.txt')):\n",
    "    #     shutil.copyfile(os.path.join(src_images, file), os.path.join(dst_images, file))\n"
   ]
  },
  {
   "cell_type": "code",
   "execution_count": 31,
   "id": "fa16bc53-8e76-48b9-a329-42e09e0f63b1",
   "metadata": {},
   "outputs": [],
   "source": [
    "dst_images_files = [i for i in os.listdir(dst_images)]\n",
    "dst_labels_files = [i for i in os.listdir(dst_labels)]"
   ]
  },
  {
   "cell_type": "code",
   "execution_count": 32,
   "id": "1881770f-a974-4e84-830a-62d618309c0e",
   "metadata": {},
   "outputs": [
    {
     "name": "stdout",
     "output_type": "stream",
     "text": [
      "images:  2002\n",
      "labels:  2002\n"
     ]
    }
   ],
   "source": [
    "print('images: ', len(dst_images_files))\n",
    "print('labels: ', len(dst_labels_files))"
   ]
  },
  {
   "cell_type": "code",
   "execution_count": 26,
   "id": "9fcb78c6-2a4e-408a-806b-7d17d1296cc6",
   "metadata": {},
   "outputs": [
    {
     "name": "stdout",
     "output_type": "stream",
     "text": [
      "images:  1465\n",
      "labels:  1465\n"
     ]
    }
   ],
   "source": [
    "print('images: ', len(dst_images_files))\n",
    "print('labels: ', len(dst_labels_files))"
   ]
  },
  {
   "cell_type": "code",
   "execution_count": 19,
   "id": "6191bfb3-a7b4-4ce2-ab24-89b11891f7c3",
   "metadata": {},
   "outputs": [
    {
     "name": "stdout",
     "output_type": "stream",
     "text": [
      "images:  16126\n",
      "labels:  15503\n"
     ]
    }
   ],
   "source": [
    "print('images: ', len(dst_images_files))\n",
    "print('labels: ', len(dst_labels_files))"
   ]
  },
  {
   "cell_type": "code",
   "execution_count": null,
   "id": "ae3e5cf2-c46d-42fb-8c44-8e33d0f4e86e",
   "metadata": {},
   "outputs": [],
   "source": []
  },
  {
   "cell_type": "code",
   "execution_count": 1,
   "id": "a3deca2e-3e98-40f9-948a-bfc972a74b1c",
   "metadata": {},
   "outputs": [],
   "source": [
    "import os\n",
    "import shutil\n",
    "import numpy as np\n",
    "from tqdm import tqdm"
   ]
  },
  {
   "cell_type": "code",
   "execution_count": 4,
   "id": "568be610-8684-4276-b9c0-1f6e1fc29296",
   "metadata": {},
   "outputs": [],
   "source": [
    "def func1(src_images, src_labels, dst_images, dst_labels):\n",
    "    files = [i for i in os.listdir(src_images)]\n",
    "    print(len(files))\n",
    "    for file in tqdm(files):\n",
    "        name = os.path.splitext(file)[0]\n",
    "        if os.path.exists(os.path.join(src_labels, name + '.txt')):\n",
    "            with open(os.path.join(src_labels, name + '.txt'), 'r') as raw_txt:\n",
    "                copied = False\n",
    "                lines = [i.strip() for i in raw_txt.readlines()]\n",
    "                if lines:\n",
    "                    with open(os.path.join(dst_labels, name + '.txt'), 'w+') as dsr_txt:\n",
    "                        for line in lines:\n",
    "                            lbs = line.split(' ')\n",
    "                            label = lbs[0]\n",
    "                            if label in ['1', '13']:\n",
    "                                # pos = np.array([float(i) for i in lbs[1:]]).reshape((-1, 2))\n",
    "                                # xmin = pos[:, 0].min()\n",
    "                                # xmax = pos[:, 0].max()\n",
    "                                # ymin = pos[:, 1].min()\n",
    "                                # ymax = pos[:, 1].max()\n",
    "    \n",
    "                                x = float(lbs[1])\n",
    "                                y = float(lbs[2])\n",
    "                                w = float(lbs[3])\n",
    "                                h = float(lbs[4])\n",
    "                                \n",
    "                                dsr_txt.write('%s %f %f %f %f\\n' % (label, x, y, w, h))\n",
    "                                \n",
    "        if os.path.exists(os.path.join(dst_labels, name + '.txt')) and os.path.getsize(os.path.join(dst_labels, name + '.txt')) == 0:\n",
    "            os.remove(os.path.join(dst_labels, name + '.txt'))\n",
    "    \n",
    "        if os.path.exists(os.path.join(dst_labels, name + '.txt')):\n",
    "            shutil.copyfile(os.path.join(src_images, file), os.path.join(dst_images, file))\n"
   ]
  },
  {
   "cell_type": "code",
   "execution_count": 6,
   "id": "c711f26d-8483-4554-a863-289f09f772da",
   "metadata": {},
   "outputs": [
    {
     "name": "stdout",
     "output_type": "stream",
     "text": [
      "['test2007', 'train2007', 'train2012', 'val2007', 'val2012']\n",
      "4952\n"
     ]
    },
    {
     "name": "stderr",
     "output_type": "stream",
     "text": [
      "100%|████████████████████████████████████████████████████████████████████████████| 4952/4952 [00:02<00:00, 1786.30it/s]\n"
     ]
    },
    {
     "name": "stdout",
     "output_type": "stream",
     "text": [
      "2501\n"
     ]
    },
    {
     "name": "stderr",
     "output_type": "stream",
     "text": [
      "100%|████████████████████████████████████████████████████████████████████████████| 2501/2501 [00:01<00:00, 1935.56it/s]\n"
     ]
    },
    {
     "name": "stdout",
     "output_type": "stream",
     "text": [
      "5717\n"
     ]
    },
    {
     "name": "stderr",
     "output_type": "stream",
     "text": [
      "100%|████████████████████████████████████████████████████████████████████████████| 5717/5717 [00:03<00:00, 1865.17it/s]\n"
     ]
    },
    {
     "name": "stdout",
     "output_type": "stream",
     "text": [
      "2510\n"
     ]
    },
    {
     "name": "stderr",
     "output_type": "stream",
     "text": [
      "100%|████████████████████████████████████████████████████████████████████████████| 2510/2510 [00:01<00:00, 1951.50it/s]\n"
     ]
    },
    {
     "name": "stdout",
     "output_type": "stream",
     "text": [
      "5823\n"
     ]
    },
    {
     "name": "stderr",
     "output_type": "stream",
     "text": [
      "100%|████████████████████████████████████████████████████████████████████████████| 5823/5823 [00:03<00:00, 1887.45it/s]\n"
     ]
    }
   ],
   "source": [
    "ori_images_path = 'E:/dataset/VOC/images/'\n",
    "ori_labels_path = 'E:/dataset/VOC/labels/'\n",
    "new_images_path = 'E:/dataset/VOC/voc_fjdc/images/'\n",
    "new_labels_path = 'E:/dataset/VOC/voc_fjdc/labels/'\n",
    "\n",
    "small_dir = os.listdir(ori_images_path)\n",
    "print(small_dir)\n",
    "\n",
    "for i in small_dir:\n",
    "    src_images = ori_images_path + i\n",
    "    src_labels = ori_labels_path + i\n",
    "    dst_images = new_images_path + i\n",
    "    dst_labels = new_labels_path + i\n",
    "    if not os.path.exists(dst_images):\n",
    "        os.makedirs(dst_images)\n",
    "    if not os.path.exists(dst_labels):\n",
    "        os.makedirs(dst_labels)\n",
    "    # print(src_labels)\n",
    "    # print(src_images)\n",
    "    # print(dst_images)\n",
    "    # print(dst_labels)\n",
    "    func1(src_images, src_labels, dst_images, dst_labels)\n",
    "    \n",
    "\n",
    "\n",
    "\n"
   ]
  },
  {
   "cell_type": "code",
   "execution_count": null,
   "id": "fb4d9a2e-494e-4ef5-bfd4-09741e829fc2",
   "metadata": {},
   "outputs": [],
   "source": [
    "src_labels_list = [i for i in os.listdir(src_labels)]\n",
    "src_images_list = [i for i in os.listdir(src_images)]\n",
    "print('images: ', len(src_labels_list))\n",
    "print('labels: ', len(src_labels_list))"
   ]
  },
  {
   "cell_type": "code",
   "execution_count": null,
   "id": "3d02eb88-15b7-4cf9-ad0c-5d532c2ac41c",
   "metadata": {},
   "outputs": [],
   "source": []
  },
  {
   "cell_type": "code",
   "execution_count": null,
   "id": "bbd9e819-3713-40e7-932b-fcae3841fb0a",
   "metadata": {},
   "outputs": [],
   "source": []
  },
  {
   "cell_type": "code",
   "execution_count": null,
   "id": "c1167a90-e9c9-4bf0-bca4-fcdaa7e4176f",
   "metadata": {},
   "outputs": [],
   "source": [
    "files = [i for i in os.listdir(src_images)]\n",
    "for file in tqdm(files):\n",
    "    name = os.path.splitext(file)[0]\n",
    "    if os.path.exists(os.path.join(src_labels, name + '.txt')):\n",
    "        with open(os.path.join(src_labels, name + '.txt'), 'r') as raw_txt:\n",
    "            copied = False\n",
    "            lines = [i.strip() for i in raw_txt.readlines()]\n",
    "            if lines:\n",
    "                with open(os.path.join(dst_labels, name + '.txt'), 'w+') as dsr_txt:\n",
    "                    for line in lines:\n",
    "                        lbs = line.split(' ')\n",
    "                        label = lbs[0]\n",
    "                        if label in ['1', '13']:\n",
    "                            # pos = np.array([float(i) for i in lbs[1:]]).reshape((-1, 2))\n",
    "                            # xmin = pos[:, 0].min()\n",
    "                            # xmax = pos[:, 0].max()\n",
    "                            # ymin = pos[:, 1].min()\n",
    "                            # ymax = pos[:, 1].max()\n",
    "\n",
    "                            x = float(lbs[1])\n",
    "                            y = float(lbs[2])\n",
    "                            w = float(lbs[3])\n",
    "                            h = float(lbs[4])\n",
    "                            \n",
    "                            dsr_txt.write('%s %f %f %f %f\\n' % (label, x, y, w, h))\n",
    "                            \n",
    "    if os.path.getsize(os.path.join(dst_labels, name + '.txt')) == 0:\n",
    "        os.remove(os.path.join(dst_labels, name + '.txt'))\n",
    "\n",
    "    if os.path.exists(os.path.join(dst_labels, name + '.txt')):\n",
    "        shutil.copyfile(os.path.join(src_images, file), os.path.join(dst_images, file))\n"
   ]
  }
 ],
 "metadata": {
  "kernelspec": {
   "display_name": "torch",
   "language": "python",
   "name": "torch"
  },
  "language_info": {
   "codemirror_mode": {
    "name": "ipython",
    "version": 3
   },
   "file_extension": ".py",
   "mimetype": "text/x-python",
   "name": "python",
   "nbconvert_exporter": "python",
   "pygments_lexer": "ipython3",
   "version": "3.10.11"
  }
 },
 "nbformat": 4,
 "nbformat_minor": 5
}
