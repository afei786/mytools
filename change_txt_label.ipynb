{
 "cells": [
  {
   "cell_type": "code",
   "execution_count": 1,
   "id": "30bc38ac-3797-4008-8a3c-6c561058d6e4",
   "metadata": {},
   "outputs": [],
   "source": [
    "import os\n",
    "import shutil\n",
    "from tqdm import tqdm"
   ]
  },
  {
   "cell_type": "code",
   "execution_count": 2,
   "id": "701677be-5e8d-4609-a855-f14fdc17e618",
   "metadata": {},
   "outputs": [
    {
     "name": "stdout",
     "output_type": "stream",
     "text": [
      "281\n",
      "['labels', 'vlcsnap_00001.png', 'vlcsnap_00002.png', 'vlcsnap_00003.png']\n"
     ]
    }
   ],
   "source": [
    "label = ''\n",
    "new_labels = ''\n",
    "if not os.path.exists(new_labels): #判断所在目录下是否有该文件名的文件夹\n",
    "        os.mkdir(new_labels)\n",
    "path = os.listdir(label)\n",
    "print(len(path))\n",
    "print(path[:4])"
   ]
  },
  {
   "cell_type": "code",
   "execution_count": 7,
   "id": "38157c8e-d477-461c-8588-ba257d475751",
   "metadata": {},
   "outputs": [],
   "source": [
    "# copy_list = ['1', '3', '5']  # 要复制的标签的下标\n",
    "# for i in tqdm(range(len(path))):\n",
    "#     filename = new_labels + path[i]\n",
    "#     txt_path = label+path[i]\n",
    "#     with open(filename, 'w+', encoding='utf-8') as out:\n",
    "#         with open(txt_path, 'r') as f:\n",
    "#             copy_label = False\n",
    "#             contents = f.readlines()\n",
    "#             for line in contents:\n",
    "#                 #print(line)\n",
    "#                 c = line.split(' ')[0]\n",
    "#                 if c in copy_list:\n",
    "#                     # out.write(' '.join(c))\n",
    "#                     copy_label = True\n",
    "                \n",
    "#                 for line in contents:\n",
    "#                     #print(line)\n",
    "#                     c = line.split(' ')\n",
    "#                     # if c[0] == '0':\n",
    "#                     #     continue\n",
    "#                     if copy_label and c[0] in copy_list:\n",
    "#                         out.write(' '.join(c))\n",
    "\n",
    "                    \n",
    "# #               if c == '3':\n",
    "# #                     copy_label = True\n",
    "# #             for line in contents:\n",
    "# #                 #print(line)\n",
    "# #                 c = line.split(' ')\n",
    "# #                 # if c[0] == '0':\n",
    "# #                 #     continue\n",
    "# #                 if has_0 and c[0] == '3':\n",
    "# #                     c[0] = '1'\n",
    "\n",
    "# #                 out.write(' '.join(c))\n",
    "\n",
    "            "
   ]
  },
  {
   "cell_type": "code",
   "execution_count": null,
   "id": "5006268a-a717-45e9-8de9-8caee6eb5e97",
   "metadata": {},
   "outputs": [],
   "source": []
  },
  {
   "cell_type": "code",
   "execution_count": null,
   "id": "659a07e3-9d5b-45a8-920d-268703ea2216",
   "metadata": {},
   "outputs": [],
   "source": []
  },
  {
   "cell_type": "code",
   "execution_count": 3,
   "id": "f166dd35-60e3-49ca-b186-6caf5f8706a7",
   "metadata": {},
   "outputs": [
    {
     "name": "stderr",
     "output_type": "stream",
     "text": [
      "100%|█████████████████████████████████████████████████████████████████████████████| 2398/2398 [00:08<00:00, 276.40it/s]\n"
     ]
    }
   ],
   "source": [
    "for i in tqdm(range(len(path))):\n",
    "    filename = new_labels + path[i]\n",
    "    txt_path = label+path[i]\n",
    "    with open(filename, 'w+', encoding='utf-8') as out:\n",
    "        with open(txt_path, 'r') as f:\n",
    "            copy_label = False\n",
    "            contents = f.readlines()\n",
    "            for line in contents:\n",
    "                #print(line)\n",
    "                c = line.split(' ')[0]\n",
    "                if c != '0':\n",
    "                    copy_label = True\n",
    "            for line in contents:\n",
    "                #print(line)\n",
    "                c = line.split(' ')\n",
    "                # if c[0] == '0':\n",
    "                #     continue\n",
    "                if copy_label and c[0] != '0':\n",
    "                    c[0] = '0'\n",
    "\n",
    "                out.write(' '.join(c))\n",
    "\n",
    "            "
   ]
  },
  {
   "cell_type": "code",
   "execution_count": null,
   "id": "3a04361e-3bc8-4343-b563-2c9c70111dd2",
   "metadata": {},
   "outputs": [],
   "source": [
    "\n",
    "\n",
    "            "
   ]
  },
  {
   "cell_type": "code",
   "execution_count": 9,
   "id": "598b2f76-7359-4541-a5c5-a6dcb85831ac",
   "metadata": {
    "tags": []
   },
   "outputs": [
    {
     "name": "stderr",
     "output_type": "stream",
     "text": [
      "100%|██████████████████████████████████████████████████████████████████████████████| 339/339 [00:00<00:00, 8993.88it/s]\n"
     ]
    }
   ],
   "source": [
    "# 删除空文本文件\n",
    "for filename in tqdm(os.listdir(new_labels)):\n",
    "    # 判断是否为文本文件\n",
    "    if filename.endswith(\".txt\"):\n",
    "        # 判断文件是否为空\n",
    "        if os.path.getsize(os.path.join(new_labels, filename)) == 0:\n",
    "            # 删除文件\n",
    "            os.remove(os.path.join(new_labels, filename))"
   ]
  },
  {
   "cell_type": "code",
   "execution_count": null,
   "id": "6958da2d-315c-4799-a32d-7cf0a050f6c0",
   "metadata": {},
   "outputs": [],
   "source": []
  }
 ],
 "metadata": {
  "kernelspec": {
   "display_name": "Python 3 (ipykernel)",
   "language": "python",
   "name": "python3"
  },
  "language_info": {
   "codemirror_mode": {
    "name": "ipython",
    "version": 3
   },
   "file_extension": ".py",
   "mimetype": "text/x-python",
   "name": "python",
   "nbconvert_exporter": "python",
   "pygments_lexer": "ipython3",
   "version": "3.9.16"
  }
 },
 "nbformat": 4,
 "nbformat_minor": 5
}
