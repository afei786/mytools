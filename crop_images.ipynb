{
 "cells": [
  {
   "cell_type": "code",
   "execution_count": 1,
   "id": "dd1179df-9fb6-4552-b390-08a0d43d11a4",
   "metadata": {},
   "outputs": [
    {
     "name": "stderr",
     "output_type": "stream",
     "text": [
      "100%|████████████████████████████████████████████████████████████████████████████████| 153/153 [04:41<00:00,  1.84s/it]\n"
     ]
    }
   ],
   "source": [
    "from PIL import Image\n",
    "import os\n",
    "from tqdm import tqdm\n",
    "\n",
    "def crop_image(image_path, output_dir, image_name, size=(1024, 1024)):\n",
    "    img = Image.open(image_path)\n",
    "    width, height = img.size\n",
    "    num_rows = height // size[1] # 2\n",
    "    num_cols = width // size[0] + 1  # 4\n",
    "    \n",
    "    for row in range(num_rows):\n",
    "        for col in range(num_cols):\n",
    "            left = col * size[0]    # 0  1024 2048\n",
    "            upper = row * size[1]    # 0 1024 2048 \n",
    "            right = left + size[0]    # 1024  2048\n",
    "            lower = upper + size[1]    # 1024  1024\n",
    "            \n",
    "            # Crop the region of interest\n",
    "            cropped_img = img.crop((left, upper, right, lower))\n",
    "            \n",
    "            # Save the cropped image\n",
    "            output_path = f\"{output_dir}/{image_name.split('.')[0]}_{row}_{col}.png\"\n",
    "            cropped_img.save(output_path)\n",
    "\n",
    "# Example usage\n",
    "\n",
    "input_image_dir = \"E:/puzhou_train/fire/puzhou_fire/images2/\"\n",
    "output_directory = \"E:/puzhou_train/fire/puzhou_fire/crop_images/\"\n",
    "if not os.path.exists(output_directory):\n",
    "    os.makedirs(output_directory)\n",
    "\n",
    "image_names = os.listdir(input_image_dir)\n",
    "# print(image_names[0].split('.')[0])\n",
    "for image_name in tqdm(image_names):\n",
    "    input_image_path = os.path.join(input_image_dir, image_name)\n",
    "    crop_image(input_image_path, output_directory, image_name)\n"
   ]
  },
  {
   "cell_type": "code",
   "execution_count": null,
   "id": "27b8a259-4d32-4dda-8d5e-970596cc0e93",
   "metadata": {},
   "outputs": [],
   "source": []
  }
 ],
 "metadata": {
  "kernelspec": {
   "display_name": "torch",
   "language": "python",
   "name": "torch"
  },
  "language_info": {
   "codemirror_mode": {
    "name": "ipython",
    "version": 3
   },
   "file_extension": ".py",
   "mimetype": "text/x-python",
   "name": "python",
   "nbconvert_exporter": "python",
   "pygments_lexer": "ipython3",
   "version": "3.10.11"
  }
 },
 "nbformat": 4,
 "nbformat_minor": 5
}
