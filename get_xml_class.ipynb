{
 "cells": [
  {
   "cell_type": "code",
   "execution_count": 1,
   "id": "dc2c04f6-1246-4076-98ac-0a5219f8a0fd",
   "metadata": {
    "tags": []
   },
   "outputs": [],
   "source": [
    "import os\n",
    "from tqdm import tqdm\n",
    "import xml.dom.minidom"
   ]
  },
  {
   "cell_type": "code",
   "execution_count": 2,
   "id": "b6c4b7e4-304c-4bd2-853a-847f50c2e6c1",
   "metadata": {
    "tags": []
   },
   "outputs": [],
   "source": [
    "def ReadXml(FilePath):\n",
    "    if os.path.exists(FilePath) is False:\n",
    "        return None\n",
    "    dom = xml.dom.minidom.parse(FilePath)\n",
    "    root_ = dom.documentElement\n",
    "    object_ = root_.getElementsByTagName('object')\n",
    "    info = []\n",
    "    for object_1 in object_:\n",
    "        name = object_1.getElementsByTagName(\"name\")[0].firstChild.data\n",
    "        bndbox = object_1.getElementsByTagName(\"bndbox\")[0]\n",
    "        xmin = int(bndbox.getElementsByTagName(\"xmin\")[0].firstChild.data)\n",
    "        ymin = int(bndbox.getElementsByTagName(\"ymin\")[0].firstChild.data)\n",
    "        xmax = int(bndbox.getElementsByTagName(\"xmax\")[0].firstChild.data)\n",
    "        ymax = int(bndbox.getElementsByTagName(\"ymax\")[0].firstChild.data)\n",
    "        info.append([xmin, ymin, xmax, ymax, name])\n",
    "    return info\n",
    "\n",
    "\n",
    "def CountLabelKind(Path):\n",
    "    LabelDict = {}\n",
    "    # 所要寻找的标签\n",
    "    label_list = ['0', '1',\"Excavator\"]\n",
    "    \n",
    "    print(\"Star to count label kinds....\")\n",
    "    for root, dirs, files in os.walk(Path):\n",
    "        for file in tqdm(files):\n",
    "            if file[-1] == 'l':\n",
    "                try:\n",
    "                    Infos = ReadXml(root + \"\\\\\" + file)\n",
    "                except:\n",
    "                    print('load:', root + \"\\\\\" + file, 'error')\n",
    "                    continue\n",
    "                for Info in Infos:\n",
    "                    if Info[-1] in label_list:\n",
    "                        print(file)\n",
    "                    if Info[-1] not in LabelDict.keys():\n",
    "                        LabelDict[Info[-1]] = 1\n",
    "                    else:\n",
    "                        LabelDict[Info[-1]] += 1\n",
    "\n",
    "    return dict(sorted(LabelDict.items(), key=lambda x: x[0]))\n"
   ]
  },
  {
   "cell_type": "code",
   "execution_count": 3,
   "id": "4e8c7662-c11a-4fcd-931b-26232c8b7736",
   "metadata": {
    "tags": []
   },
   "outputs": [
    {
     "name": "stdout",
     "output_type": "stream",
     "text": [
      "Star to count label kinds....\n"
     ]
    },
    {
     "name": "stderr",
     "output_type": "stream",
     "text": [
      "100%|██████████████████████████████████████████████████████████████████████████████| 869/869 [00:00<00:00, 1701.45it/s]"
     ]
    },
    {
     "name": "stdout",
     "output_type": "stream",
     "text": [
      "3 kind labels and 2652 labels in total:\n",
      "['ttc', 'wjj', 'ztc']\n",
      "Label Name and it's number:\n",
      "ttc\t: 155\n",
      "wjj\t: 1784\n",
      "ztc\t: 713\n"
     ]
    },
    {
     "name": "stderr",
     "output_type": "stream",
     "text": [
      "\n"
     ]
    }
   ],
   "source": [
    "SrcDir = r\"D:/temp_dataset/puzhou_ztc/zhatuche_xml/\"\n",
    "\n",
    "LabelDict = CountLabelKind(SrcDir)\n",
    "KeyDict = sorted(LabelDict)\n",
    "print(\"%d kind labels and %d labels in total:\" % (len(KeyDict), sum(LabelDict.values())))\n",
    "print(KeyDict)\n",
    "print(\"Label Name and it's number:\")\n",
    "for key in KeyDict:\n",
    "    print(\"%s\\t: %d\" % (key, LabelDict[key]))\n",
    "\n"
   ]
  },
  {
   "cell_type": "code",
   "execution_count": 4,
   "id": "1836775d-5ee7-4d04-be35-83885f2dc63b",
   "metadata": {
    "tags": []
   },
   "outputs": [
    {
     "name": "stdout",
     "output_type": "stream",
     "text": [
      "Star to count label kinds....\n"
     ]
    },
    {
     "name": "stderr",
     "output_type": "stream",
     "text": [
      "100%|███████████████████████████████████████████████████████████████████████████████| 978/978 [00:03<00:00, 261.24it/s]"
     ]
    },
    {
     "name": "stdout",
     "output_type": "stream",
     "text": [
      "4 kind labels and 7903 labels in total:\n",
      "['jzlaji', 'ttc', 'wjj', 'ztc']\n",
      "Label Name and it's number:\n",
      "jzlaji\t: 5251\n",
      "ttc\t: 155\n",
      "wjj\t: 1784\n",
      "ztc\t: 713\n"
     ]
    },
    {
     "name": "stderr",
     "output_type": "stream",
     "text": [
      "\n"
     ]
    }
   ],
   "source": [
    "SrcDir = r\"D:/temp_dataset/puzhou_ztc/all_xml/\"\n",
    "\n",
    "LabelDict = CountLabelKind(SrcDir)\n",
    "KeyDict = sorted(LabelDict)\n",
    "print(\"%d kind labels and %d labels in total:\" % (len(KeyDict), sum(LabelDict.values())))\n",
    "print(KeyDict)\n",
    "print(\"Label Name and it's number:\")\n",
    "for key in KeyDict:\n",
    "    print(\"%s\\t: %d\" % (key, LabelDict[key]))"
   ]
  },
  {
   "cell_type": "code",
   "execution_count": 5,
   "id": "b3e8f39c-a32d-4877-9ede-07ddd918fc40",
   "metadata": {},
   "outputs": [
    {
     "name": "stdout",
     "output_type": "stream",
     "text": [
      "Star to count label kinds....\n"
     ]
    },
    {
     "name": "stderr",
     "output_type": "stream",
     "text": [
      "100%|█████████████████████████████████████████████████████████████████████████████| 895/895 [00:03<00:00, 233.02it/s]"
     ]
    },
    {
     "name": "stdout",
     "output_type": "stream",
     "text": [
      "2 kind labels and 1432 labels in total:\n",
      "['fire', 'smoke']\n",
      "Label Name and it's number:\n",
      "fire\t: 347\n",
      "smoke\t: 1085\n"
     ]
    },
    {
     "name": "stderr",
     "output_type": "stream",
     "text": [
      "\n"
     ]
    }
   ],
   "source": [
    "SrcDir = r\"E:\\puzhou_train\\fire_smoke\\puzhou3\\labels\"\n",
    "\n",
    "LabelDict = CountLabelKind(SrcDir)\n",
    "KeyDict = sorted(LabelDict)\n",
    "print(\"%d kind labels and %d labels in total:\" % (len(KeyDict), sum(LabelDict.values())))\n",
    "print(KeyDict)\n",
    "print(\"Label Name and it's number:\")\n",
    "for key in KeyDict:\n",
    "    print(\"%s\\t: %d\" % (key, LabelDict[key]))"
   ]
  },
  {
   "cell_type": "code",
   "execution_count": 6,
   "id": "026efe54-6759-49eb-841f-51bf13574ad0",
   "metadata": {},
   "outputs": [
    {
     "name": "stdout",
     "output_type": "stream",
     "text": [
      "Star to count label kinds....\n"
     ]
    },
    {
     "name": "stderr",
     "output_type": "stream",
     "text": [
      "100%|█████████████████████████████████████████████████████████████████████████████| 384/384 [00:01<00:00, 233.74it/s]"
     ]
    },
    {
     "name": "stdout",
     "output_type": "stream",
     "text": [
      "2 kind labels and 583 labels in total:\n",
      "['fire', 'smoke']\n",
      "Label Name and it's number:\n",
      "fire\t: 199\n",
      "smoke\t: 384\n"
     ]
    },
    {
     "name": "stderr",
     "output_type": "stream",
     "text": [
      "\n"
     ]
    }
   ],
   "source": [
    "SrcDir = r\"E:\\puzhou_train\\fire_smoke\\puzhou6\\labels\"\n",
    "\n",
    "LabelDict = CountLabelKind(SrcDir)\n",
    "KeyDict = sorted(LabelDict)\n",
    "print(\"%d kind labels and %d labels in total:\" % (len(KeyDict), sum(LabelDict.values())))\n",
    "print(KeyDict)\n",
    "print(\"Label Name and it's number:\")\n",
    "for key in KeyDict:\n",
    "    print(\"%s\\t: %d\" % (key, LabelDict[key]))"
   ]
  },
  {
   "cell_type": "code",
   "execution_count": 13,
   "id": "d40d349f-5d6e-476c-bb54-6e849744ec9a",
   "metadata": {},
   "outputs": [
    {
     "name": "stdout",
     "output_type": "stream",
     "text": [
      "Star to count label kinds....\n"
     ]
    },
    {
     "name": "stderr",
     "output_type": "stream",
     "text": [
      "100%|█████████████████████████████████████████████████████████████████████████████| 724/724 [00:02<00:00, 248.90it/s]"
     ]
    },
    {
     "name": "stdout",
     "output_type": "stream",
     "text": [
      "1 kind labels and 769 labels in total:\n",
      "['smoke']\n",
      "Label Name and it's number:\n",
      "smoke\t: 769\n"
     ]
    },
    {
     "name": "stderr",
     "output_type": "stream",
     "text": [
      "\n"
     ]
    }
   ],
   "source": [
    "SrcDir = r\"E:\\puzhou_train\\fire_smoke\\puzhou1\\guanshan\\labels\"\n",
    "\n",
    "LabelDict = CountLabelKind(SrcDir)\n",
    "KeyDict = sorted(LabelDict)\n",
    "print(\"%d kind labels and %d labels in total:\" % (len(KeyDict), sum(LabelDict.values())))\n",
    "print(KeyDict)\n",
    "print(\"Label Name and it's number:\")\n",
    "for key in KeyDict:\n",
    "    print(\"%s\\t: %d\" % (key, LabelDict[key]))"
   ]
  },
  {
   "cell_type": "code",
   "execution_count": null,
   "id": "1d0b2377-4161-4186-8157-d2f3600c3093",
   "metadata": {},
   "outputs": [],
   "source": []
  }
 ],
 "metadata": {
  "kernelspec": {
   "display_name": "Python 3 (ipykernel)",
   "language": "python",
   "name": "python3"
  },
  "language_info": {
   "codemirror_mode": {
    "name": "ipython",
    "version": 3
   },
   "file_extension": ".py",
   "mimetype": "text/x-python",
   "name": "python",
   "nbconvert_exporter": "python",
   "pygments_lexer": "ipython3",
   "version": "3.9.16"
  }
 },
 "nbformat": 4,
 "nbformat_minor": 5
}
