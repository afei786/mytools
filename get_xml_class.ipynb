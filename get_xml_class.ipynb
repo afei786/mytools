{
 "cells": [
  {
   "cell_type": "code",
   "execution_count": 1,
   "id": "dc2c04f6-1246-4076-98ac-0a5219f8a0fd",
   "metadata": {
    "tags": []
   },
   "outputs": [],
   "source": [
    "import os\n",
    "from tqdm import tqdm\n",
    "import xml.dom.minidom"
   ]
  },
  {
   "cell_type": "code",
   "execution_count": 2,
   "id": "b6c4b7e4-304c-4bd2-853a-847f50c2e6c1",
   "metadata": {
    "tags": []
   },
   "outputs": [],
   "source": [
    "def ReadXml(FilePath):\n",
    "    if os.path.exists(FilePath) is False:\n",
    "        return None\n",
    "    dom = xml.dom.minidom.parse(FilePath)\n",
    "    root_ = dom.documentElement\n",
    "    object_ = root_.getElementsByTagName('object')\n",
    "    info = []\n",
    "    for object_1 in object_:\n",
    "        name = object_1.getElementsByTagName(\"name\")[0].firstChild.data\n",
    "        bndbox = object_1.getElementsByTagName(\"bndbox\")[0]\n",
    "        xmin = int(bndbox.getElementsByTagName(\"xmin\")[0].firstChild.data)\n",
    "        ymin = int(bndbox.getElementsByTagName(\"ymin\")[0].firstChild.data)\n",
    "        xmax = int(bndbox.getElementsByTagName(\"xmax\")[0].firstChild.data)\n",
    "        ymax = int(bndbox.getElementsByTagName(\"ymax\")[0].firstChild.data)\n",
    "        info.append([xmin, ymin, xmax, ymax, name])\n",
    "    return info\n",
    "\n",
    "\n",
    "def CountLabelKind(Path):\n",
    "    LabelDict = {}\n",
    "    # 所要寻找的标签\n",
    "    label_list = ['0', '1',\"Excavator\"]\n",
    "    \n",
    "    print(\"Star to count label kinds....\")\n",
    "    for root, dirs, files in os.walk(Path):\n",
    "        for file in tqdm(files):\n",
    "            if file[-1] == 'l':\n",
    "                try:\n",
    "                    Infos = ReadXml(root + \"\\\\\" + file)\n",
    "                except:\n",
    "                    print('load:', root + \"\\\\\" + file, 'error')\n",
    "                    continue\n",
    "                for Info in Infos:\n",
    "                    if Info[-1] in label_list:\n",
    "                        print(file)\n",
    "                    if Info[-1] not in LabelDict.keys():\n",
    "                        LabelDict[Info[-1]] = 1\n",
    "                    else:\n",
    "                        LabelDict[Info[-1]] += 1\n",
    "\n",
    "    return dict(sorted(LabelDict.items(), key=lambda x: x[0]))\n"
   ]
  },
  {
   "cell_type": "code",
   "execution_count": null,
   "id": "4e8c7662-c11a-4fcd-931b-26232c8b7736",
   "metadata": {
    "tags": []
   },
   "outputs": [],
   "source": [
    "SrcDir = r\" \"\n",
    "\n",
    "LabelDict = CountLabelKind(SrcDir)\n",
    "KeyDict = sorted(LabelDict)\n",
    "print(\"%d kind labels and %d labels in total:\" % (len(KeyDict), sum(LabelDict.values())))\n",
    "print(KeyDict)\n",
    "print(\"Label Name and it's number:\")\n",
    "for key in KeyDict:\n",
    "    print(\"%s\\t: %d\" % (key, LabelDict[key]))\n",
    "\n"
   ]
  }
 ],
 "metadata": {
  "kernelspec": {
   "display_name": "Python 3 (ipykernel)",
   "language": "python",
   "name": "python3"
  },
  "language_info": {
   "codemirror_mode": {
    "name": "ipython",
    "version": 3
   },
   "file_extension": ".py",
   "mimetype": "text/x-python",
   "name": "python",
   "nbconvert_exporter": "python",
   "pygments_lexer": "ipython3",
   "version": "3.9.16"
  }
 },
 "nbformat": 4,
 "nbformat_minor": 5
}
