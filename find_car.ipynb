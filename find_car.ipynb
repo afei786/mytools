{
 "cells": [
  {
   "cell_type": "code",
   "execution_count": 5,
   "id": "898fc352-e317-4e08-a6ef-d9df9f6d6a44",
   "metadata": {
    "tags": []
   },
   "outputs": [],
   "source": [
    "import os\n",
    "import shutil\n",
    "from tqdm import tqdm"
   ]
  },
  {
   "cell_type": "code",
   "execution_count": 3,
   "id": "3b884bd4-e40f-4b18-9cb7-d5266456d951",
   "metadata": {
    "tags": []
   },
   "outputs": [
    {
     "name": "stdout",
     "output_type": "stream",
     "text": [
      "['000000241677.txt', '000000565624.txt', '000000318455.txt']\n"
     ]
    }
   ],
   "source": [
    "label_path = ''\n",
    "label_file = os.listdir(label_path)\n",
    "print(label_file[:3])\n",
    "\n",
    "car_labels = ''\n",
    "if not os.path.exists(car_labels):\n",
    "    os.mkdir(car_labels)"
   ]
  },
  {
   "cell_type": "code",
   "execution_count": null,
   "id": "3311ef5d-d713-4d45-8d6d-5a0e82b3dddb",
   "metadata": {},
   "outputs": [],
   "source": [
    "for i in tqdm(range(len(label_file))):\n",
    "    filename = new_labels + label_file[i]\n",
    "    txt_path = label_path+label_file[i]\n",
    "    with open(filename, 'w+', encoding='utf-8') as out:\n",
    "        with open(txt_path, 'r') as f:\n",
    "            has_1 = False\n",
    "            contents = f.readlines()\n",
    "            for line in contents:\n",
    "                #print(line)\n",
    "                c = line.split(' ')[0]\n",
    "                if c != '0':\n",
    "                    has_1 = True\n",
    "            for line in contents:\n",
    "                #print(line)\n",
    "                c = line.split(' ')\n",
    "                # if c[0] == '0':\n",
    "                #     continue\n",
    "                if has_1 and c[0] != '0':\n",
    "                    c[0] = '0'\n",
    "\n",
    "                out.write(' '.join(c))\n"
   ]
  }
 ],
 "metadata": {
  "kernelspec": {
   "display_name": "Python 3 (ipykernel)",
   "language": "python",
   "name": "python3"
  },
  "language_info": {
   "codemirror_mode": {
    "name": "ipython",
    "version": 3
   },
   "file_extension": ".py",
   "mimetype": "text/x-python",
   "name": "python",
   "nbconvert_exporter": "python",
   "pygments_lexer": "ipython3",
   "version": "3.9.16"
  }
 },
 "nbformat": 4,
 "nbformat_minor": 5
}
