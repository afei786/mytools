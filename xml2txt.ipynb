{
 "cells": [
  {
   "cell_type": "code",
   "execution_count": 1,
   "id": "ed482a84-da4f-4343-b448-d1345896027e",
   "metadata": {},
   "outputs": [],
   "source": [
    "import xml.etree.ElementTree as ET\n",
    "import os\n",
    "from os import getcwd\n",
    "from os.path import join\n",
    "import glob\n",
    "import shutil\n",
    "from tqdm import tqdm"
   ]
  },
  {
   "cell_type": "code",
   "execution_count": 9,
   "id": "2f6a435f-2368-4103-8967-2ba33903dcfc",
   "metadata": {},
   "outputs": [
    {
     "name": "stdout",
     "output_type": "stream",
     "text": [
      "869\n"
     ]
    }
   ],
   "source": [
    "# classes = ['c','1','2','3','4']  # 标注时的标签\n",
    "classes = [\"wjj\", \"ztc\", \"ttc\",'jzlaji']\n",
    "data_dir='D:/temp_dataset/puzhou_ztc/'\n",
    "xml = 'zhatuche_xml'\n",
    "txt = 'zhatuche_txt2'\n",
    "\n",
    "xml_path = os.path.join(data_dir, xml)\n",
    "txt_path = os.path.join(data_dir, txt)\n",
    "if not os.path.exists(txt_path): #判断所在目录下是否有该文件名的文件夹\n",
    "    os.mkdir(txt_path) \n",
    "xml_files = os.listdir(xml_path)\n",
    "print(len(xml_files))\n"
   ]
  },
  {
   "cell_type": "code",
   "execution_count": 10,
   "id": "4b573d7d-bae1-4f6c-9f74-a45eb77e6b22",
   "metadata": {},
   "outputs": [
    {
     "name": "stdout",
     "output_type": "stream",
     "text": [
      "869 个文件\n"
     ]
    },
    {
     "name": "stderr",
     "output_type": "stream",
     "text": [
      "100%|██████████████████████████████████████████████████████████████████████████████| 869/869 [00:00<00:00, 1907.58it/s]"
     ]
    },
    {
     "name": "stdout",
     "output_type": "stream",
     "text": [
      "Over!!!\n"
     ]
    },
    {
     "name": "stderr",
     "output_type": "stream",
     "text": [
      "\n"
     ]
    }
   ],
   "source": [
    "'''\n",
    "xml中框的左上角坐标和右下角坐标(x1,y1,x2,y2)\n",
    "》》txt中的中心点坐标和宽和高(x,y,w,h)，并且归一化\n",
    "'''\n",
    "def convert(size, box):\n",
    "    dw = 1. / size[0]\n",
    "    dh = 1. / size[1]\n",
    "    x = (box[0] + box[1]) / 2.0\n",
    "    y = (box[2] + box[3]) / 2.0\n",
    "    w = box[1] - box[0]\n",
    "    h = box[3] - box[2]\n",
    "    x = x * dw\n",
    "    w = w * dw\n",
    "    y = y * dh\n",
    "    h = h * dh\n",
    "    return (x, y, w, h)\n",
    "    \n",
    "def convert_annotation(xml_path,txt_path,file_name,fname):\n",
    "    in_file = open(os.path.join(xml_path, file_name), encoding='utf-8') #读取xml\n",
    "    out_file = open(os.path.join(txt_path, fname+'.txt'), 'w') #保存txt\n",
    "    \n",
    "    tree = ET.parse(in_file)\n",
    "    root = tree.getroot()\n",
    "    size = root.find('size')\n",
    "    w = int(size.find('width').text)\n",
    "    h = int(size.find('height').text)\n",
    "    for obj in root.iter('object'):\n",
    "        # difficult = obj.find('difficult').text\n",
    "        cls = obj.find('name').text\n",
    "        # if cls not in classes or int(difficult) == 1:\n",
    "        if cls not in classes:\n",
    "            continue\n",
    "        cls_id = classes.index(cls)#获取类别索引\n",
    "        xmlbox = obj.find('bndbox')\n",
    "        b = (float(xmlbox.find('xmin').text), float(xmlbox.find('xmax').text), float(xmlbox.find('ymin').text),\n",
    "             float(xmlbox.find('ymax').text))\n",
    "        bb = convert((w, h), b)\n",
    "        out_file.write(str(cls_id) + \" \" + \" \".join([str('%.6f'%a) for a in bb]) + '\\n')\n",
    "print(len(xml_files),'个文件')  \n",
    "\n",
    "\n",
    "for file_name in tqdm(xml_files):\n",
    "    fname = file_name.split('.xml')[0]\n",
    "    convert_annotation(xml_path,txt_path,file_name,fname)\n",
    "print(\"Over!!!\")  \n"
   ]
  },
  {
   "cell_type": "code",
   "execution_count": 11,
   "id": "852297ae-59d1-4324-a8a2-3ae3812255d4",
   "metadata": {},
   "outputs": [
    {
     "name": "stderr",
     "output_type": "stream",
     "text": [
      "100%|█████████████████████████████████████████████████████████████████████████████| 869/869 [00:00<00:00, 13317.49it/s]\n"
     ]
    }
   ],
   "source": [
    "# 删除空文本文件\n",
    "for filename in tqdm(os.listdir(txt_path)):\n",
    "    # 判断是否为文本文件\n",
    "    if filename.endswith(\".txt\"):\n",
    "        # 判断文件是否为空\n",
    "        if os.path.getsize(os.path.join(txt_path, filename)) == 0:\n",
    "            # 删除文件\n",
    "            os.remove(os.path.join(txt_path, filename))"
   ]
  },
  {
   "cell_type": "code",
   "execution_count": null,
   "id": "c7fc4ba6-b885-440d-bdad-79a91c5d43db",
   "metadata": {},
   "outputs": [],
   "source": []
  }
 ],
 "metadata": {
  "kernelspec": {
   "display_name": "Python 3 (ipykernel)",
   "language": "python",
   "name": "python3"
  },
  "language_info": {
   "codemirror_mode": {
    "name": "ipython",
    "version": 3
   },
   "file_extension": ".py",
   "mimetype": "text/x-python",
   "name": "python",
   "nbconvert_exporter": "python",
   "pygments_lexer": "ipython3",
   "version": "3.9.16"
  }
 },
 "nbformat": 4,
 "nbformat_minor": 5
}
